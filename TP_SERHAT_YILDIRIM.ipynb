{
 "cells": [
  {
   "cell_type": "markdown",
   "metadata": {},
   "source": [
    "## IMPORT & LOAD"
   ]
  },
  {
   "cell_type": "markdown",
   "metadata": {},
   "source": [
    "Avant de commencer nous devons importer les librairies que nous allons utiliser.\n"
   ]
  },
  {
   "cell_type": "code",
   "execution_count": 3,
   "metadata": {},
   "outputs": [],
   "source": [
    "#DataFrames\n",
    "import pandas as pd\n",
    "\n",
    "import re\n",
    "\n",
    "# TABS\n",
    "import numpy as np\n",
    "\n",
    "# Graphics\n",
    "import matplotlib.pyplot as plt\n",
    "%matplotlib inline\n",
    "\n",
    "import seaborn as sn\n",
    "\n",
    "# Pour gerer les affichages\n",
    "import warnings\n",
    "warnings.filterwarnings('ignore')"
   ]
  },
  {
   "cell_type": "code",
   "execution_count": 2,
   "metadata": {},
   "outputs": [],
   "source": [
    "pd.set_option('float_format', '{:f}'.format)"
   ]
  },
  {
   "cell_type": "code",
   "execution_count": 3,
   "metadata": {},
   "outputs": [],
   "source": [
    "df = pd.read_csv('Data_cars.csv')\n",
    "df_copy = df"
   ]
  },
  {
   "cell_type": "markdown",
   "metadata": {},
   "source": [
    "------\n",
    "# Functions"
   ]
  },
  {
   "cell_type": "markdown",
   "metadata": {},
   "source": [
    "Pandant cet exercice nous allons avoir besoin d'un certain nombre de fonctions qui seront utiles lors de tâches répétitives.\n",
    "Exemple : \n",
    "- Convertir des champs en type Integer\n",
    "- Générer des modèles\n",
    "- Prédrire des données avec le modèle généré\n",
    "- MAPE : calculer la précision du modèle"
   ]
  },
  {
   "cell_type": "code",
   "execution_count": 4,
   "metadata": {},
   "outputs": [],
   "source": [
    "#Convert field to Integer\n",
    "def to_int(df, field):\n",
    "    _= list(df[field].unique())\n",
    "    df[field] = df[field].map(lambda x : _.index(x))\n",
    "    return df\n",
    "    "
   ]
  },
  {
   "cell_type": "code",
   "execution_count": 5,
   "metadata": {},
   "outputs": [],
   "source": [
    "# Generate RandomForest Model\n",
    "def _generate_model(df, selection, y,):\n",
    "    rf = RandomForestRegressor(n_estimators=200, min_samples_leaf=8, min_samples_split=15, n_jobs=-1, max_depth=8)\n",
    "    # SPLIT\n",
    "    X = df[selection]\n",
    "    X_train, X_test, y_train, y_test = train_test_split(X, y, test_size=0.2, random_state=42)\n",
    "    #TRAIN\n",
    "    rf.fit(X_train, y_train)\n",
    "    return rf, X_test ,y_test"
   ]
  },
  {
   "cell_type": "code",
   "execution_count": 6,
   "metadata": {},
   "outputs": [],
   "source": [
    "def to_predict(df, selection, model, target):\n",
    "    X = df[selection]\n",
    "    #Predict\n",
    "    predicted = model.predict(X)\n",
    "    #Replace\n",
    "    df[target]= predicted\n",
    "    return df"
   ]
  },
  {
   "cell_type": "code",
   "execution_count": 7,
   "metadata": {},
   "outputs": [],
   "source": [
    "def _mape(y_test, y_pred):\n",
    "    N = len(y_pred)\n",
    "    mape = (1/N) * sum(abs((y_test - y_pred)/y_test)) * 100\n",
    "    return mape"
   ]
  },
  {
   "cell_type": "markdown",
   "metadata": {},
   "source": [
    "_______\n",
    "# Observations Globale"
   ]
  },
  {
   "cell_type": "markdown",
   "metadata": {},
   "source": [
    "La première chose à effectuer pour commencer, est d'observer les données brutes.\n",
    "Nous pouvons remarquer : \n",
    "- `166695` lignes et `9` colonnes\n",
    "- Parmi celles-ci il y 7 colonnes `Object`,  1 colonne `float` et 1 colonne `integer`\n",
    "\n",
    "Pour pouvoir concevoir un modèle capable de prédire le `Price`, nous allons devoir convertir chacune de ces variables en `Integer` ou `Float`"
   ]
  },
  {
   "cell_type": "code",
   "execution_count": 8,
   "metadata": {},
   "outputs": [
    {
     "data": {
      "text/plain": [
       "(166695, 9)"
      ]
     },
     "execution_count": 8,
     "metadata": {},
     "output_type": "execute_result"
    }
   ],
   "source": [
    "df_copy.shape"
   ]
  },
  {
   "cell_type": "code",
   "execution_count": 9,
   "metadata": {},
   "outputs": [
    {
     "data": {
      "text/html": [
       "<div>\n",
       "<style scoped>\n",
       "    .dataframe tbody tr th:only-of-type {\n",
       "        vertical-align: middle;\n",
       "    }\n",
       "\n",
       "    .dataframe tbody tr th {\n",
       "        vertical-align: top;\n",
       "    }\n",
       "\n",
       "    .dataframe thead th {\n",
       "        text-align: right;\n",
       "    }\n",
       "</style>\n",
       "<table border=\"1\" class=\"dataframe\">\n",
       "  <thead>\n",
       "    <tr style=\"text-align: right;\">\n",
       "      <th></th>\n",
       "      <th>Price</th>\n",
       "      <th>Make</th>\n",
       "      <th>Model</th>\n",
       "      <th>Model_year</th>\n",
       "      <th>Mileage</th>\n",
       "      <th>Fuel</th>\n",
       "      <th>Gearbox</th>\n",
       "      <th>Online</th>\n",
       "      <th>Description</th>\n",
       "    </tr>\n",
       "  </thead>\n",
       "  <tbody>\n",
       "    <tr>\n",
       "      <th>0</th>\n",
       "      <td>11220.000000</td>\n",
       "      <td>PEUGEOT</td>\n",
       "      <td>308</td>\n",
       "      <td>2014</td>\n",
       "      <td>94341.0 km</td>\n",
       "      <td>Diesel</td>\n",
       "      <td>mécanique</td>\n",
       "      <td>06/07/2018 à 3h47</td>\n",
       "      <td>modele: 308 (2E GENERATION), version: 1.6 HDI ...</td>\n",
       "    </tr>\n",
       "    <tr>\n",
       "      <th>1</th>\n",
       "      <td>57526.000000</td>\n",
       "      <td>BMW</td>\n",
       "      <td>X6</td>\n",
       "      <td>2015</td>\n",
       "      <td>39051.0 km</td>\n",
       "      <td>Diesel</td>\n",
       "      <td>automatique</td>\n",
       "      <td>03/04/2018 à 16h41</td>\n",
       "      <td>modele: X6 F16, version: (F16) XDRIVE30D 258 M...</td>\n",
       "    </tr>\n",
       "    <tr>\n",
       "      <th>2</th>\n",
       "      <td>80379.000000</td>\n",
       "      <td>AUDI</td>\n",
       "      <td>RS6</td>\n",
       "      <td>2014</td>\n",
       "      <td>75381.0 km</td>\n",
       "      <td>Essence</td>\n",
       "      <td>automatique</td>\n",
       "      <td>30/07/2018 à 1h55</td>\n",
       "      <td>modele: RS6 (3E GENERATION) AVANT, version: II...</td>\n",
       "    </tr>\n",
       "    <tr>\n",
       "      <th>3</th>\n",
       "      <td>2830.000000</td>\n",
       "      <td>FORD</td>\n",
       "      <td>KA</td>\n",
       "      <td>2007</td>\n",
       "      <td>92282.0 km</td>\n",
       "      <td>Essence</td>\n",
       "      <td>mécanique</td>\n",
       "      <td>09/07/2018 à 14h12</td>\n",
       "      <td>modele: KA, version: 1.3 70 FUN, puissance_fis...</td>\n",
       "    </tr>\n",
       "    <tr>\n",
       "      <th>4</th>\n",
       "      <td>12925.000000</td>\n",
       "      <td>FIAT</td>\n",
       "      <td>TIPO</td>\n",
       "      <td>2018</td>\n",
       "      <td>10.0 km</td>\n",
       "      <td>Essence</td>\n",
       "      <td>mécanique</td>\n",
       "      <td>19/05/2018 à 3h52</td>\n",
       "      <td>modele: TIPO 2 SW, version: II SW 1.4 95 POP, ...</td>\n",
       "    </tr>\n",
       "  </tbody>\n",
       "</table>\n",
       "</div>"
      ],
      "text/plain": [
       "         Price     Make Model  Model_year     Mileage     Fuel      Gearbox  \\\n",
       "0 11220.000000  PEUGEOT   308        2014  94341.0 km   Diesel    mécanique   \n",
       "1 57526.000000      BMW    X6        2015  39051.0 km   Diesel  automatique   \n",
       "2 80379.000000     AUDI   RS6        2014  75381.0 km  Essence  automatique   \n",
       "3  2830.000000     FORD    KA        2007  92282.0 km  Essence    mécanique   \n",
       "4 12925.000000     FIAT  TIPO        2018     10.0 km  Essence    mécanique   \n",
       "\n",
       "               Online                                        Description  \n",
       "0   06/07/2018 à 3h47  modele: 308 (2E GENERATION), version: 1.6 HDI ...  \n",
       "1  03/04/2018 à 16h41  modele: X6 F16, version: (F16) XDRIVE30D 258 M...  \n",
       "2   30/07/2018 à 1h55  modele: RS6 (3E GENERATION) AVANT, version: II...  \n",
       "3  09/07/2018 à 14h12  modele: KA, version: 1.3 70 FUN, puissance_fis...  \n",
       "4   19/05/2018 à 3h52  modele: TIPO 2 SW, version: II SW 1.4 95 POP, ...  "
      ]
     },
     "execution_count": 9,
     "metadata": {},
     "output_type": "execute_result"
    }
   ],
   "source": [
    "df_copy.head()"
   ]
  },
  {
   "cell_type": "code",
   "execution_count": 10,
   "metadata": {},
   "outputs": [
    {
     "name": "stdout",
     "output_type": "stream",
     "text": [
      "<class 'pandas.core.frame.DataFrame'>\n",
      "RangeIndex: 166695 entries, 0 to 166694\n",
      "Data columns (total 9 columns):\n",
      " #   Column       Non-Null Count   Dtype  \n",
      "---  ------       --------------   -----  \n",
      " 0   Price        166695 non-null  float64\n",
      " 1   Make         166695 non-null  object \n",
      " 2   Model        166695 non-null  object \n",
      " 3   Model_year   166695 non-null  int64  \n",
      " 4   Mileage      166695 non-null  object \n",
      " 5   Fuel         166695 non-null  object \n",
      " 6   Gearbox      166695 non-null  object \n",
      " 7   Online       166695 non-null  object \n",
      " 8   Description  166695 non-null  object \n",
      "dtypes: float64(1), int64(1), object(7)\n",
      "memory usage: 11.4+ MB\n"
     ]
    }
   ],
   "source": [
    "df.info()"
   ]
  },
  {
   "cell_type": "markdown",
   "metadata": {},
   "source": [
    "_______"
   ]
  },
  {
   "cell_type": "markdown",
   "metadata": {},
   "source": [
    "# Convertir les variables en INT"
   ]
  },
  {
   "cell_type": "markdown",
   "metadata": {},
   "source": [
    "##### `Mileage` : supprimer le `km` et convertir en `integer`"
   ]
  },
  {
   "cell_type": "code",
   "execution_count": 11,
   "metadata": {},
   "outputs": [],
   "source": [
    "df_copy['Mileage'] = [int(float(km[:-3])) for km in df_copy['Mileage'] ]"
   ]
  },
  {
   "cell_type": "markdown",
   "metadata": {},
   "source": [
    "##### `Price` : convertir en `integer`"
   ]
  },
  {
   "cell_type": "code",
   "execution_count": 12,
   "metadata": {},
   "outputs": [],
   "source": [
    "df_copy['Price'] = [int(float(price)) for price in df_copy['Price'] ]"
   ]
  },
  {
   "cell_type": "code",
   "execution_count": 13,
   "metadata": {},
   "outputs": [
    {
     "data": {
      "text/html": [
       "<div>\n",
       "<style scoped>\n",
       "    .dataframe tbody tr th:only-of-type {\n",
       "        vertical-align: middle;\n",
       "    }\n",
       "\n",
       "    .dataframe tbody tr th {\n",
       "        vertical-align: top;\n",
       "    }\n",
       "\n",
       "    .dataframe thead th {\n",
       "        text-align: right;\n",
       "    }\n",
       "</style>\n",
       "<table border=\"1\" class=\"dataframe\">\n",
       "  <thead>\n",
       "    <tr style=\"text-align: right;\">\n",
       "      <th></th>\n",
       "      <th>Price</th>\n",
       "      <th>Make</th>\n",
       "      <th>Model</th>\n",
       "      <th>Model_year</th>\n",
       "      <th>Mileage</th>\n",
       "      <th>Fuel</th>\n",
       "      <th>Gearbox</th>\n",
       "      <th>Online</th>\n",
       "      <th>Description</th>\n",
       "    </tr>\n",
       "  </thead>\n",
       "  <tbody>\n",
       "    <tr>\n",
       "      <th>0</th>\n",
       "      <td>11220</td>\n",
       "      <td>PEUGEOT</td>\n",
       "      <td>308</td>\n",
       "      <td>2014</td>\n",
       "      <td>94341</td>\n",
       "      <td>Diesel</td>\n",
       "      <td>mécanique</td>\n",
       "      <td>06/07/2018 à 3h47</td>\n",
       "      <td>modele: 308 (2E GENERATION), version: 1.6 HDI ...</td>\n",
       "    </tr>\n",
       "    <tr>\n",
       "      <th>1</th>\n",
       "      <td>57526</td>\n",
       "      <td>BMW</td>\n",
       "      <td>X6</td>\n",
       "      <td>2015</td>\n",
       "      <td>39051</td>\n",
       "      <td>Diesel</td>\n",
       "      <td>automatique</td>\n",
       "      <td>03/04/2018 à 16h41</td>\n",
       "      <td>modele: X6 F16, version: (F16) XDRIVE30D 258 M...</td>\n",
       "    </tr>\n",
       "    <tr>\n",
       "      <th>2</th>\n",
       "      <td>80379</td>\n",
       "      <td>AUDI</td>\n",
       "      <td>RS6</td>\n",
       "      <td>2014</td>\n",
       "      <td>75381</td>\n",
       "      <td>Essence</td>\n",
       "      <td>automatique</td>\n",
       "      <td>30/07/2018 à 1h55</td>\n",
       "      <td>modele: RS6 (3E GENERATION) AVANT, version: II...</td>\n",
       "    </tr>\n",
       "    <tr>\n",
       "      <th>3</th>\n",
       "      <td>2830</td>\n",
       "      <td>FORD</td>\n",
       "      <td>KA</td>\n",
       "      <td>2007</td>\n",
       "      <td>92282</td>\n",
       "      <td>Essence</td>\n",
       "      <td>mécanique</td>\n",
       "      <td>09/07/2018 à 14h12</td>\n",
       "      <td>modele: KA, version: 1.3 70 FUN, puissance_fis...</td>\n",
       "    </tr>\n",
       "    <tr>\n",
       "      <th>4</th>\n",
       "      <td>12925</td>\n",
       "      <td>FIAT</td>\n",
       "      <td>TIPO</td>\n",
       "      <td>2018</td>\n",
       "      <td>10</td>\n",
       "      <td>Essence</td>\n",
       "      <td>mécanique</td>\n",
       "      <td>19/05/2018 à 3h52</td>\n",
       "      <td>modele: TIPO 2 SW, version: II SW 1.4 95 POP, ...</td>\n",
       "    </tr>\n",
       "  </tbody>\n",
       "</table>\n",
       "</div>"
      ],
      "text/plain": [
       "   Price     Make Model  Model_year  Mileage     Fuel      Gearbox  \\\n",
       "0  11220  PEUGEOT   308        2014    94341   Diesel    mécanique   \n",
       "1  57526      BMW    X6        2015    39051   Diesel  automatique   \n",
       "2  80379     AUDI   RS6        2014    75381  Essence  automatique   \n",
       "3   2830     FORD    KA        2007    92282  Essence    mécanique   \n",
       "4  12925     FIAT  TIPO        2018       10  Essence    mécanique   \n",
       "\n",
       "               Online                                        Description  \n",
       "0   06/07/2018 à 3h47  modele: 308 (2E GENERATION), version: 1.6 HDI ...  \n",
       "1  03/04/2018 à 16h41  modele: X6 F16, version: (F16) XDRIVE30D 258 M...  \n",
       "2   30/07/2018 à 1h55  modele: RS6 (3E GENERATION) AVANT, version: II...  \n",
       "3  09/07/2018 à 14h12  modele: KA, version: 1.3 70 FUN, puissance_fis...  \n",
       "4   19/05/2018 à 3h52  modele: TIPO 2 SW, version: II SW 1.4 95 POP, ...  "
      ]
     },
     "execution_count": 13,
     "metadata": {},
     "output_type": "execute_result"
    }
   ],
   "source": [
    "df_copy.head()"
   ]
  },
  {
   "cell_type": "markdown",
   "metadata": {},
   "source": [
    "_____\n",
    "# Observations statistic"
   ]
  },
  {
   "cell_type": "code",
   "execution_count": 14,
   "metadata": {},
   "outputs": [
    {
     "data": {
      "text/html": [
       "<div>\n",
       "<style scoped>\n",
       "    .dataframe tbody tr th:only-of-type {\n",
       "        vertical-align: middle;\n",
       "    }\n",
       "\n",
       "    .dataframe tbody tr th {\n",
       "        vertical-align: top;\n",
       "    }\n",
       "\n",
       "    .dataframe thead th {\n",
       "        text-align: right;\n",
       "    }\n",
       "</style>\n",
       "<table border=\"1\" class=\"dataframe\">\n",
       "  <thead>\n",
       "    <tr style=\"text-align: right;\">\n",
       "      <th></th>\n",
       "      <th>Price</th>\n",
       "      <th>Mileage</th>\n",
       "    </tr>\n",
       "  </thead>\n",
       "  <tbody>\n",
       "    <tr>\n",
       "      <th>count</th>\n",
       "      <td>166695.000000</td>\n",
       "      <td>166695.000000</td>\n",
       "    </tr>\n",
       "    <tr>\n",
       "      <th>mean</th>\n",
       "      <td>19333.694580</td>\n",
       "      <td>46894.043565</td>\n",
       "    </tr>\n",
       "    <tr>\n",
       "      <th>std</th>\n",
       "      <td>16420.342104</td>\n",
       "      <td>48210.072767</td>\n",
       "    </tr>\n",
       "    <tr>\n",
       "      <th>min</th>\n",
       "      <td>1.000000</td>\n",
       "      <td>1.000000</td>\n",
       "    </tr>\n",
       "    <tr>\n",
       "      <th>25%</th>\n",
       "      <td>11280.000000</td>\n",
       "      <td>9169.500000</td>\n",
       "    </tr>\n",
       "    <tr>\n",
       "      <th>50%</th>\n",
       "      <td>15774.000000</td>\n",
       "      <td>30485.000000</td>\n",
       "    </tr>\n",
       "    <tr>\n",
       "      <th>75%</th>\n",
       "      <td>22707.500000</td>\n",
       "      <td>73357.000000</td>\n",
       "    </tr>\n",
       "    <tr>\n",
       "      <th>max</th>\n",
       "      <td>1486500.000000</td>\n",
       "      <td>1418551.000000</td>\n",
       "    </tr>\n",
       "  </tbody>\n",
       "</table>\n",
       "</div>"
      ],
      "text/plain": [
       "               Price        Mileage\n",
       "count  166695.000000  166695.000000\n",
       "mean    19333.694580   46894.043565\n",
       "std     16420.342104   48210.072767\n",
       "min         1.000000       1.000000\n",
       "25%     11280.000000    9169.500000\n",
       "50%     15774.000000   30485.000000\n",
       "75%     22707.500000   73357.000000\n",
       "max   1486500.000000 1418551.000000"
      ]
     },
     "execution_count": 14,
     "metadata": {},
     "output_type": "execute_result"
    }
   ],
   "source": [
    "price = df_copy[['Price', 'Mileage']]\n",
    "price.describe()"
   ]
  },
  {
   "cell_type": "markdown",
   "metadata": {},
   "source": [
    "### Observations :\n",
    "-  `Price`\n",
    "    - nous constatons que le prix minimum est de `1€` et le maximum est de `1 486 500€`.  Cela mérite une une observation approfondie.\n",
    "    \n",
    "\n",
    "- `Mileage`\n",
    "    - kilomètre minimum  = `1 km`\n",
    "    \n",
    "    -  Kilomètre maximum =  `1 418 551 km`\n",
    "    -  Est-ce possible qu'une voiture puisse faire autant de chemin ? Nous allons creuser.\n",
    "\n",
    "- Important : 3/4 des véhicules ont moins de `75000km` et coute moins de `23000€`\n",
    "\n",
    "Nous devons faire en sorte que nos données n'aient pas de outliers, car ces derniers peuvent fausser le résultat du modèle de prédiction."
   ]
  },
  {
   "cell_type": "markdown",
   "metadata": {},
   "source": [
    "_____\n",
    "# Exploration de la variable `Price`"
   ]
  },
  {
   "cell_type": "code",
   "execution_count": 15,
   "metadata": {},
   "outputs": [
    {
     "data": {
      "image/png": "[encoded data removed]",
      "text/plain": [
       "<Figure size 1296x432 with 1 Axes>"
      ]
     },
     "metadata": {
      "needs_background": "light"
     },
     "output_type": "display_data"
    }
   ],
   "source": [
    "plt.figure(figsize=(18,6))\n",
    "n, bins, patch = plt.hist(df_copy['Price'],bins=40, range=(0,200000), label='Price Distribution')\n",
    "plt.xlabel(\"Price\")\n",
    "plt.title('Price Distribution')\n",
    "plt.show()"
   ]
  },
  {
   "cell_type": "code",
   "execution_count": 16,
   "metadata": {},
   "outputs": [
    {
     "data": {
      "image/png": "[encoded data removed]",
      "text/plain": [
       "<Figure size 1152x360 with 1 Axes>"
      ]
     },
     "metadata": {
      "needs_background": "light"
     },
     "output_type": "display_data"
    }
   ],
   "source": [
    "plt.figure(figsize=(16,5))\n",
    "plt.boxplot(df_copy['Price'], notch=True)\n",
    "plt.xlabel(\"Cars\")\n",
    "plt.ylabel(\"Prices\")\n",
    "plt.title(\"Cars Price outliers\")\n",
    "plt.show()"
   ]
  },
  {
   "cell_type": "code",
   "execution_count": 17,
   "metadata": {},
   "outputs": [
    {
     "data": {
      "text/html": [
       "<div>\n",
       "<style scoped>\n",
       "    .dataframe tbody tr th:only-of-type {\n",
       "        vertical-align: middle;\n",
       "    }\n",
       "\n",
       "    .dataframe tbody tr th {\n",
       "        vertical-align: top;\n",
       "    }\n",
       "\n",
       "    .dataframe thead th {\n",
       "        text-align: right;\n",
       "    }\n",
       "</style>\n",
       "<table border=\"1\" class=\"dataframe\">\n",
       "  <thead>\n",
       "    <tr style=\"text-align: right;\">\n",
       "      <th></th>\n",
       "      <th>Price</th>\n",
       "      <th>Make</th>\n",
       "      <th>Model</th>\n",
       "      <th>Model_year</th>\n",
       "      <th>Mileage</th>\n",
       "      <th>Fuel</th>\n",
       "      <th>Gearbox</th>\n",
       "      <th>Online</th>\n",
       "      <th>Description</th>\n",
       "    </tr>\n",
       "  </thead>\n",
       "  <tbody>\n",
       "    <tr>\n",
       "      <th>1817</th>\n",
       "      <td>303</td>\n",
       "      <td>PEUGEOT</td>\n",
       "      <td>206</td>\n",
       "      <td>2000</td>\n",
       "      <td>232650</td>\n",
       "      <td>Essence</td>\n",
       "      <td>mécanique</td>\n",
       "      <td>06/06/2018 à 13h40</td>\n",
       "      <td>modele: 206, version: 1.1 XR PRESENCE 5P, puis...</td>\n",
       "    </tr>\n",
       "    <tr>\n",
       "      <th>13515</th>\n",
       "      <td>301</td>\n",
       "      <td>VOLKSWAGEN</td>\n",
       "      <td>GOLF</td>\n",
       "      <td>2003</td>\n",
       "      <td>332816</td>\n",
       "      <td>Diesel</td>\n",
       "      <td>mécanique</td>\n",
       "      <td>16/06/2018 à 10h46</td>\n",
       "      <td>modele: GOLF 4, version: IV TDI 100 MATCH 4MOT...</td>\n",
       "    </tr>\n",
       "    <tr>\n",
       "      <th>23838</th>\n",
       "      <td>1</td>\n",
       "      <td>AUDI</td>\n",
       "      <td>S5</td>\n",
       "      <td>2017</td>\n",
       "      <td>14413</td>\n",
       "      <td>Essence</td>\n",
       "      <td>mécanique</td>\n",
       "      <td>17/05/2018 à 9h34</td>\n",
       "      <td>modele: S5 SPORTBACK (2E GENERATION), version:...</td>\n",
       "    </tr>\n",
       "    <tr>\n",
       "      <th>30085</th>\n",
       "      <td>101</td>\n",
       "      <td>HYUNDAI</td>\n",
       "      <td>IX35</td>\n",
       "      <td>2013</td>\n",
       "      <td>107400</td>\n",
       "      <td>Diesel</td>\n",
       "      <td>mécanique</td>\n",
       "      <td>11/04/2018 à 5h41</td>\n",
       "      <td>modele: IX35, version: 1.7 CRDI 115 PACK EDITI...</td>\n",
       "    </tr>\n",
       "    <tr>\n",
       "      <th>67849</th>\n",
       "      <td>350</td>\n",
       "      <td>TOYOTA</td>\n",
       "      <td>COROLLA</td>\n",
       "      <td>1999</td>\n",
       "      <td>112214</td>\n",
       "      <td>Essence</td>\n",
       "      <td>mécanique</td>\n",
       "      <td>05/06/2018 à 9h39</td>\n",
       "      <td>modele: COROLLA 8, version: VIII 1.3 I GS 3P, ...</td>\n",
       "    </tr>\n",
       "    <tr>\n",
       "      <th>70310</th>\n",
       "      <td>1</td>\n",
       "      <td>RENAULT</td>\n",
       "      <td>TWINGO</td>\n",
       "      <td>1998</td>\n",
       "      <td>221540</td>\n",
       "      <td>Essence</td>\n",
       "      <td>mécanique</td>\n",
       "      <td>13/05/2018 à 6h50</td>\n",
       "      <td>modele: TWINGO, version: 1.2 ALIZE, puissance_...</td>\n",
       "    </tr>\n",
       "    <tr>\n",
       "      <th>77128</th>\n",
       "      <td>1</td>\n",
       "      <td>VOLKSWAGEN</td>\n",
       "      <td>GOLF</td>\n",
       "      <td>2001</td>\n",
       "      <td>117177</td>\n",
       "      <td>Diesel</td>\n",
       "      <td>mécanique</td>\n",
       "      <td>24/05/2018 à 11h29</td>\n",
       "      <td>modele: GOLF 4, version: IV TDI 115 CONFORT PL...</td>\n",
       "    </tr>\n",
       "    <tr>\n",
       "      <th>90574</th>\n",
       "      <td>303</td>\n",
       "      <td>PEUGEOT</td>\n",
       "      <td>106</td>\n",
       "      <td>1999</td>\n",
       "      <td>201925</td>\n",
       "      <td>Essence</td>\n",
       "      <td>mécanique</td>\n",
       "      <td>19/06/2018 à 21h39</td>\n",
       "      <td>modele: 106, version: (2) 1.4 COLOR LINE 3P, p...</td>\n",
       "    </tr>\n",
       "    <tr>\n",
       "      <th>119052</th>\n",
       "      <td>1</td>\n",
       "      <td>CITROEN</td>\n",
       "      <td>GRAND C4 PICASSO</td>\n",
       "      <td>2015</td>\n",
       "      <td>134459</td>\n",
       "      <td>Diesel</td>\n",
       "      <td>automatique</td>\n",
       "      <td>30/08/2018 à 14h23</td>\n",
       "      <td>modele: GRAND C4 PICASSO 2, version: II 1.6 BL...</td>\n",
       "    </tr>\n",
       "    <tr>\n",
       "      <th>138593</th>\n",
       "      <td>338</td>\n",
       "      <td>RENAULT</td>\n",
       "      <td>MEGANE</td>\n",
       "      <td>2002</td>\n",
       "      <td>221286</td>\n",
       "      <td>Diesel</td>\n",
       "      <td>mécanique</td>\n",
       "      <td>07/05/2018 à 13h30</td>\n",
       "      <td>modele: MEGANE, version: 5P DIESEL, puissance_...</td>\n",
       "    </tr>\n",
       "    <tr>\n",
       "      <th>139635</th>\n",
       "      <td>176</td>\n",
       "      <td>VOLKSWAGEN</td>\n",
       "      <td>NEW BEETLE</td>\n",
       "      <td>2015</td>\n",
       "      <td>37969</td>\n",
       "      <td>Essence</td>\n",
       "      <td>mécanique</td>\n",
       "      <td>30/07/2018 à 8h30</td>\n",
       "      <td>modele: , version: VW BEETLE 1.2 TSI 105, VINT...</td>\n",
       "    </tr>\n",
       "    <tr>\n",
       "      <th>141865</th>\n",
       "      <td>252</td>\n",
       "      <td>RENAULT</td>\n",
       "      <td>TWINGO</td>\n",
       "      <td>1995</td>\n",
       "      <td>220461</td>\n",
       "      <td>Essence</td>\n",
       "      <td>mécanique</td>\n",
       "      <td>06/04/2018 à 21h23</td>\n",
       "      <td>modele: TWINGO, version: 1.2 ALIZE, puissance_...</td>\n",
       "    </tr>\n",
       "    <tr>\n",
       "      <th>145645</th>\n",
       "      <td>250</td>\n",
       "      <td>PEUGEOT</td>\n",
       "      <td>308</td>\n",
       "      <td>2010</td>\n",
       "      <td>158663</td>\n",
       "      <td>Diesel</td>\n",
       "      <td>mécanique</td>\n",
       "      <td>20/06/2018 à 9h24</td>\n",
       "      <td>modele: 308, version: 1.6 HDI 110 FAP PREMIUM ...</td>\n",
       "    </tr>\n",
       "  </tbody>\n",
       "</table>\n",
       "</div>"
      ],
      "text/plain": [
       "        Price        Make             Model  Model_year  Mileage     Fuel  \\\n",
       "1817      303     PEUGEOT               206        2000   232650  Essence   \n",
       "13515     301  VOLKSWAGEN              GOLF        2003   332816   Diesel   \n",
       "23838       1        AUDI                S5        2017    14413  Essence   \n",
       "30085     101     HYUNDAI              IX35        2013   107400   Diesel   \n",
       "67849     350      TOYOTA           COROLLA        1999   112214  Essence   \n",
       "70310       1     RENAULT            TWINGO        1998   221540  Essence   \n",
       "77128       1  VOLKSWAGEN              GOLF        2001   117177   Diesel   \n",
       "90574     303     PEUGEOT               106        1999   201925  Essence   \n",
       "119052      1     CITROEN  GRAND C4 PICASSO        2015   134459   Diesel   \n",
       "138593    338     RENAULT            MEGANE        2002   221286   Diesel   \n",
       "139635    176  VOLKSWAGEN        NEW BEETLE        2015    37969  Essence   \n",
       "141865    252     RENAULT            TWINGO        1995   220461  Essence   \n",
       "145645    250     PEUGEOT               308        2010   158663   Diesel   \n",
       "\n",
       "            Gearbox              Online  \\\n",
       "1817      mécanique  06/06/2018 à 13h40   \n",
       "13515     mécanique  16/06/2018 à 10h46   \n",
       "23838     mécanique   17/05/2018 à 9h34   \n",
       "30085     mécanique   11/04/2018 à 5h41   \n",
       "67849     mécanique   05/06/2018 à 9h39   \n",
       "70310     mécanique   13/05/2018 à 6h50   \n",
       "77128     mécanique  24/05/2018 à 11h29   \n",
       "90574     mécanique  19/06/2018 à 21h39   \n",
       "119052  automatique  30/08/2018 à 14h23   \n",
       "138593    mécanique  07/05/2018 à 13h30   \n",
       "139635    mécanique   30/07/2018 à 8h30   \n",
       "141865    mécanique  06/04/2018 à 21h23   \n",
       "145645    mécanique   20/06/2018 à 9h24   \n",
       "\n",
       "                                              Description  \n",
       "1817    modele: 206, version: 1.1 XR PRESENCE 5P, puis...  \n",
       "13515   modele: GOLF 4, version: IV TDI 100 MATCH 4MOT...  \n",
       "23838   modele: S5 SPORTBACK (2E GENERATION), version:...  \n",
       "30085   modele: IX35, version: 1.7 CRDI 115 PACK EDITI...  \n",
       "67849   modele: COROLLA 8, version: VIII 1.3 I GS 3P, ...  \n",
       "70310   modele: TWINGO, version: 1.2 ALIZE, puissance_...  \n",
       "77128   modele: GOLF 4, version: IV TDI 115 CONFORT PL...  \n",
       "90574   modele: 106, version: (2) 1.4 COLOR LINE 3P, p...  \n",
       "119052  modele: GRAND C4 PICASSO 2, version: II 1.6 BL...  \n",
       "138593  modele: MEGANE, version: 5P DIESEL, puissance_...  \n",
       "139635  modele: , version: VW BEETLE 1.2 TSI 105, VINT...  \n",
       "141865  modele: TWINGO, version: 1.2 ALIZE, puissance_...  \n",
       "145645  modele: 308, version: 1.6 HDI 110 FAP PREMIUM ...  "
      ]
     },
     "execution_count": 17,
     "metadata": {},
     "output_type": "execute_result"
    }
   ],
   "source": [
    "low_cost = df_copy[df_copy['Price'] < 400]\n",
    "low_cost"
   ]
  },
  {
   "cell_type": "markdown",
   "metadata": {},
   "source": [
    "\n",
    "### Observations\n",
    "\n",
    "- Les Prix des véhicules sont majoritairement compris entre `0` et `50000`\n",
    "- Les Prix des véhicules ont de nombreuses valeurs aberantes qui constrastent énormément avec les valeurs mesurées.\n",
    "\n",
    "Voici quelques exemples de données aberantes: \n",
    "\n",
    "```\n",
    "Price : 1$   AUDI\t    S5\t    2017\n",
    "Price : 101$  HYUNDAI\t    IX35\t     2013\t\n",
    "Price : 1$    CITROEN\t    GRAND C4 PICASSO\t2015\n",
    "Price : 176$  WOLKSWAGEN\t  NEW BEETLE \t2015\n",
    "Price : 250$  PEUGEOT\t      308\t2010\n",
    "```\n",
    "Pour répondre à ce problème nous devons encadrer les données afin d'avoir  un dataset sans valeurs aberantes. \n",
    "Pour cela nous allons filtrer le DataSet pour garder uniquement les véhicules entre `400` et `125000`"
   ]
  },
  {
   "cell_type": "markdown",
   "metadata": {},
   "source": [
    "#### Filtrage des données `Price`"
   ]
  },
  {
   "cell_type": "code",
   "execution_count": 18,
   "metadata": {},
   "outputs": [],
   "source": [
    "df_copy = df_copy[ (400 < df_copy['Price']) & (df_copy['Price'] < 125000)]"
   ]
  },
  {
   "cell_type": "markdown",
   "metadata": {},
   "source": [
    "----"
   ]
  },
  {
   "cell_type": "markdown",
   "metadata": {},
   "source": [
    "# Exploration de la variable `Mileage`"
   ]
  },
  {
   "cell_type": "markdown",
   "metadata": {},
   "source": [
    "Nous allons maintenant nous occuper de la variables `Maliage`, qui donne référence aux kilomètres parcouru par les véhicules."
   ]
  },
  {
   "cell_type": "code",
   "execution_count": 19,
   "metadata": {},
   "outputs": [
    {
     "data": {
      "image/png": "[encoded data removed]",
      "text/plain": [
       "<Figure size 1152x360 with 1 Axes>"
      ]
     },
     "metadata": {
      "needs_background": "light"
     },
     "output_type": "display_data"
    }
   ],
   "source": [
    "plt.figure(figsize=(16,5)) # DEBUT DE FINGURE\n",
    "plt.scatter(df_copy['Mileage'],df_copy['Price'], alpha=0.5, label=\"Car\")\n",
    "plt.xlabel(\"Mileage\")\n",
    "plt.ylabel(\"Price\")\n",
    "plt.title(\"Mileage x Price\")\n",
    "plt.legend()\n",
    "plt.show()"
   ]
  },
  {
   "cell_type": "code",
   "execution_count": 20,
   "metadata": {},
   "outputs": [
    {
     "data": {
      "image/png": "[encoded data removed]",
      "text/plain": [
       "<Figure size 1296x432 with 1 Axes>"
      ]
     },
     "metadata": {
      "needs_background": "light"
     },
     "output_type": "display_data"
    }
   ],
   "source": [
    "plt.figure(figsize=(18,6))\n",
    "plt.hist(df_copy['Mileage'],bins=40, range=(-100,300000), label='Mileage Distribution')\n",
    "plt.xlabel(\"Mileage\")\n",
    "plt.title('Mileage Distribution')\n",
    "plt.show()"
   ]
  },
  {
   "cell_type": "code",
   "execution_count": 21,
   "metadata": {},
   "outputs": [
    {
     "data": {
      "image/png": "[encoded data removed]",
      "text/plain": [
       "<Figure size 1152x360 with 1 Axes>"
      ]
     },
     "metadata": {
      "needs_background": "light"
     },
     "output_type": "display_data"
    }
   ],
   "source": [
    "plt.figure(figsize=(16,5))\n",
    "plt.boxplot(df_copy['Mileage'], vert=False,notch=True)\n",
    "plt.xlabel(\"Cars\")\n",
    "plt.ylabel(\"Mileage Number\")\n",
    "plt.title(\"Cars Mileage outliers\")\n",
    "plt.show()"
   ]
  },
  {
   "cell_type": "code",
   "execution_count": 22,
   "metadata": {},
   "outputs": [
    {
     "data": {
      "text/html": [
       "<div>\n",
       "<style scoped>\n",
       "    .dataframe tbody tr th:only-of-type {\n",
       "        vertical-align: middle;\n",
       "    }\n",
       "\n",
       "    .dataframe tbody tr th {\n",
       "        vertical-align: top;\n",
       "    }\n",
       "\n",
       "    .dataframe thead th {\n",
       "        text-align: right;\n",
       "    }\n",
       "</style>\n",
       "<table border=\"1\" class=\"dataframe\">\n",
       "  <thead>\n",
       "    <tr style=\"text-align: right;\">\n",
       "      <th></th>\n",
       "      <th>Price</th>\n",
       "      <th>Make</th>\n",
       "      <th>Model</th>\n",
       "      <th>Model_year</th>\n",
       "      <th>Mileage</th>\n",
       "      <th>Fuel</th>\n",
       "      <th>Gearbox</th>\n",
       "      <th>Online</th>\n",
       "      <th>Description</th>\n",
       "    </tr>\n",
       "  </thead>\n",
       "  <tbody>\n",
       "    <tr>\n",
       "      <th>12816</th>\n",
       "      <td>16789</td>\n",
       "      <td>CITROEN</td>\n",
       "      <td>C4 AIRCROSS</td>\n",
       "      <td>2016</td>\n",
       "      <td>460523</td>\n",
       "      <td>Diesel</td>\n",
       "      <td>mécanique</td>\n",
       "      <td>14/10/2018 à 22h21</td>\n",
       "      <td>modele: C4 AIRCROSS, version: 1.6 HDI 115 S&amp;S ...</td>\n",
       "    </tr>\n",
       "    <tr>\n",
       "      <th>24668</th>\n",
       "      <td>6008</td>\n",
       "      <td>SKODA</td>\n",
       "      <td>SUPERB</td>\n",
       "      <td>2012</td>\n",
       "      <td>336260</td>\n",
       "      <td>Diesel</td>\n",
       "      <td>automatique</td>\n",
       "      <td>13/05/2018 à 10h21</td>\n",
       "      <td>modele: SUPERB 2 COMBI, version: II (2) COMBI ...</td>\n",
       "    </tr>\n",
       "    <tr>\n",
       "      <th>26374</th>\n",
       "      <td>3786</td>\n",
       "      <td>PEUGEOT</td>\n",
       "      <td>508</td>\n",
       "      <td>2011</td>\n",
       "      <td>385950</td>\n",
       "      <td>Diesel</td>\n",
       "      <td>mécanique</td>\n",
       "      <td>01/08/2018 à 4h14</td>\n",
       "      <td>modele: 508, version: 2.0 HDI FAP 140 BUSINESS...</td>\n",
       "    </tr>\n",
       "    <tr>\n",
       "      <th>27186</th>\n",
       "      <td>18800</td>\n",
       "      <td>AUDI</td>\n",
       "      <td>A3</td>\n",
       "      <td>2014</td>\n",
       "      <td>658839</td>\n",
       "      <td>Diesel</td>\n",
       "      <td>automatique</td>\n",
       "      <td>20/04/2018 à 14h37</td>\n",
       "      <td>modele: A3 (3E GENERATION) BERLINE, version: I...</td>\n",
       "    </tr>\n",
       "    <tr>\n",
       "      <th>54549</th>\n",
       "      <td>7968</td>\n",
       "      <td>CITROEN</td>\n",
       "      <td>C4</td>\n",
       "      <td>2012</td>\n",
       "      <td>1015653</td>\n",
       "      <td>Diesel</td>\n",
       "      <td>mécanique</td>\n",
       "      <td>10/03/2018 à 13h24</td>\n",
       "      <td>modele: C4 (2E GENERATION), version: 1.6 HDI 1...</td>\n",
       "    </tr>\n",
       "    <tr>\n",
       "      <th>69481</th>\n",
       "      <td>6393</td>\n",
       "      <td>SKODA</td>\n",
       "      <td>OCTAVIA</td>\n",
       "      <td>2014</td>\n",
       "      <td>359432</td>\n",
       "      <td>Diesel</td>\n",
       "      <td>automatique</td>\n",
       "      <td>16/08/2018 à 6h41</td>\n",
       "      <td>modele: OCTAVIA 2, version: II (2) 1.6 TDI 105...</td>\n",
       "    </tr>\n",
       "    <tr>\n",
       "      <th>93013</th>\n",
       "      <td>15705</td>\n",
       "      <td>MERCEDES</td>\n",
       "      <td>CLASSE CLS</td>\n",
       "      <td>2012</td>\n",
       "      <td>374661</td>\n",
       "      <td>Diesel</td>\n",
       "      <td>automatique</td>\n",
       "      <td>16/08/2018 à 21h33</td>\n",
       "      <td>modele: CLASSE CLS 2, version: II 350 CDI BLUE...</td>\n",
       "    </tr>\n",
       "    <tr>\n",
       "      <th>98672</th>\n",
       "      <td>9910</td>\n",
       "      <td>MERCEDES</td>\n",
       "      <td>CLASSE B</td>\n",
       "      <td>2011</td>\n",
       "      <td>1116757</td>\n",
       "      <td>Diesel</td>\n",
       "      <td>mécanique</td>\n",
       "      <td>13/03/2018 à 13h40</td>\n",
       "      <td>modele: CLASSE B, version: (2) 180 CDI DESIGN,...</td>\n",
       "    </tr>\n",
       "    <tr>\n",
       "      <th>102996</th>\n",
       "      <td>14314</td>\n",
       "      <td>PEUGEOT</td>\n",
       "      <td>3008</td>\n",
       "      <td>2014</td>\n",
       "      <td>789216</td>\n",
       "      <td>Diesel</td>\n",
       "      <td>mécanique</td>\n",
       "      <td>16/05/2018 à 17h43</td>\n",
       "      <td>modele: 3008, version: 1.6 HDI 115 FAP ALLURE,...</td>\n",
       "    </tr>\n",
       "    <tr>\n",
       "      <th>106299</th>\n",
       "      <td>9547</td>\n",
       "      <td>AUDI</td>\n",
       "      <td>A6</td>\n",
       "      <td>2012</td>\n",
       "      <td>302091</td>\n",
       "      <td>Diesel</td>\n",
       "      <td>automatique</td>\n",
       "      <td>13/04/2018 à 1h48</td>\n",
       "      <td>modele: A6 (4E GENERATION) AVANT, version: IV ...</td>\n",
       "    </tr>\n",
       "    <tr>\n",
       "      <th>107367</th>\n",
       "      <td>24665</td>\n",
       "      <td>CITROEN</td>\n",
       "      <td>C4 PICASSO</td>\n",
       "      <td>2017</td>\n",
       "      <td>515115</td>\n",
       "      <td>Essence</td>\n",
       "      <td>automatique</td>\n",
       "      <td>10/04/2018 à 7h44</td>\n",
       "      <td>modele: C4 PICASSO 2, version: II (2) 1.2 THP ...</td>\n",
       "    </tr>\n",
       "    <tr>\n",
       "      <th>119458</th>\n",
       "      <td>28428</td>\n",
       "      <td>BMW</td>\n",
       "      <td>SERIE 3</td>\n",
       "      <td>2014</td>\n",
       "      <td>859122</td>\n",
       "      <td>Diesel</td>\n",
       "      <td>automatique</td>\n",
       "      <td>14/03/2018 à 22h44</td>\n",
       "      <td>modele: SERIE 3 F31 TOURING, version: (F31) TO...</td>\n",
       "    </tr>\n",
       "    <tr>\n",
       "      <th>120852</th>\n",
       "      <td>12288</td>\n",
       "      <td>CITROEN</td>\n",
       "      <td>BERLINGO</td>\n",
       "      <td>2013</td>\n",
       "      <td>542288</td>\n",
       "      <td>Diesel</td>\n",
       "      <td>mécanique</td>\n",
       "      <td>17/04/2018 à 4h56</td>\n",
       "      <td>modele: BERLINGO 2 MULTISPACE, version: II 1.6...</td>\n",
       "    </tr>\n",
       "    <tr>\n",
       "      <th>139542</th>\n",
       "      <td>7896</td>\n",
       "      <td>CITROEN</td>\n",
       "      <td>C4</td>\n",
       "      <td>2012</td>\n",
       "      <td>1011611</td>\n",
       "      <td>Diesel</td>\n",
       "      <td>mécanique</td>\n",
       "      <td>27/02/2018 à 9h22</td>\n",
       "      <td>modele: C4 (2E GENERATION), version: 1.6 HDI 1...</td>\n",
       "    </tr>\n",
       "    <tr>\n",
       "      <th>150812</th>\n",
       "      <td>15718</td>\n",
       "      <td>PEUGEOT</td>\n",
       "      <td>308</td>\n",
       "      <td>2014</td>\n",
       "      <td>590087</td>\n",
       "      <td>Diesel</td>\n",
       "      <td>automatique</td>\n",
       "      <td>07/07/2018 à 17h10</td>\n",
       "      <td>modele: 308 (2E GENERATION), version: II 2.0 B...</td>\n",
       "    </tr>\n",
       "    <tr>\n",
       "      <th>166473</th>\n",
       "      <td>18421</td>\n",
       "      <td>VOLKSWAGEN</td>\n",
       "      <td>TOURAN</td>\n",
       "      <td>2015</td>\n",
       "      <td>440873</td>\n",
       "      <td>Diesel</td>\n",
       "      <td>mécanique</td>\n",
       "      <td>06/04/2018 à 10h45</td>\n",
       "      <td>modele: TOURAN 2, version: 2.0 TDI 140 FAP CUP...</td>\n",
       "    </tr>\n",
       "  </tbody>\n",
       "</table>\n",
       "</div>"
      ],
      "text/plain": [
       "        Price        Make        Model  Model_year  Mileage     Fuel  \\\n",
       "12816   16789     CITROEN  C4 AIRCROSS        2016   460523   Diesel   \n",
       "24668    6008       SKODA       SUPERB        2012   336260   Diesel   \n",
       "26374    3786     PEUGEOT          508        2011   385950   Diesel   \n",
       "27186   18800        AUDI           A3        2014   658839   Diesel   \n",
       "54549    7968     CITROEN           C4        2012  1015653   Diesel   \n",
       "69481    6393       SKODA      OCTAVIA        2014   359432   Diesel   \n",
       "93013   15705    MERCEDES   CLASSE CLS        2012   374661   Diesel   \n",
       "98672    9910    MERCEDES     CLASSE B        2011  1116757   Diesel   \n",
       "102996  14314     PEUGEOT         3008        2014   789216   Diesel   \n",
       "106299   9547        AUDI           A6        2012   302091   Diesel   \n",
       "107367  24665     CITROEN   C4 PICASSO        2017   515115  Essence   \n",
       "119458  28428         BMW      SERIE 3        2014   859122   Diesel   \n",
       "120852  12288     CITROEN     BERLINGO        2013   542288   Diesel   \n",
       "139542   7896     CITROEN           C4        2012  1011611   Diesel   \n",
       "150812  15718     PEUGEOT          308        2014   590087   Diesel   \n",
       "166473  18421  VOLKSWAGEN       TOURAN        2015   440873   Diesel   \n",
       "\n",
       "            Gearbox              Online  \\\n",
       "12816     mécanique  14/10/2018 à 22h21   \n",
       "24668   automatique  13/05/2018 à 10h21   \n",
       "26374     mécanique   01/08/2018 à 4h14   \n",
       "27186   automatique  20/04/2018 à 14h37   \n",
       "54549     mécanique  10/03/2018 à 13h24   \n",
       "69481   automatique   16/08/2018 à 6h41   \n",
       "93013   automatique  16/08/2018 à 21h33   \n",
       "98672     mécanique  13/03/2018 à 13h40   \n",
       "102996    mécanique  16/05/2018 à 17h43   \n",
       "106299  automatique   13/04/2018 à 1h48   \n",
       "107367  automatique   10/04/2018 à 7h44   \n",
       "119458  automatique  14/03/2018 à 22h44   \n",
       "120852    mécanique   17/04/2018 à 4h56   \n",
       "139542    mécanique   27/02/2018 à 9h22   \n",
       "150812  automatique  07/07/2018 à 17h10   \n",
       "166473    mécanique  06/04/2018 à 10h45   \n",
       "\n",
       "                                              Description  \n",
       "12816   modele: C4 AIRCROSS, version: 1.6 HDI 115 S&S ...  \n",
       "24668   modele: SUPERB 2 COMBI, version: II (2) COMBI ...  \n",
       "26374   modele: 508, version: 2.0 HDI FAP 140 BUSINESS...  \n",
       "27186   modele: A3 (3E GENERATION) BERLINE, version: I...  \n",
       "54549   modele: C4 (2E GENERATION), version: 1.6 HDI 1...  \n",
       "69481   modele: OCTAVIA 2, version: II (2) 1.6 TDI 105...  \n",
       "93013   modele: CLASSE CLS 2, version: II 350 CDI BLUE...  \n",
       "98672   modele: CLASSE B, version: (2) 180 CDI DESIGN,...  \n",
       "102996  modele: 3008, version: 1.6 HDI 115 FAP ALLURE,...  \n",
       "106299  modele: A6 (4E GENERATION) AVANT, version: IV ...  \n",
       "107367  modele: C4 PICASSO 2, version: II (2) 1.2 THP ...  \n",
       "119458  modele: SERIE 3 F31 TOURING, version: (F31) TO...  \n",
       "120852  modele: BERLINGO 2 MULTISPACE, version: II 1.6...  \n",
       "139542  modele: C4 (2E GENERATION), version: 1.6 HDI 1...  \n",
       "150812  modele: 308 (2E GENERATION), version: II 2.0 B...  \n",
       "166473  modele: TOURAN 2, version: 2.0 TDI 140 FAP CUP...  "
      ]
     },
     "execution_count": 22,
     "metadata": {},
     "output_type": "execute_result"
    }
   ],
   "source": [
    "df_copy[(df_copy['Mileage'] > 300000) & (df_copy['Model_year'] > 2010) ]"
   ]
  },
  {
   "cell_type": "markdown",
   "metadata": {},
   "source": [
    "### Observations de `Mileage`\n",
    "\n",
    "1. Beaucoup de véhicules ont un nombre de kilomètres suppérieurs à `300 000 km`\n",
    "2. La majorité des données abérantes sont situé au-dessus de `200 000km`\n",
    "3. Certains des véhicules abérant ont un kilomètre excessivement élevé et un prix tout aussi important. Exemple : \n",
    "\n",
    "``` \n",
    " row :   27186\tPrice: 18800\tKM: \t658839\n",
    " row :  107367\tPrice: 24665\tKM: \t515115\n",
    " row :  119458\tPrice: 28428\tKM: \t859122\n",
    "```\n",
    "\n",
    "4. La variable `Mileage` a des données avec beaucoup d'écart. Il est important de normaliser ces données afin de réduire la compléxité des données. La normalisation est une méthode de prétraitement des données qui permet de réduire cette complexité pour les  modèles.\n"
   ]
  },
  {
   "cell_type": "markdown",
   "metadata": {},
   "source": [
    "### Filtrage de `Mileage`"
   ]
  },
  {
   "cell_type": "markdown",
   "metadata": {},
   "source": [
    "Suppression des données à moins de `200000km` pour uniformiser le dataset.\n"
   ]
  },
  {
   "cell_type": "code",
   "execution_count": 23,
   "metadata": {},
   "outputs": [],
   "source": [
    "df_copy = df_copy[ df_copy['Mileage'] < 200000]"
   ]
  },
  {
   "cell_type": "markdown",
   "metadata": {},
   "source": [
    "### Normalization `Mileage`\n"
   ]
  },
  {
   "cell_type": "code",
   "execution_count": 24,
   "metadata": {},
   "outputs": [],
   "source": [
    "mileage_max =df_copy['Mileage'].max()\n",
    "mileage_min = df_copy['Mileage'].min()"
   ]
  },
  {
   "cell_type": "code",
   "execution_count": 25,
   "metadata": {},
   "outputs": [],
   "source": [
    "df_copy['Mileage']=df_copy['Mileage'].map(lambda x: (x - mileage_min)/ (mileage_max - mileage_min))"
   ]
  },
  {
   "cell_type": "markdown",
   "metadata": {},
   "source": [
    "________\n",
    "# Explore Cars `MODEL_YEAR`"
   ]
  },
  {
   "cell_type": "markdown",
   "metadata": {},
   "source": [
    "`Modele_year` référence la date de mise en service des véhicule. \n",
    "Nous allons pouvoir analyser le la distribution de ces dates."
   ]
  },
  {
   "cell_type": "code",
   "execution_count": 26,
   "metadata": {},
   "outputs": [
    {
     "data": {
      "image/png": "[encoded data removed]",
      "text/plain": [
       "<Figure size 1152x360 with 1 Axes>"
      ]
     },
     "metadata": {
      "needs_background": "light"
     },
     "output_type": "display_data"
    }
   ],
   "source": [
    "plt.figure(figsize=(16,5)) # DEBUT DE FINGURE\n",
    "plt.scatter(df_copy['Model_year'],df_copy['Price'], c=df_copy['Model_year'], alpha=0.5, label=\"Car\")\n",
    "# c = gère la coleur\n",
    "# alpha = transparence\n",
    "# s = taille de points\n",
    "plt.xlabel(\"Model Year\")\n",
    "plt.ylabel(\"Price\")\n",
    "plt.title(\"Model year x Price\")\n",
    "plt.legend()\n",
    "plt.show()"
   ]
  },
  {
   "cell_type": "markdown",
   "metadata": {},
   "source": [
    "###  Voiture du futur : \n",
    "Ce véhicule semble avoir une date bien trop futuriste. Nous allons supprimer cette date aberrante."
   ]
  },
  {
   "cell_type": "code",
   "execution_count": 27,
   "metadata": {},
   "outputs": [
    {
     "data": {
      "text/html": [
       "<div>\n",
       "<style scoped>\n",
       "    .dataframe tbody tr th:only-of-type {\n",
       "        vertical-align: middle;\n",
       "    }\n",
       "\n",
       "    .dataframe tbody tr th {\n",
       "        vertical-align: top;\n",
       "    }\n",
       "\n",
       "    .dataframe thead th {\n",
       "        text-align: right;\n",
       "    }\n",
       "</style>\n",
       "<table border=\"1\" class=\"dataframe\">\n",
       "  <thead>\n",
       "    <tr style=\"text-align: right;\">\n",
       "      <th></th>\n",
       "      <th>Price</th>\n",
       "      <th>Make</th>\n",
       "      <th>Model</th>\n",
       "      <th>Model_year</th>\n",
       "      <th>Mileage</th>\n",
       "      <th>Fuel</th>\n",
       "      <th>Gearbox</th>\n",
       "      <th>Online</th>\n",
       "      <th>Description</th>\n",
       "    </tr>\n",
       "  </thead>\n",
       "  <tbody>\n",
       "    <tr>\n",
       "      <th>17541</th>\n",
       "      <td>13159</td>\n",
       "      <td>FIAT</td>\n",
       "      <td>500</td>\n",
       "      <td>5018</td>\n",
       "      <td>0.014862</td>\n",
       "      <td>Diesel</td>\n",
       "      <td>mécanique</td>\n",
       "      <td>02/05/2018 à 6h54</td>\n",
       "      <td>modele: , version: LOUNGE 1.2 69, puissance_fi...</td>\n",
       "    </tr>\n",
       "  </tbody>\n",
       "</table>\n",
       "</div>"
      ],
      "text/plain": [
       "       Price  Make Model  Model_year  Mileage    Fuel    Gearbox  \\\n",
       "17541  13159  FIAT   500        5018 0.014862  Diesel  mécanique   \n",
       "\n",
       "                  Online                                        Description  \n",
       "17541  02/05/2018 à 6h54  modele: , version: LOUNGE 1.2 69, puissance_fi...  "
      ]
     },
     "execution_count": 27,
     "metadata": {},
     "output_type": "execute_result"
    }
   ],
   "source": [
    "df_copy[(df_copy['Model_year'] > 2020)]"
   ]
  },
  {
   "cell_type": "code",
   "execution_count": 28,
   "metadata": {},
   "outputs": [],
   "source": [
    "df_copy = df_copy[(df_copy['Model_year'] < 2020)]"
   ]
  },
  {
   "cell_type": "markdown",
   "metadata": {},
   "source": [
    "### Distribution des véhicules\n",
    "Voici la distribution réelle du dataset.\n",
    "Nous pouvons remarquer que la majorité des véhicules présents dans le DataSet ont une date de mise en service inférieur à `2000`.\n",
    "\n",
    "Nous allons grace à la colonne `Modele_year` pouvoir calculer l'`Age` des véhicules que nous utiliserons pour effectuer un filtre sur l'ensemble du dataset et pour pouvoir recadrer les données."
   ]
  },
  {
   "cell_type": "code",
   "execution_count": 29,
   "metadata": {},
   "outputs": [
    {
     "data": {
      "image/png": "[encoded data removed]",
      "text/plain": [
       "<Figure size 1152x360 with 1 Axes>"
      ]
     },
     "metadata": {
      "needs_background": "light"
     },
     "output_type": "display_data"
    }
   ],
   "source": [
    "plt.figure(figsize=(16,5)) # DEBUT DE FINGURE\n",
    "plt.scatter(df_copy['Model_year'],df_copy['Price'], c=df_copy['Model_year'], alpha=0.5, label=\"Car\")\n",
    "plt.xlabel(\"Model Year\")\n",
    "plt.ylabel(\"Price\")\n",
    "plt.title(\"Model year x Price\")\n",
    "plt.legend()\n",
    "plt.show()"
   ]
  },
  {
   "cell_type": "markdown",
   "metadata": {},
   "source": [
    "\n",
    "### Outliers `Model_years` :"
   ]
  },
  {
   "cell_type": "code",
   "execution_count": 30,
   "metadata": {},
   "outputs": [
    {
     "data": {
      "image/png": "[encoded data removed]",
      "text/plain": [
       "<Figure size 1152x360 with 1 Axes>"
      ]
     },
     "metadata": {
      "needs_background": "light"
     },
     "output_type": "display_data"
    }
   ],
   "source": [
    "plt.figure(figsize=(16,5))\n",
    "plt.boxplot(df_copy['Model_year'], vert=False,notch=True)\n",
    "plt.xlabel(\"Cars\")\n",
    "plt.ylabel(\"Years\")\n",
    "plt.title(\"Car models years outliers\")\n",
    "plt.show()"
   ]
  },
  {
   "cell_type": "code",
   "execution_count": 31,
   "metadata": {},
   "outputs": [
    {
     "data": {
      "text/html": [
       "<div>\n",
       "<style scoped>\n",
       "    .dataframe tbody tr th:only-of-type {\n",
       "        vertical-align: middle;\n",
       "    }\n",
       "\n",
       "    .dataframe tbody tr th {\n",
       "        vertical-align: top;\n",
       "    }\n",
       "\n",
       "    .dataframe thead th {\n",
       "        text-align: right;\n",
       "    }\n",
       "</style>\n",
       "<table border=\"1\" class=\"dataframe\">\n",
       "  <thead>\n",
       "    <tr style=\"text-align: right;\">\n",
       "      <th></th>\n",
       "      <th>Price</th>\n",
       "      <th>Make</th>\n",
       "      <th>Model</th>\n",
       "      <th>Model_year</th>\n",
       "      <th>Mileage</th>\n",
       "      <th>Fuel</th>\n",
       "      <th>Gearbox</th>\n",
       "      <th>Online</th>\n",
       "      <th>Description</th>\n",
       "    </tr>\n",
       "  </thead>\n",
       "  <tbody>\n",
       "    <tr>\n",
       "      <th>721</th>\n",
       "      <td>7432</td>\n",
       "      <td>FIAT</td>\n",
       "      <td>1200</td>\n",
       "      <td>1960</td>\n",
       "      <td>0.310168</td>\n",
       "      <td>Essence</td>\n",
       "      <td>mécanique</td>\n",
       "      <td>30/08/2018 à 19h46</td>\n",
       "      <td>modele: 1200, version: SPYDER, puissance_fisca...</td>\n",
       "    </tr>\n",
       "    <tr>\n",
       "      <th>908</th>\n",
       "      <td>16054</td>\n",
       "      <td>PORSCHE</td>\n",
       "      <td>BOXSTER</td>\n",
       "      <td>1997</td>\n",
       "      <td>0.751514</td>\n",
       "      <td>Essence</td>\n",
       "      <td>mécanique</td>\n",
       "      <td>08/09/2018 à 12h46</td>\n",
       "      <td>modele: BOXSTER TYPE 986, version: 2.5 204, pu...</td>\n",
       "    </tr>\n",
       "    <tr>\n",
       "      <th>1475</th>\n",
       "      <td>4653</td>\n",
       "      <td>SUZUKI</td>\n",
       "      <td>VITARA</td>\n",
       "      <td>1999</td>\n",
       "      <td>0.871266</td>\n",
       "      <td>Diesel</td>\n",
       "      <td>mécanique</td>\n",
       "      <td>01/10/2018 à 6h26</td>\n",
       "      <td>modele: VITARA, version: CABRIOLET 1.9 TD JLX ...</td>\n",
       "    </tr>\n",
       "    <tr>\n",
       "      <th>1587</th>\n",
       "      <td>1239</td>\n",
       "      <td>FIAT</td>\n",
       "      <td>UNO</td>\n",
       "      <td>1989</td>\n",
       "      <td>0.437236</td>\n",
       "      <td>Essence</td>\n",
       "      <td>mécanique</td>\n",
       "      <td>28/02/2018 à 0h45</td>\n",
       "      <td>modele: UNO, version: 60 S 5P, puissance_fisca...</td>\n",
       "    </tr>\n",
       "    <tr>\n",
       "      <th>1592</th>\n",
       "      <td>34224</td>\n",
       "      <td>MG</td>\n",
       "      <td>A</td>\n",
       "      <td>1961</td>\n",
       "      <td>0.483676</td>\n",
       "      <td>Essence</td>\n",
       "      <td>mécanique</td>\n",
       "      <td>29/04/2018 à 19h25</td>\n",
       "      <td>modele: A, version: CABRIOLET 1.6, puissance_f...</td>\n",
       "    </tr>\n",
       "    <tr>\n",
       "      <th>...</th>\n",
       "      <td>...</td>\n",
       "      <td>...</td>\n",
       "      <td>...</td>\n",
       "      <td>...</td>\n",
       "      <td>...</td>\n",
       "      <td>...</td>\n",
       "      <td>...</td>\n",
       "      <td>...</td>\n",
       "      <td>...</td>\n",
       "    </tr>\n",
       "    <tr>\n",
       "      <th>165435</th>\n",
       "      <td>39381</td>\n",
       "      <td>PORSCHE</td>\n",
       "      <td>911</td>\n",
       "      <td>1971</td>\n",
       "      <td>0.400172</td>\n",
       "      <td>Essence</td>\n",
       "      <td>mécanique</td>\n",
       "      <td>15/06/2018 à 20h31</td>\n",
       "      <td>modele: 911 TYPE 901, version: 2.2 E, puissanc...</td>\n",
       "    </tr>\n",
       "    <tr>\n",
       "      <th>166015</th>\n",
       "      <td>36682</td>\n",
       "      <td>MG</td>\n",
       "      <td>TC</td>\n",
       "      <td>1947</td>\n",
       "      <td>0.024643</td>\n",
       "      <td>Essence</td>\n",
       "      <td>mécanique</td>\n",
       "      <td>13/05/2018 à 22h31</td>\n",
       "      <td>modele: TC, version: E, puissance_fiscale: 7, ...</td>\n",
       "    </tr>\n",
       "    <tr>\n",
       "      <th>166470</th>\n",
       "      <td>80060</td>\n",
       "      <td>FERRARI</td>\n",
       "      <td>F355</td>\n",
       "      <td>1996</td>\n",
       "      <td>0.335665</td>\n",
       "      <td>Essence</td>\n",
       "      <td>mécanique</td>\n",
       "      <td>15/09/2018 à 7h24</td>\n",
       "      <td>modele: F355, version: 3.5 BERLINETTE BV6, pui...</td>\n",
       "    </tr>\n",
       "    <tr>\n",
       "      <th>166536</th>\n",
       "      <td>77977</td>\n",
       "      <td>PORSCHE</td>\n",
       "      <td>911</td>\n",
       "      <td>1985</td>\n",
       "      <td>0.682177</td>\n",
       "      <td>Essence</td>\n",
       "      <td>mécanique</td>\n",
       "      <td>21/03/2018 à 21h18</td>\n",
       "      <td>modele: 911 TYPE 930, version: (930) TURBO 3.3...</td>\n",
       "    </tr>\n",
       "    <tr>\n",
       "      <th>166611</th>\n",
       "      <td>2465</td>\n",
       "      <td>CITROEN</td>\n",
       "      <td>BX</td>\n",
       "      <td>1988</td>\n",
       "      <td>0.353182</td>\n",
       "      <td>Diesel</td>\n",
       "      <td>mécanique</td>\n",
       "      <td>08/04/2018 à 11h38</td>\n",
       "      <td>modele: BX, version: 19 R DIESEL, puissance_fi...</td>\n",
       "    </tr>\n",
       "  </tbody>\n",
       "</table>\n",
       "<p>607 rows × 9 columns</p>\n",
       "</div>"
      ],
      "text/plain": [
       "        Price     Make    Model  Model_year  Mileage     Fuel    Gearbox  \\\n",
       "721      7432     FIAT     1200        1960 0.310168  Essence  mécanique   \n",
       "908     16054  PORSCHE  BOXSTER        1997 0.751514  Essence  mécanique   \n",
       "1475     4653   SUZUKI   VITARA        1999 0.871266   Diesel  mécanique   \n",
       "1587     1239     FIAT      UNO        1989 0.437236  Essence  mécanique   \n",
       "1592    34224       MG        A        1961 0.483676  Essence  mécanique   \n",
       "...       ...      ...      ...         ...      ...      ...        ...   \n",
       "165435  39381  PORSCHE      911        1971 0.400172  Essence  mécanique   \n",
       "166015  36682       MG       TC        1947 0.024643  Essence  mécanique   \n",
       "166470  80060  FERRARI     F355        1996 0.335665  Essence  mécanique   \n",
       "166536  77977  PORSCHE      911        1985 0.682177  Essence  mécanique   \n",
       "166611   2465  CITROEN       BX        1988 0.353182   Diesel  mécanique   \n",
       "\n",
       "                    Online                                        Description  \n",
       "721     30/08/2018 à 19h46  modele: 1200, version: SPYDER, puissance_fisca...  \n",
       "908     08/09/2018 à 12h46  modele: BOXSTER TYPE 986, version: 2.5 204, pu...  \n",
       "1475     01/10/2018 à 6h26  modele: VITARA, version: CABRIOLET 1.9 TD JLX ...  \n",
       "1587     28/02/2018 à 0h45  modele: UNO, version: 60 S 5P, puissance_fisca...  \n",
       "1592    29/04/2018 à 19h25  modele: A, version: CABRIOLET 1.6, puissance_f...  \n",
       "...                    ...                                                ...  \n",
       "165435  15/06/2018 à 20h31  modele: 911 TYPE 901, version: 2.2 E, puissanc...  \n",
       "166015  13/05/2018 à 22h31  modele: TC, version: E, puissance_fiscale: 7, ...  \n",
       "166470   15/09/2018 à 7h24  modele: F355, version: 3.5 BERLINETTE BV6, pui...  \n",
       "166536  21/03/2018 à 21h18  modele: 911 TYPE 930, version: (930) TURBO 3.3...  \n",
       "166611  08/04/2018 à 11h38  modele: BX, version: 19 R DIESEL, puissance_fi...  \n",
       "\n",
       "[607 rows x 9 columns]"
      ]
     },
     "execution_count": 31,
     "metadata": {},
     "output_type": "execute_result"
    }
   ],
   "source": [
    "old_cars = df_copy[(df_copy['Model_year'] < 2000)]\n",
    "old_cars"
   ]
  },
  {
   "cell_type": "code",
   "execution_count": 32,
   "metadata": {},
   "outputs": [
    {
     "data": {
      "text/plain": [
       "count   164661.000000\n",
       "mean      2014.677185\n",
       "std          3.712565\n",
       "min       1900.000000\n",
       "25%       2014.000000\n",
       "50%       2016.000000\n",
       "75%       2017.000000\n",
       "max       2018.000000\n",
       "Name: Model_year, dtype: float64"
      ]
     },
     "execution_count": 32,
     "metadata": {},
     "output_type": "execute_result"
    }
   ],
   "source": [
    "df_copy['Model_year'].describe()"
   ]
  },
  {
   "cell_type": "markdown",
   "metadata": {},
   "source": [
    "### Comme nous pouvons le constater, \n",
    " \n",
    "- la majorité des données aberrantes dans présente dans la variable `Modele_year` sont des données dont la date de mise en service est inférieure à 2005.\n",
    "- Nous n'allons pas supprimer ces aberrations maintenant, nous allons attendre de calculer l'âge des véhicules pour le faire."
   ]
  },
  {
   "cell_type": "markdown",
   "metadata": {},
   "source": [
    "______"
   ]
  },
  {
   "cell_type": "markdown",
   "metadata": {},
   "source": [
    "# Exploration de `Gearbox`"
   ]
  },
  {
   "cell_type": "markdown",
   "metadata": {},
   "source": [
    "Nous allons maintenant analyser les données `Gearbox` qui référence le type de boîte de vitesse par véhicule : `automatique ` ou `mécannique`"
   ]
  },
  {
   "cell_type": "code",
   "execution_count": 33,
   "metadata": {},
   "outputs": [
    {
     "data": {
      "text/plain": [
       "<matplotlib.axes._subplots.AxesSubplot at 0x1a2462bad0>"
      ]
     },
     "execution_count": 33,
     "metadata": {},
     "output_type": "execute_result"
    },
    {
     "data": {
      "image/png": "[encoded data removed]",
      "text/plain": [
       "<Figure size 432x288 with 1 Axes>"
      ]
     },
     "metadata": {
      "needs_background": "light"
     },
     "output_type": "display_data"
    }
   ],
   "source": [
    "gearbox = pd.DataFrame(df_copy['Gearbox'].value_counts())\n",
    "gearbox = gearbox.reset_index()\n",
    "gearbox.plot.bar(x='index', y='Gearbox')\n"
   ]
  },
  {
   "cell_type": "code",
   "execution_count": 34,
   "metadata": {},
   "outputs": [],
   "source": [
    "df_copy['Gearbox'] = df_copy['Gearbox'].str.upper()"
   ]
  },
  {
   "cell_type": "markdown",
   "metadata": {},
   "source": [
    "### Dummyfication de `Gearbox`"
   ]
  },
  {
   "cell_type": "code",
   "execution_count": 35,
   "metadata": {},
   "outputs": [
    {
     "data": {
      "text/html": [
       "<div>\n",
       "<style scoped>\n",
       "    .dataframe tbody tr th:only-of-type {\n",
       "        vertical-align: middle;\n",
       "    }\n",
       "\n",
       "    .dataframe tbody tr th {\n",
       "        vertical-align: top;\n",
       "    }\n",
       "\n",
       "    .dataframe thead th {\n",
       "        text-align: right;\n",
       "    }\n",
       "</style>\n",
       "<table border=\"1\" class=\"dataframe\">\n",
       "  <thead>\n",
       "    <tr style=\"text-align: right;\">\n",
       "      <th></th>\n",
       "      <th>gearbox_AUTOMATIQUE</th>\n",
       "      <th>gearbox_MÉCANIQUE</th>\n",
       "    </tr>\n",
       "  </thead>\n",
       "  <tbody>\n",
       "    <tr>\n",
       "      <th>0</th>\n",
       "      <td>0</td>\n",
       "      <td>1</td>\n",
       "    </tr>\n",
       "    <tr>\n",
       "      <th>1</th>\n",
       "      <td>1</td>\n",
       "      <td>0</td>\n",
       "    </tr>\n",
       "    <tr>\n",
       "      <th>2</th>\n",
       "      <td>1</td>\n",
       "      <td>0</td>\n",
       "    </tr>\n",
       "    <tr>\n",
       "      <th>3</th>\n",
       "      <td>0</td>\n",
       "      <td>1</td>\n",
       "    </tr>\n",
       "    <tr>\n",
       "      <th>4</th>\n",
       "      <td>0</td>\n",
       "      <td>1</td>\n",
       "    </tr>\n",
       "  </tbody>\n",
       "</table>\n",
       "</div>"
      ],
      "text/plain": [
       "   gearbox_AUTOMATIQUE  gearbox_MÉCANIQUE\n",
       "0                    0                  1\n",
       "1                    1                  0\n",
       "2                    1                  0\n",
       "3                    0                  1\n",
       "4                    0                  1"
      ]
     },
     "execution_count": 35,
     "metadata": {},
     "output_type": "execute_result"
    }
   ],
   "source": [
    "gearbox = pd.get_dummies(df_copy['Gearbox'], prefix='gearbox', columns=['auto, meca'])\n",
    "gearbox = gearbox.rename(columns={\"gearbox_automatique\": \"gearbox_auto\", \"gearbox_mécanique\": \"gearbox_meca\"})\n",
    "gearbox.head()"
   ]
  },
  {
   "cell_type": "markdown",
   "metadata": {},
   "source": [
    "### Observations :\n",
    "\n",
    "1. Nous pouvons constater que 2/3 des véhicules sont mécaniques et 1/3 sont automatiques\n",
    "2. Pour optimiser au mieux le modèle nous allons devoir `Dummifier` les données et créer pour chaque catégorie une colonne qui référencera par `1=True` ou `0=False`\n",
    " si le véhicule à le mécanisme en question\n"
   ]
  },
  {
   "cell_type": "markdown",
   "metadata": {},
   "source": [
    "### Dummification"
   ]
  },
  {
   "cell_type": "code",
   "execution_count": 36,
   "metadata": {},
   "outputs": [],
   "source": [
    "df_copy['gearbox_auto'] = gearbox['gearbox_AUTOMATIQUE']\n",
    "df_copy['gearbox_meca'] = gearbox['gearbox_MÉCANIQUE']"
   ]
  },
  {
   "cell_type": "markdown",
   "metadata": {},
   "source": [
    "______"
   ]
  },
  {
   "cell_type": "markdown",
   "metadata": {},
   "source": [
    "# Exploration de `Fuel` "
   ]
  },
  {
   "cell_type": "code",
   "execution_count": 37,
   "metadata": {},
   "outputs": [
    {
     "data": {
      "text/plain": [
       "<matplotlib.axes._subplots.AxesSubplot at 0x1a23bbc510>"
      ]
     },
     "execution_count": 37,
     "metadata": {},
     "output_type": "execute_result"
    },
    {
     "data": {
      "image/png": "[encoded data removed]",
      "text/plain": [
       "<Figure size 432x288 with 1 Axes>"
      ]
     },
     "metadata": {
      "needs_background": "light"
     },
     "output_type": "display_data"
    }
   ],
   "source": [
    "fuel = pd.DataFrame(df_copy['Fuel'].value_counts())\n",
    "fuel = fuel.reset_index()\n",
    "fuel.plot.bar(x='index', y='Fuel')"
   ]
  },
  {
   "cell_type": "markdown",
   "metadata": {},
   "source": [
    "### Dumyfication `Fuel`"
   ]
  },
  {
   "cell_type": "code",
   "execution_count": 38,
   "metadata": {},
   "outputs": [],
   "source": [
    "fuel = pd.get_dummies(df_copy['Fuel'], prefix='Fuel')\n"
   ]
  },
  {
   "cell_type": "code",
   "execution_count": 39,
   "metadata": {},
   "outputs": [],
   "source": [
    "fuel =fuel.rename(columns={\"Fuel_Bicarburation essence GNV\": \"Fuel_GNV\",\n",
    "                     \"Fuel_Bicarburation essence GPL\" :  \"Fuel_GPL\",\n",
    "                     \"Fuel_Bicarburation essence bioéthanol\" : \"Fuel_ethanol\",\n",
    "                     \"Fuel_Diesel\": \"Fuel_diesel\",\n",
    "                     \"Fuel_Electrique\" : \"Fuel_elec\",\n",
    "                     \"Fuel_Essence\" : \"Fuel_essence\",\n",
    "                     \"Fuel_Hybride diesel électrique\" : \"Fuel_hybrid_diesel_elect\",\n",
    "                     \"Fuel_Hybride essence électrique\" :  \"Fuel_hybrid_essence_elect\"})"
   ]
  },
  {
   "cell_type": "code",
   "execution_count": 40,
   "metadata": {},
   "outputs": [],
   "source": [
    "df_copy['Fuel_GNV'] = fuel['Fuel_GNV']\n",
    "df_copy['Fuel_GPL'] = fuel['Fuel_GPL']\n",
    "df_copy['Fuel_ethanol'] = fuel['Fuel_ethanol']\n",
    "df_copy['Fuel_diesel'] = fuel['Fuel_diesel']\n",
    "\n",
    "df_copy['Fuel_elec'] = fuel['Fuel_elec']\n",
    "df_copy['Fuel_essence'] = fuel['Fuel_essence']\n",
    "df_copy['Fuel_hybrid_diesel_elect'] = fuel['Fuel_hybrid_diesel_elect']\n",
    "df_copy['Fuel_hybrid_essence_elect'] = fuel['Fuel_hybrid_essence_elect']\n"
   ]
  },
  {
   "cell_type": "markdown",
   "metadata": {},
   "source": [
    "### Convert `Fuel` to  0 or 1"
   ]
  },
  {
   "cell_type": "code",
   "execution_count": 41,
   "metadata": {},
   "outputs": [],
   "source": [
    "fuel = list(df_copy['Fuel'].unique())\n",
    "df_copy['Fuel'] = df_copy['Fuel'].map(lambda x : fuel.index(x))"
   ]
  },
  {
   "cell_type": "markdown",
   "metadata": {},
   "source": [
    "______\n",
    "## `DESCRIPTION` VARIABLE"
   ]
  },
  {
   "cell_type": "markdown",
   "metadata": {},
   "source": [
    "`Description` est une variable dans lequel nous avons de nombreuses informations qui peuvent être pertinentes pour le modèle.\n",
    "\n",
    "Nous allons extraire de cette variable les informations suivantes : Version, Portes, Cylindre, Puissance Fiscale, Couleurs, Options..."
   ]
  },
  {
   "cell_type": "code",
   "execution_count": 42,
   "metadata": {},
   "outputs": [],
   "source": [
    "# HANDLE COLORS\n",
    "df_copy['Colors'] = df_copy['Description'].map(lambda x : re.split(r'couleur: ', x.lower())[-1])\n",
    "df_copy = to_int(df_copy, 'Colors')"
   ]
  },
  {
   "cell_type": "code",
   "execution_count": 43,
   "metadata": {},
   "outputs": [],
   "source": [
    "# HANDLE VERSIONS\n",
    "df_copy['Versions'] = df_copy['Description'].map(lambda x : re.search(r'version: (.*?), puissance_fiscale', x).group(1))"
   ]
  },
  {
   "cell_type": "code",
   "execution_count": 44,
   "metadata": {},
   "outputs": [],
   "source": [
    "# HANDLE POWER\n",
    "df_copy['Power'] = df_copy['Description'].map(lambda x : re.search(r'puissance_fiscale: (.*?), portes', x).group(1))\n",
    "df_copy['Power'] = df_copy['Power'].map(lambda x : int(x))"
   ]
  },
  {
   "cell_type": "code",
   "execution_count": 45,
   "metadata": {},
   "outputs": [],
   "source": [
    "# HANDLE DOORS\n",
    "df_copy['Doors'] = df_copy['Description'].map(lambda x : re.search(r'portes: (.*?), options', x).group(1))\n",
    "df_copy['Doors'] = df_copy['Doors'].map(lambda x: 0 if(x=='') else int(x[:-2]) )"
   ]
  },
  {
   "cell_type": "code",
   "execution_count": 46,
   "metadata": {},
   "outputs": [],
   "source": [
    "df_copy['Gearbox'] = df_copy['Gearbox'].str.upper()"
   ]
  },
  {
   "cell_type": "markdown",
   "metadata": {},
   "source": [
    "_______\n",
    "## `Online`"
   ]
  },
  {
   "cell_type": "markdown",
   "metadata": {},
   "source": [
    "La variable `Online` contient les informations de mise en ligne du véhicule. Malheureusement le format d'enregistrement n'est pas compréhensible pour le modèle.\n",
    "\n",
    "Nous devons donc trouver un moyen de pouvoir rendre ces données exploitables par le modèle.\n",
    "\n",
    "J'ai choisi d'extraitre de ce champs : les années, les mois, et les jours dans des champs différents"
   ]
  },
  {
   "cell_type": "code",
   "execution_count": 47,
   "metadata": {},
   "outputs": [],
   "source": [
    "online_dates = pd.to_datetime(df_copy['Online'], format='%d/%m/%Y à %Hh%M')"
   ]
  },
  {
   "cell_type": "code",
   "execution_count": 48,
   "metadata": {},
   "outputs": [],
   "source": [
    "df_copy['Online_year'] = online_dates.dt.year"
   ]
  },
  {
   "cell_type": "code",
   "execution_count": 49,
   "metadata": {},
   "outputs": [],
   "source": [
    "df_copy['Online_month'] = online_dates.dt.month"
   ]
  },
  {
   "cell_type": "code",
   "execution_count": 50,
   "metadata": {},
   "outputs": [],
   "source": [
    "df_copy['Online_days'] = online_dates.dt.day"
   ]
  },
  {
   "cell_type": "markdown",
   "metadata": {},
   "source": [
    "_____\n",
    "## `Ages`"
   ]
  },
  {
   "cell_type": "markdown",
   "metadata": {},
   "source": [
    "Grâce au champs `Online_years` que nous avons précédement extrait nous allons pouvoir calculer l'âge de chaque véhicule.\n",
    "Cette information peut être pertinente pour modèle et ainsi améliorer les prédictions de notre modèle."
   ]
  },
  {
   "cell_type": "code",
   "execution_count": 51,
   "metadata": {},
   "outputs": [],
   "source": [
    "df_copy['Ages'] = df_copy['Online_year'] - df_copy['Model_year']"
   ]
  },
  {
   "cell_type": "code",
   "execution_count": 52,
   "metadata": {},
   "outputs": [
    {
     "data": {
      "image/png": "[encoded data removed]",
      "text/plain": [
       "<Figure size 1296x432 with 1 Axes>"
      ]
     },
     "metadata": {
      "needs_background": "light"
     },
     "output_type": "display_data"
    }
   ],
   "source": [
    "plt.figure(figsize=(18,6))\n",
    "plt.hist(df_copy['Ages'],bins=25, range=(0,25), label='Ages Distribution')\n",
    "plt.xlabel(\"Ages\")\n",
    "plt.title('Cars')\n",
    "plt.show()"
   ]
  },
  {
   "cell_type": "code",
   "execution_count": 53,
   "metadata": {},
   "outputs": [
    {
     "data": {
      "text/plain": [
       "count   164661.000000\n",
       "mean         3.322815\n",
       "std          3.712565\n",
       "min          0.000000\n",
       "25%          1.000000\n",
       "50%          2.000000\n",
       "75%          4.000000\n",
       "max        118.000000\n",
       "Name: Ages, dtype: float64"
      ]
     },
     "execution_count": 53,
     "metadata": {},
     "output_type": "execute_result"
    }
   ],
   "source": [
    "df_copy['Ages'].describe()"
   ]
  },
  {
   "cell_type": "markdown",
   "metadata": {},
   "source": [
    "### Observation de `Ages`\n",
    "Les 3/4 des véhicules ont moins de `4 ans`. \n",
    "Le futur modèle ayant pour but aussi de prédire le prix des véhicules ayant un âge avancé nous allons filtrer les données 15 ans et supprimer les voitures au-delà. \n"
   ]
  },
  {
   "cell_type": "code",
   "execution_count": 54,
   "metadata": {},
   "outputs": [],
   "source": [
    "df_copy = df_copy[(df_copy['Ages'] < 15)]"
   ]
  },
  {
   "cell_type": "markdown",
   "metadata": {},
   "source": [
    "______\n",
    "#  Variable `VERSIONS` :`Cylinder` & `Horses`"
   ]
  },
  {
   "cell_type": "markdown",
   "metadata": {},
   "source": [
    "\n",
    "La variable `Versions` détient un certain nombre d'informations intéréssantes que nous pouvons extraire: \n",
    "- Les Cylindres et les Chevaux. Ces derniers peuvent avoir une forte corrélation avec le prix. Nous allons essayer de créer deux nouveaux champs: `Cylinder` & `Horses`\n",
    "- Nous allons ensuite analyses ces nouvelles données afin de vérifier s'il y a des données manquantes. "
   ]
  },
  {
   "cell_type": "code",
   "execution_count": 55,
   "metadata": {},
   "outputs": [],
   "source": [
    "# Extract Cylinders\n",
    "df_copy['Cylinder'] = df_copy['Versions'].str.extract(r'(\\d+\\.\\d)', flags=0, expand=True).astype(float)"
   ]
  },
  {
   "cell_type": "code",
   "execution_count": 56,
   "metadata": {},
   "outputs": [],
   "source": [
    "# Extract Horses\n",
    "df_copy['Horses'] = df_copy['Versions'].str.extract('( \\d+ |\\d+CH)',  flags=0, expand=True)\n",
    "df_copy['Horses'] =  df_copy['Horses'].str.extract('(\\d+)',  flags=0, expand=True)"
   ]
  },
  {
   "cell_type": "markdown",
   "metadata": {},
   "source": [
    "______\n",
    "## Ségmenter les données pour trouver les données `Cylinder` & `Horses` manquantes"
   ]
  },
  {
   "cell_type": "code",
   "execution_count": 57,
   "metadata": {},
   "outputs": [
    {
     "data": {
      "text/plain": [
       "(162738, 29)"
      ]
     },
     "execution_count": 57,
     "metadata": {},
     "output_type": "execute_result"
    }
   ],
   "source": [
    "df_copy.shape"
   ]
  },
  {
   "cell_type": "markdown",
   "metadata": {},
   "source": [
    "______\n",
    "\n",
    "# Analyse de `Cylinder`"
   ]
  },
  {
   "cell_type": "markdown",
   "metadata": {},
   "source": [
    "Analysons maintenant ce que contient la nouvelle variables `Cylinder`"
   ]
  },
  {
   "cell_type": "code",
   "execution_count": 58,
   "metadata": {},
   "outputs": [
    {
     "data": {
      "text/plain": [
       "True     133806\n",
       "False     28932\n",
       "Name: Versions, dtype: int64"
      ]
     },
     "execution_count": 58,
     "metadata": {},
     "output_type": "execute_result"
    }
   ],
   "source": [
    "# Données Manquantes et présentes\n",
    "df_copy['Versions'].str.contains(r'(\\d+\\.\\d+)').value_counts()"
   ]
  },
  {
   "cell_type": "code",
   "execution_count": 59,
   "metadata": {},
   "outputs": [],
   "source": [
    "has_cylinder = df_copy[df_copy['Cylinder'].isna()==False ]"
   ]
  },
  {
   "cell_type": "code",
   "execution_count": 60,
   "metadata": {},
   "outputs": [
    {
     "data": {
      "text/html": [
       "<div>\n",
       "<style scoped>\n",
       "    .dataframe tbody tr th:only-of-type {\n",
       "        vertical-align: middle;\n",
       "    }\n",
       "\n",
       "    .dataframe tbody tr th {\n",
       "        vertical-align: top;\n",
       "    }\n",
       "\n",
       "    .dataframe thead th {\n",
       "        text-align: right;\n",
       "    }\n",
       "</style>\n",
       "<table border=\"1\" class=\"dataframe\">\n",
       "  <thead>\n",
       "    <tr style=\"text-align: right;\">\n",
       "      <th></th>\n",
       "      <th>Cylinder</th>\n",
       "    </tr>\n",
       "  </thead>\n",
       "  <tbody>\n",
       "    <tr>\n",
       "      <th>count</th>\n",
       "      <td>133806.000000</td>\n",
       "    </tr>\n",
       "    <tr>\n",
       "      <th>mean</th>\n",
       "      <td>1.589883</td>\n",
       "    </tr>\n",
       "    <tr>\n",
       "      <th>std</th>\n",
       "      <td>0.767664</td>\n",
       "    </tr>\n",
       "    <tr>\n",
       "      <th>min</th>\n",
       "      <td>0.600000</td>\n",
       "    </tr>\n",
       "    <tr>\n",
       "      <th>25%</th>\n",
       "      <td>1.300000</td>\n",
       "    </tr>\n",
       "    <tr>\n",
       "      <th>50%</th>\n",
       "      <td>1.600000</td>\n",
       "    </tr>\n",
       "    <tr>\n",
       "      <th>75%</th>\n",
       "      <td>1.600000</td>\n",
       "    </tr>\n",
       "    <tr>\n",
       "      <th>max</th>\n",
       "      <td>87.400000</td>\n",
       "    </tr>\n",
       "  </tbody>\n",
       "</table>\n",
       "</div>"
      ],
      "text/plain": [
       "           Cylinder\n",
       "count 133806.000000\n",
       "mean       1.589883\n",
       "std        0.767664\n",
       "min        0.600000\n",
       "25%        1.300000\n",
       "50%        1.600000\n",
       "75%        1.600000\n",
       "max       87.400000"
      ]
     },
     "execution_count": 60,
     "metadata": {},
     "output_type": "execute_result"
    }
   ],
   "source": [
    "# Statistiques des données Cylindre\n",
    "pd.DataFrame(has_cylinder['Cylinder'].astype(float).describe())"
   ]
  },
  {
   "cell_type": "code",
   "execution_count": 61,
   "metadata": {},
   "outputs": [
    {
     "data": {
      "text/plain": [
       "BMW         8949\n",
       "MERCEDES    8021\n",
       "TOYOTA      3311\n",
       "CITROEN     1888\n",
       "VOLVO       1390\n",
       "Name: Make, dtype: int64"
      ]
     },
     "execution_count": 61,
     "metadata": {},
     "output_type": "execute_result"
    }
   ],
   "source": [
    "# Marques de véhicules ayant le plus de manqutes de données\n",
    "df_copy[ df_copy['Cylinder'].isna()==True]['Make'].value_counts().head()"
   ]
  },
  {
   "cell_type": "code",
   "execution_count": 62,
   "metadata": {},
   "outputs": [
    {
     "data": {
      "text/plain": [
       "SERIE 1     1728\n",
       "CLASSE A    1564\n",
       "CLASSE C    1517\n",
       "SERIE 3     1500\n",
       "YARIS       1296\n",
       "Name: Model, dtype: int64"
      ]
     },
     "execution_count": 62,
     "metadata": {},
     "output_type": "execute_result"
    }
   ],
   "source": [
    "df_copy[ df_copy['Cylinder'].isna()==True]['Model'].value_counts().head()"
   ]
  },
  {
   "cell_type": "markdown",
   "metadata": {},
   "source": [
    "### Observations:\n",
    "\n",
    "- `NaN`  : Nous constatons que plus de `28932` véhicules n'ont pas de Cylindres de renseignés.\n",
    "- Nous pouvons constater que la `moyenne` des cylindres renseignés est de `1.60`. L'écart type moyen est de `0,89` entre chaque véhicule.\n",
    "- `Données abérantes` : nous constatons que le max est de `87.4`. Cela doit être une erreur de saisie. Nous allons supprimer les données ayant un cylindre supérieure à 7.\n",
    "- Nous allons devoir analyser quel type de véhicule n'a pas de Cylindre pour pouvoir trouver une solution qui peut combler ce manque.\n"
   ]
  },
  {
   "cell_type": "markdown",
   "metadata": {},
   "source": [
    "----\n",
    "# Analyse de `Horses`"
   ]
  },
  {
   "cell_type": "code",
   "execution_count": 63,
   "metadata": {},
   "outputs": [
    {
     "data": {
      "text/plain": [
       "False    148149\n",
       "True      14589\n",
       "Name: Horses, dtype: int64"
      ]
     },
     "execution_count": 63,
     "metadata": {},
     "output_type": "execute_result"
    }
   ],
   "source": [
    "# Valeurs manquantes pour Horses\n",
    "df_copy['Horses'].isna().value_counts()"
   ]
  },
  {
   "cell_type": "code",
   "execution_count": 64,
   "metadata": {},
   "outputs": [
    {
     "data": {
      "text/plain": [
       "BMW         2707\n",
       "MERCEDES    2200\n",
       "TOYOTA      2023\n",
       "PEUGEOT      875\n",
       "RENAULT      722\n",
       "Name: Make, dtype: int64"
      ]
     },
     "execution_count": 64,
     "metadata": {},
     "output_type": "execute_result"
    }
   ],
   "source": [
    "# Marques concernée par les données manquantes\n",
    "df_copy[ df_copy['Horses'].isna()==True]['Make'].value_counts().head()"
   ]
  },
  {
   "cell_type": "code",
   "execution_count": 65,
   "metadata": {},
   "outputs": [
    {
     "data": {
      "text/plain": [
       "SERIE 1    918\n",
       "SERIE 2    780\n",
       "GLA        644\n",
       "YARIS      547\n",
       "AURIS      520\n",
       "Name: Model, dtype: int64"
      ]
     },
     "execution_count": 65,
     "metadata": {},
     "output_type": "execute_result"
    }
   ],
   "source": [
    "df_copy[ df_copy['Horses'].isna()==True]['Model'].value_counts().head()"
   ]
  },
  {
   "cell_type": "code",
   "execution_count": 66,
   "metadata": {},
   "outputs": [],
   "source": [
    "# Enregistrement des rows manquantes pour les prédire dans les  modèles des étapes suivantes\n",
    "not_horses = df_copy[df_copy['Horses'].isna()==True]"
   ]
  },
  {
   "cell_type": "code",
   "execution_count": 67,
   "metadata": {},
   "outputs": [],
   "source": [
    "# Enregistrement des rows présente pour l'entraintement des futurs modèles\n",
    "has_horses = df_copy[(df_copy['Horses'].isna()==False)]\n",
    "has_horses['Horses']= has_horses['Horses'].astype(int)"
   ]
  },
  {
   "cell_type": "markdown",
   "metadata": {},
   "source": [
    "#### Observation : \n",
    "- `14583` véhicules n'ont pas de chevaux renseignés. \n",
    "- Les marques de véhicules présentant ces absences de saisies sont les mêmes que celles de Cylindres.\n",
    "- Afin d'avoir un modèle performant, nous allons devoir trouver un moyen de récupérer ces données manquantes.\n",
    "- Pour cela deux choix s'offre à nous :\n",
    "    1. Scrapper un SiteWeb ayant ces informations.\n",
    "    2. Prédire ces manques grâce à un modele\n",
    "    \n",
    "    \n",
    "La solution que j'ai choisis est la 2. Je vais grâce à un modèle `RandomForestRegressor` prédire les données manquantes."
   ]
  },
  {
   "cell_type": "markdown",
   "metadata": {},
   "source": [
    "_____\n",
    "## Preparation de `Cylinder ` et `Horses` à la prédiction."
   ]
  },
  {
   "cell_type": "code",
   "execution_count": 68,
   "metadata": {},
   "outputs": [
    {
     "data": {
      "text/plain": [
       "(9028, 29)"
      ]
     },
     "execution_count": 68,
     "metadata": {},
     "output_type": "execute_result"
    }
   ],
   "source": [
    "# No Cylinders and Horses\n",
    "no_cylinder_and_horse = df_copy[(df_copy['Cylinder'].isna()==True)  & (df_copy['Horses'].isna()==True)]\n",
    "no_cylinder_and_horse = to_int(no_cylinder_and_horse, 'Model')\n",
    "no_cylinder_and_horse = to_int(no_cylinder_and_horse, 'Make')\n",
    "no_cylinder_and_horse.shape"
   ]
  },
  {
   "cell_type": "code",
   "execution_count": 69,
   "metadata": {},
   "outputs": [
    {
     "data": {
      "text/plain": [
       "(9028, 29)"
      ]
     },
     "execution_count": 69,
     "metadata": {},
     "output_type": "execute_result"
    }
   ],
   "source": [
    "no_cylinder_and_horse.shape"
   ]
  },
  {
   "cell_type": "code",
   "execution_count": 70,
   "metadata": {},
   "outputs": [
    {
     "data": {
      "text/plain": [
       "(19904, 29)"
      ]
     },
     "execution_count": 70,
     "metadata": {},
     "output_type": "execute_result"
    }
   ],
   "source": [
    "# No cylinder but horses\n",
    "no_cylinder_has_hors = df_copy[df_copy['Cylinder'].isna() & ( df_copy['Horses'].isna() ==False )]\n",
    "no_cylinder_has_hors = to_int(no_cylinder_has_hors, 'Make')\n",
    "no_cylinder_has_hors = to_int(no_cylinder_has_hors, 'Model')\n",
    "no_cylinder_has_hors.shape"
   ]
  },
  {
   "cell_type": "code",
   "execution_count": 71,
   "metadata": {},
   "outputs": [
    {
     "data": {
      "text/plain": [
       "(19904, 29)"
      ]
     },
     "execution_count": 71,
     "metadata": {},
     "output_type": "execute_result"
    }
   ],
   "source": [
    "no_cylinder_has_hors.shape"
   ]
  },
  {
   "cell_type": "code",
   "execution_count": 72,
   "metadata": {},
   "outputs": [
    {
     "data": {
      "text/plain": [
       "(5561, 29)"
      ]
     },
     "execution_count": 72,
     "metadata": {},
     "output_type": "execute_result"
    }
   ],
   "source": [
    "# Cylinder but not Horses\n",
    "has_cyl_no_hors  = df_copy[( df_copy['Cylinder'].isna()==False) & ( df_copy['Horses'].isna())]\n",
    "has_cyl_no_hors  = to_int(has_cyl_no_hors , 'Make')\n",
    "has_cyl_no_hors  = to_int(has_cyl_no_hors , 'Model')\n",
    "has_cyl_no_hors.shape"
   ]
  },
  {
   "cell_type": "code",
   "execution_count": 73,
   "metadata": {},
   "outputs": [
    {
     "data": {
      "text/plain": [
       "(5561, 29)"
      ]
     },
     "execution_count": 73,
     "metadata": {},
     "output_type": "execute_result"
    }
   ],
   "source": [
    "has_cyl_no_hors.shape"
   ]
  },
  {
   "cell_type": "code",
   "execution_count": 74,
   "metadata": {},
   "outputs": [
    {
     "data": {
      "text/plain": [
       "(128245, 29)"
      ]
     },
     "execution_count": 74,
     "metadata": {},
     "output_type": "execute_result"
    }
   ],
   "source": [
    "complete = df_copy[(df_copy['Cylinder'].isna()==False) & (df_copy['Horses'].isna()==False)]\n",
    "complete  = to_int(complete , 'Make')\n",
    "complete  = to_int(complete , 'Model')\n",
    "complete.shape"
   ]
  },
  {
   "cell_type": "markdown",
   "metadata": {},
   "source": [
    "\n",
    "\n",
    "### Observations :\n",
    "D'après les données que nous avons ici. \n",
    "Les véhicules qui n'ont pas de Cylindrés et de chevaux  de renseigné sont majoritairement de marque `BMW`, `Mercedes` et `Toyota`.\n",
    "\n",
    "Ces données étant importantes pour le modèle, nous les avons ségmentées de manière suivante : \n",
    "\n",
    "1. `no_cylinder_and_horse`     pour `Cylinder=False`  &  `Horses=False` \n",
    "2. `no_cylinder_has_hors`  pour `Cylinder=False`  &  `Horses=True` \n",
    "3. `has_cyl_no_hors`  pour `Cylinder=True`  &  `Horses=False` \n",
    "4. `complete`           pour `Cylinder=True`  &  `Horses=True` \n",
    "\n",
    "\n",
    "Nous avons besoin de cette segmentation pour prédire les données manquantes avec un modele de Machine Learning."
   ]
  },
  {
   "cell_type": "markdown",
   "metadata": {},
   "source": [
    "___\n",
    "# Variable `Makes`\n",
    "Analysons avant cela, la fréquence de chaque véhicule dans l'ensemble du dataset."
   ]
  },
  {
   "cell_type": "code",
   "execution_count": 75,
   "metadata": {},
   "outputs": [
    {
     "data": {
      "text/plain": [
       "0             308\n",
       "1              X6\n",
       "2             RS6\n",
       "3              KA\n",
       "4            TIPO\n",
       "           ...   \n",
       "166690         A4\n",
       "166691       GOLF\n",
       "166692     FIESTA\n",
       "166693    OCTAVIA\n",
       "166694     KOLEOS\n",
       "Name: Model, Length: 162738, dtype: object"
      ]
     },
     "execution_count": 75,
     "metadata": {},
     "output_type": "execute_result"
    }
   ],
   "source": [
    "df_copy['Model']"
   ]
  },
  {
   "cell_type": "code",
   "execution_count": 76,
   "metadata": {},
   "outputs": [
    {
     "data": {
      "text/plain": [
       "<matplotlib.axes._subplots.AxesSubplot at 0x1a23326410>"
      ]
     },
     "execution_count": 76,
     "metadata": {},
     "output_type": "execute_result"
    },
    {
     "data": {
      "image/png": "[encoded data removed]",
      "text/plain": [
       "<Figure size 2160x360 with 1 Axes>"
      ]
     },
     "metadata": {
      "needs_background": "light"
     },
     "output_type": "display_data"
    }
   ],
   "source": [
    "plt.figure(figsize=(30,5))\n",
    "df_copy['Make'].value_counts().nlargest(50).plot.bar(x='index', y='Make')"
   ]
  },
  {
   "cell_type": "markdown",
   "metadata": {},
   "source": [
    "###  Encoding `Makes`"
   ]
  },
  {
   "cell_type": "markdown",
   "metadata": {},
   "source": [
    "Afin de pouvoir les rendre exploitable dans le modèle, nous allons remplacer chaque marque par un numéro distinct."
   ]
  },
  {
   "cell_type": "code",
   "execution_count": 77,
   "metadata": {},
   "outputs": [],
   "source": [
    "df_copy['Make'] = df_copy['Make'].str.upper()\n",
    "to_match=''\n",
    "to_match= df_copy[\"Make\"]  "
   ]
  },
  {
   "cell_type": "code",
   "execution_count": 78,
   "metadata": {},
   "outputs": [],
   "source": [
    "makes = list(df_copy['Make'].unique())\n",
    "df_copy['Make'] = df_copy['Make'].map(lambda x : makes.index(x))"
   ]
  },
  {
   "cell_type": "markdown",
   "metadata": {},
   "source": [
    "_____\n",
    "\n",
    "\n",
    "#  Variable `Model`\n"
   ]
  },
  {
   "cell_type": "code",
   "execution_count": 79,
   "metadata": {},
   "outputs": [
    {
     "data": {
      "text/plain": [
       "<matplotlib.axes._subplots.AxesSubplot at 0x1a23da9110>"
      ]
     },
     "execution_count": 79,
     "metadata": {},
     "output_type": "execute_result"
    },
    {
     "data": {
      "image/png": "[encoded data removed]",
      "text/plain": [
       "<Figure size 2160x360 with 1 Axes>"
      ]
     },
     "metadata": {
      "needs_background": "light"
     },
     "output_type": "display_data"
    }
   ],
   "source": [
    "plt.figure(figsize=(30,5))\n",
    "df_copy['Model'].value_counts().nlargest(100).plot.bar(x='index', y='Make')"
   ]
  },
  {
   "cell_type": "markdown",
   "metadata": {},
   "source": [
    "### Encoding: conversion de `Modele` en valeur numérique"
   ]
  },
  {
   "cell_type": "code",
   "execution_count": 80,
   "metadata": {},
   "outputs": [],
   "source": [
    "df_copy['Model'] = df_copy['Model'].str.upper()\n",
    "to_match =  to_match +  ' '  +  df_copy[\"Model\"] \n",
    "\n",
    "models = list(df_copy['Model'].unique())\n",
    "\n",
    "df_copy['Model'] = df_copy['Model'].map(lambda x : models.index(x))"
   ]
  },
  {
   "cell_type": "markdown",
   "metadata": {},
   "source": [
    "### Observations\n",
    "Nous pouvons maintenant constater la fréquence de chaque modèle dans le dataset.\n",
    "\n",
    "Sans surprise, les modèles des maques Renault, Peugoet et Citroën dominent le dataset.\n",
    "\n",
    "Cela est peut-être dû au fait que ce dataset a principalement été édité par des Français qui achètent beeaucoup ces modèles. "
   ]
  },
  {
   "cell_type": "markdown",
   "metadata": {},
   "source": [
    "___"
   ]
  },
  {
   "cell_type": "markdown",
   "metadata": {},
   "source": [
    "## Predict Cylinder"
   ]
  },
  {
   "cell_type": "markdown",
   "metadata": {},
   "source": [
    "Comme nous l'avons constaté plus haut, beaucoup de véhicules n'ont pas de Cylindres de renseigné.\n",
    "Trouver les valeurs exactes des cylindrés de ces véhicules peut être fastidieu et difficile à combler.\n",
    "\n",
    "Néamoins, nous avons retenu une solution qui peut vraiment nous aider : la prédiction "
   ]
  },
  {
   "cell_type": "code",
   "execution_count": 81,
   "metadata": {},
   "outputs": [],
   "source": [
    "from sklearn.ensemble import RandomForestRegressor\n",
    "from sklearn.model_selection import train_test_split, cross_val_score"
   ]
  },
  {
   "cell_type": "code",
   "execution_count": 82,
   "metadata": {},
   "outputs": [],
   "source": [
    "selection =  ['Price','Make' ,'Model', 'Model_year' , 'Power', 'Mileage', \"gearbox_meca\", 'gearbox_auto', 'Doors', 'Colors', \"Fuel_GNV\", \"Fuel_GPL\",\"Fuel_ethanol\",\"Fuel_diesel\",\"Fuel_elec\",\"Fuel_essence\",\"Fuel_hybrid_diesel_elect\",\"Fuel_hybrid_essence_elect\", 'Online_year', 'Online_month', 'Online_days', 'Ages', 'Horses']"
   ]
  },
  {
   "cell_type": "code",
   "execution_count": 83,
   "metadata": {},
   "outputs": [],
   "source": [
    "# Feature Selection\n",
    "X = complete[selection]\n",
    "y = complete['Cylinder']"
   ]
  },
  {
   "cell_type": "markdown",
   "metadata": {},
   "source": [
    "____"
   ]
  },
  {
   "cell_type": "code",
   "execution_count": 84,
   "metadata": {},
   "outputs": [
    {
     "data": {
      "text/plain": [
       "array([3., 1., 2., ..., 2., 2., 2.])"
      ]
     },
     "execution_count": 84,
     "metadata": {},
     "output_type": "execute_result"
    }
   ],
   "source": [
    "# TRAIN & TEST\n",
    "cyl_rf, X_test, y_test =_generate_model(complete, selection, y )\n",
    "cyl_y_pred = cyl_rf.predict(X_test)\n",
    "cyl_y_pred.round()"
   ]
  },
  {
   "cell_type": "code",
   "execution_count": 85,
   "metadata": {},
   "outputs": [
    {
     "data": {
      "text/plain": [
       "3.531497705972713"
      ]
     },
     "execution_count": 85,
     "metadata": {},
     "output_type": "execute_result"
    }
   ],
   "source": [
    "# MAPE\n",
    "_mape(y_test, cyl_y_pred)"
   ]
  },
  {
   "cell_type": "code",
   "execution_count": 86,
   "metadata": {},
   "outputs": [
    {
     "data": {
      "text/html": [
       "<div>\n",
       "<style scoped>\n",
       "    .dataframe tbody tr th:only-of-type {\n",
       "        vertical-align: middle;\n",
       "    }\n",
       "\n",
       "    .dataframe tbody tr th {\n",
       "        vertical-align: top;\n",
       "    }\n",
       "\n",
       "    .dataframe thead th {\n",
       "        text-align: right;\n",
       "    }\n",
       "</style>\n",
       "<table border=\"1\" class=\"dataframe\">\n",
       "  <thead>\n",
       "    <tr style=\"text-align: right;\">\n",
       "      <th></th>\n",
       "      <th>Price</th>\n",
       "      <th>Make</th>\n",
       "      <th>Model</th>\n",
       "      <th>Model_year</th>\n",
       "      <th>Mileage</th>\n",
       "      <th>Fuel</th>\n",
       "      <th>Gearbox</th>\n",
       "      <th>Online</th>\n",
       "      <th>Description</th>\n",
       "      <th>gearbox_auto</th>\n",
       "      <th>...</th>\n",
       "      <th>Colors</th>\n",
       "      <th>Versions</th>\n",
       "      <th>Power</th>\n",
       "      <th>Doors</th>\n",
       "      <th>Online_year</th>\n",
       "      <th>Online_month</th>\n",
       "      <th>Online_days</th>\n",
       "      <th>Ages</th>\n",
       "      <th>Cylinder</th>\n",
       "      <th>Horses</th>\n",
       "    </tr>\n",
       "  </thead>\n",
       "  <tbody>\n",
       "    <tr>\n",
       "      <th>1</th>\n",
       "      <td>57526</td>\n",
       "      <td>0</td>\n",
       "      <td>0</td>\n",
       "      <td>2015</td>\n",
       "      <td>0.195271</td>\n",
       "      <td>0</td>\n",
       "      <td>AUTOMATIQUE</td>\n",
       "      <td>03/04/2018 à 16h41</td>\n",
       "      <td>modele: X6 F16, version: (F16) XDRIVE30D 258 M...</td>\n",
       "      <td>1</td>\n",
       "      <td>...</td>\n",
       "      <td>1</td>\n",
       "      <td>(F16) XDRIVE30D 258 M SPORT BVA8</td>\n",
       "      <td>16</td>\n",
       "      <td>5</td>\n",
       "      <td>2018</td>\n",
       "      <td>4</td>\n",
       "      <td>3</td>\n",
       "      <td>3</td>\n",
       "      <td>nan</td>\n",
       "      <td>258</td>\n",
       "    </tr>\n",
       "    <tr>\n",
       "      <th>5</th>\n",
       "      <td>27956</td>\n",
       "      <td>0</td>\n",
       "      <td>1</td>\n",
       "      <td>2012</td>\n",
       "      <td>0.478160</td>\n",
       "      <td>0</td>\n",
       "      <td>AUTOMATIQUE</td>\n",
       "      <td>14/03/2018 à 4h24</td>\n",
       "      <td>modele: X3 F25, version: (F25) XDRIVE35D 313 S...</td>\n",
       "      <td>1</td>\n",
       "      <td>...</td>\n",
       "      <td>5</td>\n",
       "      <td>(F25) XDRIVE35D 313 SPORT DESIGN BVA8</td>\n",
       "      <td>20</td>\n",
       "      <td>5</td>\n",
       "      <td>2018</td>\n",
       "      <td>3</td>\n",
       "      <td>14</td>\n",
       "      <td>6</td>\n",
       "      <td>nan</td>\n",
       "      <td>313</td>\n",
       "    </tr>\n",
       "    <tr>\n",
       "      <th>9</th>\n",
       "      <td>69131</td>\n",
       "      <td>1</td>\n",
       "      <td>2</td>\n",
       "      <td>2015</td>\n",
       "      <td>0.197211</td>\n",
       "      <td>1</td>\n",
       "      <td>AUTOMATIQUE</td>\n",
       "      <td>08/03/2018 à 17h35</td>\n",
       "      <td>modele: CLASSE C 4 AMG, version: (W205) 63 AMG...</td>\n",
       "      <td>1</td>\n",
       "      <td>...</td>\n",
       "      <td>9</td>\n",
       "      <td>(W205) 63 AMG S SPEEDSHIFT MCT AMG</td>\n",
       "      <td>40</td>\n",
       "      <td>4</td>\n",
       "      <td>2018</td>\n",
       "      <td>3</td>\n",
       "      <td>8</td>\n",
       "      <td>3</td>\n",
       "      <td>nan</td>\n",
       "      <td>63</td>\n",
       "    </tr>\n",
       "    <tr>\n",
       "      <th>25</th>\n",
       "      <td>23750</td>\n",
       "      <td>1</td>\n",
       "      <td>3</td>\n",
       "      <td>2016</td>\n",
       "      <td>0.099855</td>\n",
       "      <td>0</td>\n",
       "      <td>AUTOMATIQUE</td>\n",
       "      <td>12/06/2018 à 14h45</td>\n",
       "      <td>modele: CLASSE B 2, version: II (2) 180 D SENS...</td>\n",
       "      <td>1</td>\n",
       "      <td>...</td>\n",
       "      <td>20</td>\n",
       "      <td>II (2) 180 D SENSATION 7G-DCT</td>\n",
       "      <td>5</td>\n",
       "      <td>5</td>\n",
       "      <td>2018</td>\n",
       "      <td>6</td>\n",
       "      <td>12</td>\n",
       "      <td>2</td>\n",
       "      <td>nan</td>\n",
       "      <td>180</td>\n",
       "    </tr>\n",
       "    <tr>\n",
       "      <th>32</th>\n",
       "      <td>10384</td>\n",
       "      <td>1</td>\n",
       "      <td>4</td>\n",
       "      <td>2006</td>\n",
       "      <td>0.973537</td>\n",
       "      <td>0</td>\n",
       "      <td>AUTOMATIQUE</td>\n",
       "      <td>13/08/2018 à 15h30</td>\n",
       "      <td>modele: CLASSE R, version: COURT 320 CDI 4MATI...</td>\n",
       "      <td>1</td>\n",
       "      <td>...</td>\n",
       "      <td>22</td>\n",
       "      <td>COURT 320 CDI 4MATIC 7G-TRONIC</td>\n",
       "      <td>15</td>\n",
       "      <td>5</td>\n",
       "      <td>2018</td>\n",
       "      <td>8</td>\n",
       "      <td>13</td>\n",
       "      <td>12</td>\n",
       "      <td>nan</td>\n",
       "      <td>320</td>\n",
       "    </tr>\n",
       "    <tr>\n",
       "      <th>...</th>\n",
       "      <td>...</td>\n",
       "      <td>...</td>\n",
       "      <td>...</td>\n",
       "      <td>...</td>\n",
       "      <td>...</td>\n",
       "      <td>...</td>\n",
       "      <td>...</td>\n",
       "      <td>...</td>\n",
       "      <td>...</td>\n",
       "      <td>...</td>\n",
       "      <td>...</td>\n",
       "      <td>...</td>\n",
       "      <td>...</td>\n",
       "      <td>...</td>\n",
       "      <td>...</td>\n",
       "      <td>...</td>\n",
       "      <td>...</td>\n",
       "      <td>...</td>\n",
       "      <td>...</td>\n",
       "      <td>...</td>\n",
       "      <td>...</td>\n",
       "    </tr>\n",
       "    <tr>\n",
       "      <th>166647</th>\n",
       "      <td>21030</td>\n",
       "      <td>9</td>\n",
       "      <td>26</td>\n",
       "      <td>2014</td>\n",
       "      <td>0.063737</td>\n",
       "      <td>1</td>\n",
       "      <td>AUTOMATIQUE</td>\n",
       "      <td>18/04/2018 à 9h38</td>\n",
       "      <td>modele: , version: F55  COOPER 136CH PACK RED ...</td>\n",
       "      <td>1</td>\n",
       "      <td>...</td>\n",
       "      <td>734</td>\n",
       "      <td>F55  COOPER 136CH PACK RED HOT CHILI BVA</td>\n",
       "      <td>7</td>\n",
       "      <td>5</td>\n",
       "      <td>2018</td>\n",
       "      <td>4</td>\n",
       "      <td>18</td>\n",
       "      <td>4</td>\n",
       "      <td>nan</td>\n",
       "      <td>136</td>\n",
       "    </tr>\n",
       "    <tr>\n",
       "      <th>166654</th>\n",
       "      <td>18170</td>\n",
       "      <td>1</td>\n",
       "      <td>5</td>\n",
       "      <td>2014</td>\n",
       "      <td>0.262648</td>\n",
       "      <td>0</td>\n",
       "      <td>MÉCANIQUE</td>\n",
       "      <td>07/02/2018 à 0h29</td>\n",
       "      <td>modele: CLASSE A 3, version: III 180 CDI SENSA...</td>\n",
       "      <td>0</td>\n",
       "      <td>...</td>\n",
       "      <td>6</td>\n",
       "      <td>III 180 CDI SENSATION</td>\n",
       "      <td>5</td>\n",
       "      <td>5</td>\n",
       "      <td>2018</td>\n",
       "      <td>2</td>\n",
       "      <td>7</td>\n",
       "      <td>4</td>\n",
       "      <td>nan</td>\n",
       "      <td>180</td>\n",
       "    </tr>\n",
       "    <tr>\n",
       "      <th>166666</th>\n",
       "      <td>17832</td>\n",
       "      <td>12</td>\n",
       "      <td>33</td>\n",
       "      <td>2017</td>\n",
       "      <td>0.066132</td>\n",
       "      <td>1</td>\n",
       "      <td>MÉCANIQUE</td>\n",
       "      <td>16/06/2018 à 1h32</td>\n",
       "      <td>modele: , version: PURETECH 110 SO CHIC SS, pu...</td>\n",
       "      <td>0</td>\n",
       "      <td>...</td>\n",
       "      <td>4136</td>\n",
       "      <td>PURETECH 110 SO CHIC SS</td>\n",
       "      <td>5</td>\n",
       "      <td>3</td>\n",
       "      <td>2018</td>\n",
       "      <td>6</td>\n",
       "      <td>16</td>\n",
       "      <td>1</td>\n",
       "      <td>nan</td>\n",
       "      <td>110</td>\n",
       "    </tr>\n",
       "    <tr>\n",
       "      <th>166668</th>\n",
       "      <td>9930</td>\n",
       "      <td>7</td>\n",
       "      <td>16</td>\n",
       "      <td>2015</td>\n",
       "      <td>0.080468</td>\n",
       "      <td>1</td>\n",
       "      <td>MÉCANIQUE</td>\n",
       "      <td>18/03/2018 à 10h22</td>\n",
       "      <td>modele: YARIS 3, version: III 69 VVT-I TENDANC...</td>\n",
       "      <td>0</td>\n",
       "      <td>...</td>\n",
       "      <td>27</td>\n",
       "      <td>III 69 VVT-I TENDANCE 5P</td>\n",
       "      <td>4</td>\n",
       "      <td>5</td>\n",
       "      <td>2018</td>\n",
       "      <td>3</td>\n",
       "      <td>18</td>\n",
       "      <td>3</td>\n",
       "      <td>nan</td>\n",
       "      <td>69</td>\n",
       "    </tr>\n",
       "    <tr>\n",
       "      <th>166676</th>\n",
       "      <td>8883</td>\n",
       "      <td>7</td>\n",
       "      <td>15</td>\n",
       "      <td>2011</td>\n",
       "      <td>0.392856</td>\n",
       "      <td>0</td>\n",
       "      <td>MÉCANIQUE</td>\n",
       "      <td>22/02/2018 à 9h40</td>\n",
       "      <td>modele: AVENSIS 3, version: III 126 D-4D FAP A...</td>\n",
       "      <td>0</td>\n",
       "      <td>...</td>\n",
       "      <td>17</td>\n",
       "      <td>III 126 D-4D FAP ACTIVE</td>\n",
       "      <td>7</td>\n",
       "      <td>4</td>\n",
       "      <td>2018</td>\n",
       "      <td>2</td>\n",
       "      <td>22</td>\n",
       "      <td>7</td>\n",
       "      <td>nan</td>\n",
       "      <td>126</td>\n",
       "    </tr>\n",
       "  </tbody>\n",
       "</table>\n",
       "<p>19904 rows × 29 columns</p>\n",
       "</div>"
      ],
      "text/plain": [
       "        Price  Make  Model  Model_year  Mileage  Fuel      Gearbox  \\\n",
       "1       57526     0      0        2015 0.195271     0  AUTOMATIQUE   \n",
       "5       27956     0      1        2012 0.478160     0  AUTOMATIQUE   \n",
       "9       69131     1      2        2015 0.197211     1  AUTOMATIQUE   \n",
       "25      23750     1      3        2016 0.099855     0  AUTOMATIQUE   \n",
       "32      10384     1      4        2006 0.973537     0  AUTOMATIQUE   \n",
       "...       ...   ...    ...         ...      ...   ...          ...   \n",
       "166647  21030     9     26        2014 0.063737     1  AUTOMATIQUE   \n",
       "166654  18170     1      5        2014 0.262648     0    MÉCANIQUE   \n",
       "166666  17832    12     33        2017 0.066132     1    MÉCANIQUE   \n",
       "166668   9930     7     16        2015 0.080468     1    MÉCANIQUE   \n",
       "166676   8883     7     15        2011 0.392856     0    MÉCANIQUE   \n",
       "\n",
       "                    Online                                        Description  \\\n",
       "1       03/04/2018 à 16h41  modele: X6 F16, version: (F16) XDRIVE30D 258 M...   \n",
       "5        14/03/2018 à 4h24  modele: X3 F25, version: (F25) XDRIVE35D 313 S...   \n",
       "9       08/03/2018 à 17h35  modele: CLASSE C 4 AMG, version: (W205) 63 AMG...   \n",
       "25      12/06/2018 à 14h45  modele: CLASSE B 2, version: II (2) 180 D SENS...   \n",
       "32      13/08/2018 à 15h30  modele: CLASSE R, version: COURT 320 CDI 4MATI...   \n",
       "...                    ...                                                ...   \n",
       "166647   18/04/2018 à 9h38  modele: , version: F55  COOPER 136CH PACK RED ...   \n",
       "166654   07/02/2018 à 0h29  modele: CLASSE A 3, version: III 180 CDI SENSA...   \n",
       "166666   16/06/2018 à 1h32  modele: , version: PURETECH 110 SO CHIC SS, pu...   \n",
       "166668  18/03/2018 à 10h22  modele: YARIS 3, version: III 69 VVT-I TENDANC...   \n",
       "166676   22/02/2018 à 9h40  modele: AVENSIS 3, version: III 126 D-4D FAP A...   \n",
       "\n",
       "        gearbox_auto  ...  Colors                                  Versions  \\\n",
       "1                  1  ...       1          (F16) XDRIVE30D 258 M SPORT BVA8   \n",
       "5                  1  ...       5     (F25) XDRIVE35D 313 SPORT DESIGN BVA8   \n",
       "9                  1  ...       9        (W205) 63 AMG S SPEEDSHIFT MCT AMG   \n",
       "25                 1  ...      20             II (2) 180 D SENSATION 7G-DCT   \n",
       "32                 1  ...      22            COURT 320 CDI 4MATIC 7G-TRONIC   \n",
       "...              ...  ...     ...                                       ...   \n",
       "166647             1  ...     734  F55  COOPER 136CH PACK RED HOT CHILI BVA   \n",
       "166654             0  ...       6                     III 180 CDI SENSATION   \n",
       "166666             0  ...    4136                   PURETECH 110 SO CHIC SS   \n",
       "166668             0  ...      27                  III 69 VVT-I TENDANCE 5P   \n",
       "166676             0  ...      17                   III 126 D-4D FAP ACTIVE   \n",
       "\n",
       "        Power  Doors  Online_year  Online_month  Online_days  Ages  Cylinder  \\\n",
       "1          16      5         2018             4            3     3       nan   \n",
       "5          20      5         2018             3           14     6       nan   \n",
       "9          40      4         2018             3            8     3       nan   \n",
       "25          5      5         2018             6           12     2       nan   \n",
       "32         15      5         2018             8           13    12       nan   \n",
       "...       ...    ...          ...           ...          ...   ...       ...   \n",
       "166647      7      5         2018             4           18     4       nan   \n",
       "166654      5      5         2018             2            7     4       nan   \n",
       "166666      5      3         2018             6           16     1       nan   \n",
       "166668      4      5         2018             3           18     3       nan   \n",
       "166676      7      4         2018             2           22     7       nan   \n",
       "\n",
       "        Horses  \n",
       "1          258  \n",
       "5          313  \n",
       "9           63  \n",
       "25         180  \n",
       "32         320  \n",
       "...        ...  \n",
       "166647     136  \n",
       "166654     180  \n",
       "166666     110  \n",
       "166668      69  \n",
       "166676     126  \n",
       "\n",
       "[19904 rows x 29 columns]"
      ]
     },
     "execution_count": 86,
     "metadata": {},
     "output_type": "execute_result"
    }
   ],
   "source": [
    "# RESULTAT\n",
    "no_cylinder_has_hors"
   ]
  },
  {
   "cell_type": "code",
   "execution_count": 87,
   "metadata": {},
   "outputs": [],
   "source": [
    "#### PREDICTION de données qui n'ont pas de Cylindre mais ont des chevaux\n",
    "no_cylinder_has_hors = to_predict(no_cylinder_has_hors, selection, cyl_rf, 'Cylinder')"
   ]
  },
  {
   "cell_type": "markdown",
   "metadata": {},
   "source": [
    "____"
   ]
  },
  {
   "cell_type": "markdown",
   "metadata": {},
   "source": [
    "## Predict Cylinders for Data with  `NaN Cylinders` & `NaN Horses`"
   ]
  },
  {
   "cell_type": "code",
   "execution_count": 88,
   "metadata": {},
   "outputs": [
    {
     "data": {
      "text/plain": [
       "(128245, 29)"
      ]
     },
     "execution_count": 88,
     "metadata": {},
     "output_type": "execute_result"
    }
   ],
   "source": [
    "complete.shape"
   ]
  },
  {
   "cell_type": "code",
   "execution_count": 89,
   "metadata": {},
   "outputs": [],
   "source": [
    "selection =  ['Price','Make' ,'Model', 'Model_year' , 'Power', 'Mileage', \"gearbox_meca\", 'gearbox_auto', 'Doors',  'Colors', \"Fuel_GNV\", \"Fuel_GPL\",\"Fuel_ethanol\",\"Fuel_diesel\",\"Fuel_elec\",\"Fuel_essence\",\"Fuel_hybrid_diesel_elect\",\"Fuel_hybrid_essence_elect\", 'Online_year', 'Online_month', 'Online_days', 'Ages']"
   ]
  },
  {
   "cell_type": "code",
   "execution_count": 90,
   "metadata": {},
   "outputs": [
    {
     "data": {
      "text/plain": [
       "array([3., 2., 2., ..., 2., 2., 2.])"
      ]
     },
     "execution_count": 90,
     "metadata": {},
     "output_type": "execute_result"
    }
   ],
   "source": [
    "# TRAIN  & TEST\n",
    "rf, X_test, y_test =_generate_model(complete, selection, y )\n",
    "y_pred = rf.predict(X_test)\n",
    "y_pred.round()"
   ]
  },
  {
   "cell_type": "code",
   "execution_count": 91,
   "metadata": {},
   "outputs": [],
   "source": [
    "#  PREDICT NO CYLINDERS AND NO HORSES\n",
    "no_cylinder_and_horse = to_predict(no_cylinder_and_horse, selection, rf, 'Cylinder')"
   ]
  },
  {
   "cell_type": "code",
   "execution_count": 92,
   "metadata": {},
   "outputs": [
    {
     "data": {
      "text/plain": [
       "4.449960887868358"
      ]
     },
     "execution_count": 92,
     "metadata": {},
     "output_type": "execute_result"
    }
   ],
   "source": [
    "_mape(y_test, y_pred)"
   ]
  },
  {
   "cell_type": "code",
   "execution_count": 93,
   "metadata": {},
   "outputs": [],
   "source": [
    "# CONCATENATE RESULT\n",
    "complete = complete.append([no_cylinder_and_horse, no_cylinder_has_hors, has_cyl_no_hors ])"
   ]
  },
  {
   "cell_type": "markdown",
   "metadata": {},
   "source": [
    "_____\n",
    "## PREDICT `HORSES`"
   ]
  },
  {
   "cell_type": "code",
   "execution_count": 94,
   "metadata": {},
   "outputs": [],
   "source": [
    "selection =  ['Make' ,'Price','Model', 'Model_year' , 'Power', 'Mileage', \"gearbox_meca\", 'gearbox_auto', 'Doors',  'Colors', \"Fuel_GNV\", \"Fuel_GPL\",\"Fuel_ethanol\",\"Fuel_diesel\",\"Fuel_elec\",\"Fuel_essence\",\"Fuel_hybrid_diesel_elect\",\"Fuel_hybrid_essence_elect\", 'Online_year', 'Online_month', 'Online_days', 'Ages', 'Cylinder']"
   ]
  },
  {
   "cell_type": "code",
   "execution_count": 95,
   "metadata": {},
   "outputs": [],
   "source": [
    "no_horses = complete[ complete['Horses'].isna()]"
   ]
  },
  {
   "cell_type": "code",
   "execution_count": 96,
   "metadata": {},
   "outputs": [],
   "source": [
    "complete = complete[ complete['Horses'].isna()==False]"
   ]
  },
  {
   "cell_type": "code",
   "execution_count": 97,
   "metadata": {},
   "outputs": [],
   "source": [
    "complete['Horses'] = complete['Horses'].astype(int)"
   ]
  },
  {
   "cell_type": "code",
   "execution_count": 98,
   "metadata": {},
   "outputs": [],
   "source": [
    "# SELECTION\n",
    "y = complete['Horses']"
   ]
  },
  {
   "cell_type": "code",
   "execution_count": 99,
   "metadata": {},
   "outputs": [
    {
     "data": {
      "text/plain": [
       "array([144.,  75.,  99., ..., 159., 117., 175.])"
      ]
     },
     "execution_count": 99,
     "metadata": {},
     "output_type": "execute_result"
    }
   ],
   "source": [
    "# TRAIN & TEST\n",
    "_rf, X_test, y_test =_generate_model(complete, selection, y)\n",
    "y_pred = _rf.predict(X_test)\n",
    "y_pred.round()"
   ]
  },
  {
   "cell_type": "code",
   "execution_count": 100,
   "metadata": {},
   "outputs": [
    {
     "data": {
      "text/plain": [
       "16.87656111446914"
      ]
     },
     "execution_count": 100,
     "metadata": {},
     "output_type": "execute_result"
    }
   ],
   "source": [
    "# MAPE\n",
    "_mape(y_test, y_pred)"
   ]
  },
  {
   "cell_type": "code",
   "execution_count": 101,
   "metadata": {},
   "outputs": [],
   "source": [
    "# Predict  Horses\n",
    "no_horses = to_predict(no_horses, selection, _rf, 'Horses')"
   ]
  },
  {
   "cell_type": "code",
   "execution_count": 102,
   "metadata": {},
   "outputs": [],
   "source": [
    "# CONCATENATE RESULT\n",
    "complete = complete.append([no_horses])"
   ]
  },
  {
   "cell_type": "code",
   "execution_count": 103,
   "metadata": {},
   "outputs": [],
   "source": [
    "#NEW\n",
    "complete['Version'] = df_copy[\"Versions\"]\n",
    "complete[\"Gearbox\"] = df_copy[\"Gearbox\"]"
   ]
  },
  {
   "cell_type": "code",
   "execution_count": 104,
   "metadata": {},
   "outputs": [],
   "source": [
    "# MERGE TO DF_COPY\n",
    "df_copy = complete"
   ]
  },
  {
   "cell_type": "markdown",
   "metadata": {},
   "source": [
    "____\n",
    "# Variable `Doors`"
   ]
  },
  {
   "cell_type": "markdown",
   "metadata": {},
   "source": [
    "Certaines de valeurs de la variable `Doors`, qui représentent le nombre de portes qu'a le véhicule, ont des valeurs égales à `0` ou `NaN`.\n",
    "Comme l'avons fait précédement, nous allons prédire ces données manquantes."
   ]
  },
  {
   "cell_type": "code",
   "execution_count": 105,
   "metadata": {},
   "outputs": [],
   "source": [
    "has_doors= df_copy[df_copy['Doors']!=0]\n",
    "no_doors= df_copy[df_copy['Doors']==0]"
   ]
  },
  {
   "cell_type": "code",
   "execution_count": 106,
   "metadata": {},
   "outputs": [],
   "source": [
    "selection =  ['Make' , 'Price','Model', 'Model_year' , 'Power', 'Mileage',  'Colors', \"gearbox_meca\", 'gearbox_auto', \"Fuel_GNV\", \"Fuel_GPL\",\"Fuel_ethanol\",\"Fuel_diesel\",\"Fuel_elec\",\"Fuel_essence\",\"Fuel_hybrid_diesel_elect\",\"Fuel_hybrid_essence_elect\", 'Online_year', 'Online_month', 'Online_days', 'Ages', 'Cylinder']"
   ]
  },
  {
   "cell_type": "code",
   "execution_count": 107,
   "metadata": {},
   "outputs": [],
   "source": [
    "y = has_doors['Doors']"
   ]
  },
  {
   "cell_type": "code",
   "execution_count": 108,
   "metadata": {},
   "outputs": [
    {
     "data": {
      "text/plain": [
       "array([5., 5., 5., ..., 5., 3., 5.])"
      ]
     },
     "execution_count": 108,
     "metadata": {},
     "output_type": "execute_result"
    }
   ],
   "source": [
    "_rf, X_test, y_test =_generate_model(has_doors, selection, y)\n",
    "y_pred = _rf.predict(X_test)\n",
    "y_pred.round()"
   ]
  },
  {
   "cell_type": "code",
   "execution_count": 109,
   "metadata": {},
   "outputs": [],
   "source": [
    "# Predict  Horses\n",
    "no_doors = to_predict(no_doors, selection, _rf, 'Horses')"
   ]
  },
  {
   "cell_type": "code",
   "execution_count": 110,
   "metadata": {},
   "outputs": [
    {
     "data": {
      "text/plain": [
       "8.601180910001968"
      ]
     },
     "execution_count": 110,
     "metadata": {},
     "output_type": "execute_result"
    }
   ],
   "source": [
    "_mape(y_test, y_pred)"
   ]
  },
  {
   "cell_type": "code",
   "execution_count": 111,
   "metadata": {},
   "outputs": [],
   "source": [
    "# CONCATENATE\n",
    "has_doors = has_doors.append([no_doors])\n"
   ]
  },
  {
   "cell_type": "code",
   "execution_count": 113,
   "metadata": {},
   "outputs": [],
   "source": [
    "# FINAL REPLACE DF_COPY\n",
    "df_copy = has_doors"
   ]
  },
  {
   "cell_type": "markdown",
   "metadata": {},
   "source": [
    "____\n",
    "# Matrice de Corrélation"
   ]
  },
  {
   "cell_type": "code",
   "execution_count": 114,
   "metadata": {},
   "outputs": [
    {
     "data": {
      "image/png": "[encoded data removed]",
      "text/plain": [
       "<Figure size 1368x936 with 2 Axes>"
      ]
     },
     "metadata": {
      "needs_background": "light"
     },
     "output_type": "display_data"
    }
   ],
   "source": [
    "corrMatrix =df_copy.corr()\n",
    "plt.figure(figsize=(19,13))\n",
    "sn.heatmap(corrMatrix, annot=True)\n",
    "plt.show()"
   ]
  },
  {
   "cell_type": "markdown",
   "metadata": {},
   "source": [
    "### Observations\n",
    "Ce graphique représente le lien de corrélation entre les variables. Nous pouvons constater : \n",
    "\n",
    "- Des corrélations positives entre le `Price ` et les variables `Mode_year`, `Gearbox_Auto`, `Power`, `Cylinder` et `Horses`,\n",
    "- Des corrélations négatives entre `Price` et les variables `Mileage`  et `Ages`"
   ]
  },
  {
   "cell_type": "markdown",
   "metadata": {},
   "source": [
    "_____\n",
    "## VECTORISATION `OPTIONS` (Je n'ai pas réussi cette étape)"
   ]
  },
  {
   "cell_type": "raw",
   "metadata": {},
   "source": [
    "import nltk\n",
    "from nltk import word_tokenize\n",
    "from nltk.corpus import stopwords\n",
    "from gensim.models import Word2Vec, Phrases\n",
    "from gensim.test.utils import common_texts\n",
    "from nltk.stem.snowball import FrenchStemmer\n",
    "stemmer = FrenchStemmer()\n",
    "tokenizer = nltk.RegexpTokenizer(r'( [^\\_]\\D* \\w+ \\D+)')"
   ]
  },
  {
   "cell_type": "raw",
   "metadata": {},
   "source": [
    "df_copy['Options'] = df_copy['Description'].map(lambda x: x.split('options: ')[-1].split(', couleur')[0])\n",
    "df_copy['Options'] = df_copy['Options'].str.lower()"
   ]
  },
  {
   "cell_type": "raw",
   "metadata": {},
   "source": [
    "df_copy[['Model', 'Versions']].drop_duplicates()"
   ]
  },
  {
   "cell_type": "raw",
   "metadata": {},
   "source": [
    "df['Make_Model'] = df['Make'].str.lower() + ' ' + df['Model'].str.lower()"
   ]
  },
  {
   "cell_type": "raw",
   "metadata": {},
   "source": [
    "df_copy['Versions'].duplicated().value_counts()"
   ]
  },
  {
   "cell_type": "raw",
   "metadata": {},
   "source": [
    "df_copy[['Model', 'Versions']].drop_duplicates().shape"
   ]
  },
  {
   "cell_type": "raw",
   "metadata": {},
   "source": [
    "## Analyse des mots les plut fréquents\n",
    "\n",
    "Afin de pouvoir reternir les informations les plus importante de la variables `options`, nous devons faire une analyse détaillé des mots présent dans l'ensemble du corpus.\n",
    "C'est mots doitvent être tokénizé puis, filter pour en retenir uniquement les informations importantes qui auront un réel impact sur le modèle.\n",
    "C'est pourquoi nous devons supprimer les mots dits `stopwords` qui n'ont pas de valeurs. Tel que : [le, la, les, de...]"
   ]
  },
  {
   "cell_type": "raw",
   "metadata": {},
   "source": [
    "french_stopwords = ['/','<','>','?', '&' ,'*','!', ' ', '@', '#' , '$', '%' , '^' , '+','av', 'ar' ,'-', '_', '1','2','3','4','5','6','7','8','9','0',1,2,3,4,5,6,7,8,9,0,\"a\", \"b\", \"c\", \"d\", \"e\", \"f\", \"g\", \"h\", \"i\", \"j\", \"k\", \"l\", \"m\", \"n\", \"o\", \"p\", \"q\", \"r\", \"s\", \"t\", \"u\", \"v\", \"w\", \"x\", \"y\", \"z\", \"a\",\"à\",\"â\",\"abord\",\"afin\",\"ah\",\"ai\",\"aie\",\"ainsi\",\"allaient\",\"allo\",\"allô\",\"allons\",\"après\",\"assez\",\"attendu\",\"au\",\"aucun\",\"aucune\",\"aujourd\",\"aujourd'hui\",\"auquel\",\"aura\",\"auront\",\"aussi\",\"autre\",\"autres\",\"aux\",\"auxquelles\",\"auxquels\",\"avaient\",\"avais\",\"avait\",\"avant\",\"avec\",\"avoir\",\"ayant\",\"b\",\"bah\",\"beaucoup\",\"bien\",\"bigre\",\"boum\",\"bravo\",\"brrr\",\"c\",\"ça\",\"car\",\"ce\",\"ceci\",\"cela\",\"celle\",\"celle-ci\",\"celle-là\",\"celles\",\"celles-ci\",\"celles-là\",\"celui\",\"celui-ci\",\"celui-là\",\"cent\",\"cependant\",\"certain\",\"certaine\",\"certaines\",\"certains\",\"certes\",\"ces\",\"cet\",\"cette\",\"ceux\",\"ceux-ci\",\"ceux-là\",\"chacun\",\"chaque\",\"cher\",\"chère\",\"chères\",\"chers\",\"chez\",\"chiche\",\"chut\",\"ci\",\"cinq\",\"cinquantaine\",\"cinquante\",\"cinquantième\",\"cinquième\",\"clac\",\"clic\",\"combien\",\"comme\",\"comment\",\"compris\",\"concernant\",\"contre\",\"couic\",\"crac\",\"d\",\"da\",\"dans\",\"de\",\"debout\",\"dedans\",\"dehors\",\"delà\",\"depuis\",\"derrière\",\"des\",\"dès\",\"désormais\",\"desquelles\",\"desquels\",\"dessous\",\"dessus\",\"deux\",\"deuxième\",\"deuxièmement\",\"devant\",\"devers\",\"devra\",\"différent\",\"différente\",\"différentes\",\"différents\",\"dire\",\"divers\",\"diverse\",\"diverses\",\"dix\",\"dix-huit\",\"dixième\",\"dix-neuf\",\"dix-sept\",\"doit\",\"doivent\",\"donc\",\"dont\",\"douze\",\"douzième\",\"dring\",\"du\",\"duquel\",\"durant\",\"e\",\"effet\",\"eh\",\"elle\",\"elle-même\",\"elles\",\"elles-mêmes\",\"en\",\"encore\",\"entre\",\"envers\",\"environ\",\"es\",\"ès\",\"est\",\"et\",\"etant\",\"étaient\",\"étais\",\"était\",\"étant\",\"etc\",\"été\",\"etre\",\"être\",\"eu\",\"euh\",\"eux\",\"eux-mêmes\",\"excepté\",\"f\",\"façon\",\"fais\",\"faisaient\",\"faisant\",\"fait\",\"feront\",\"fi\",\"flac\",\"floc\",\"font\",\"g\",\"gens\",\"h\",\"ha\",\"hé\",\"hein\",\"hélas\",\"hem\",\"hep\",\"hi\",\"ho\",\"holà\",\"hop\",\"hormis\",\"hors\",\"hou\",\"houp\",\"hue\",\"hui\",\"huit\",\"huitième\",\"hum\",\"hurrah\",\"i\",\"il\",\"ils\",\"importe\",\"j\",\"je\",\"jusqu\",\"jusque\",\"k\",\"l\",\"la\",\"là\",\"laquelle\",\"las\",\"le\",\"lequel\",\"les\",\"lès\",\"lesquelles\",\"lesquels\",\"leur\",\"leurs\",\"longtemps\",\"lorsque\",\"lui\",\"lui-même\",\"m\",\"ma\",\"maint\",\"mais\",\"malgré\",\"me\",\"même\",\"mêmes\",\"merci\",\"mes\",\"mien\",\"mienne\",\"miennes\",\"miens\",\"mille\",\"mince\",\"moi\",\"moi-même\",\"moins\",\"mon\",\"moyennant\",\"n\",\"na\",\"ne\",\"néanmoins\",\"neuf\",\"neuvième\",\"ni\",\"nombreuses\",\"nombreux\",\"non\",\"nos\",\"notre\",\"nôtre\",\"nôtres\",\"nous\",\"nous-mêmes\",\"nul\",\"o\",\"o|\",\"ô\",\"oh\",\"ohé\",\"olé\",\"ollé\",\"on\",\"ont\",\"onze\",\"onzième\",\"ore\",\"ou\",\"où\",\"ouf\",\"ouias\",\"oust\",\"ouste\",\"outre\",\"p\",\"paf\",\"pan\",\"par\",\"parmi\",\"partant\",\"particulier\",\"particulière\",\"particulièrement\",\"pas\",\"passé\",\"pendant\",\"personne\",\"peu\",\"peut\",\"peuvent\",\"peux\",\"pff\",\"pfft\",\"pfut\",\"pif\",\"plein\",\"plouf\",\"plus\",\"plusieurs\",\"plutôt\",\"pouah\",\"pour\",\"pourquoi\",\"premier\",\"première\",\"premièrement\",\"près\",\"proche\",\"psitt\",\"puisque\",\"q\",\"qu\",\"quand\",\"quant\",\"quanta\",\"quant-à-soi\",\"quarante\",\"quatorze\",\"quatre\",\"quatre-vingt\",\"quatrième\",\"quatrièmement\",\"que\",\"quel\",\"quelconque\",\"quelle\",\"quelles\",\"quelque\",\"quelques\",\"quelqu'un\",\"quels\",\"qui\",\"quiconque\",\"quinze\",\"quoi\",\"quoique\",\"r\",\"revoici\",\"revoilà\",\"rien\",\"s\",\"sa\",\"sacrebleu\",\"sans\",\"sapristi\",\"sauf\",\"se\",\"seize\",\"selon\",\"sept\",\"septième\",\"sera\",\"seront\",\"ses\",\"si\",\"sien\",\"sienne\",\"siennes\",\"siens\",\"sinon\",\"six\",\"sixième\",\"soi\",\"soi-même\",\"soit\",\"soixante\",\"son\",\"sont\",\"sous\",\"stop\",\"suis\",\"suivant\",\"sur\",\"surtout\",\"t\",\"ta\",\"tac\",\"tant\",\"te\",\"té\",\"tel\",\"telle\",\"tellement\",\"telles\",\"tels\",\"tenant\",\"tes\",\"tic\",\"tien\",\"tienne\",\"tiennes\",\"tiens\",\"toc\",\"toi\",\"toi-même\",\"ton\",\"touchant\",\"toujours\",\"tous\",\"tout\",\"toute\",\"toutes\",\"treize\",\"trente\",\"très\",\"trois\",\"troisième\",\"troisièmement\",\"trop\",\"tsoin\",\"tsouin\",\"tu\",\"u\",\"un\",\"une\",\"unes\",\"uns\",\"v\",\"va\",\"vais\",\"vas\",\"vé\",\"vers\",\"via\",\"vif\",\"vifs\",\"vingt\",\"vivat\",\"vive\",\"vives\",\"vlan\",\"voici\",\"voilà\",\"vont\",\"vos\",\"votre\",\"vôtre\",\"vôtres\",\"vous\",\"vous-mêmes\",\"vu\",\"w\",\"x\",\"y\",\"z\",\"zut\",\"alors\",\"aucuns\",\"bon\",\"devrait\",\"dos\",\"droite\",\"début\",\"essai\",\"faites\",\"fois\",\"force\",\"haut\",\"ici\",\"juste\",\"maintenant\",\"mine\",\"mot\",\"nommés\",\"nouveaux\",\"parce\",\"parole\",\"personnes\",\"pièce\",\"plupart\",\"seulement\",\"soyez\",\"sujet\",\"tandis\",\"valeur\",\"voie\",\"voient\",\"état\",\"étions\", '000','0134426666','0465','05','06ae','06wa','07','07l5','07y1','0l','10','100','1000','100000km','100pts','100y','1020','105','107','10h','10x2','11','110','110ch','110cv','111','112','112ch','115','115cv','117','118','11mm','12','120','122','123','125','12h00','12hp','12v','13','130','130ch','136','14','140','141','14h30','15','150','150ch','15p','16','160','165','16p','16v','17','170','170cv','175','177','177ch','177cv','17p','18','180','184','189','18h00','18p','19','1er','1ere','1hp','1x','1ère','20','200','2009','201','2011','2019','205','207','208','21','211','214','22','220','225','22mm','230','230v','232','235','236','24','240','245','258','26','265','268','272','295','2e','2eme','2hp','2k8','2nde','2w','2x','2ème','30','300','30000km','3008','301','302','303','304','305','306','307','309','310','310m','315','31800','32','320','321','323','324','325','325mm','326','328','330','333','336','343','349','350','351','356','360','365','367','368','37','373','374','376','378','379','38','380','381','382','384','385','387','390','391','395','396','397','398','399','3d','3e','3eme','3g','3ème','40','400','40000','40000km','400m','401','402','403','407','410','411','412','413','414','415','416','42','423','425','428','429','43','433','434','435','436','436m','437','437m','440','441','442','446','448','449','45','450','45000','451','452','453','454','457','458','45w','46','460m','461','461m','465','466','467','468','469','470','471','472','473','478','479','48','480','481','484','485','486','490','491','494','4control','4hp','4x15w','4x20','4x20w','4x4','50','5007','500p','5025','5030','5035','5046','506','5098','51','511','512','514','521','551','560','564','566','567','569','572m','58','590','595','597','598m','599','599m','59mm','5brch','5db','5l','5p','5x2','60','600','60000','60000km','601m','605','606','607','608','609','610','612','613','616','618','619','620','621','622m','625','626','628','630','63000','632','633','634','635','643','646','647m','648m','649i','654','655','656','662m','663','664m','666','666m','668m','674','680m','683','68390','684','68ch','69','694','695','696','697','698','699m','6hp','6jx16','70','700','704','704m','707','708','70cv','70ème','715','716','716m','717','717m','719','719m','72','722','724','725','726','75','759i','763m','770','7g','7j','7p','7pl','7x2','80000km','800x480','80w','82','82ch','84','84h','86','88100','8hp','8j','8jx20','8w','90','90000','90000km','9011','9012','90v','911','915','91w','91y','92','92ch','95','95520','96h','96v','96w','997','99v','9h30','______________________________________________________________________________________opel','___________________________________________________________________________audi','___________________________________________________________________________bmw','___________________________________________________________________________ford','___________________________________________________________________________mercedes','___________________________________________________________________________morgan','___________________________________________________________________________toyota','_gris','_pack','_roue','_système', '01cc','0205','02tb','02vb','03','0302','03110','0337','0383','0389619010','03a1','03aa','03ac','0450','04fd','04ls','04lu','04va','0550','05dc','0601940858','0650578371','0663944252','06ac','06ak','06nm','0710','07fw','07s9','07xp','08ème','100000','1015','1018','1019','1022','1029','1032','1033','10go','10hp','10x10','10ème','116','12p','12x12','13127','131ch','13hp','143','143ch','145w','14hp','14p','14x14','1500','156cv','15hp','16x16','18x18','190w','19h','19p','1an','1go','2008','2013','2015','2016','2017','2018','20p','210','218','220cdi','220v','222','224','23','2400','240mm','249','24l','250','2500','255','260','27','28','280','284mm','284x22','285','290','2d','2h','2ième','2l','2nd','2x25w','2x70','2xspoke','2è','2éme','30000','300w','308','31','31410','316mm','317','320d','33240','332mm','343m','35','3500','350mm','35w','36','364','369','380mm','380w','386m','3me','3mois','3p','3è','3éme','4000','40275','40go','42000','430','43cm','44','4airbags','4drive','4g','4m','4mode','4motion','4wd','4x','4x25','4x25w','4zg','500','500banquette','5029','5031','5033','5036','5037','5038','5047','5071','508','510','51l','53','54','55','57mm','5mm','5modes','5pl','5è','5ème','6000','61','613m','62','63170','63600','64','640','65','650','66','68','6cd','6j','6m','6pl','6ra','6x6','7009','7012','7013','7015','73','738','750','7500','75cv','77100','78130','78260','78310','7br','7hp','7jx17p','80','800','8001','81','81600','825','85','850','8jx18','8m','8mp','8p','8pl','8x8','900','9006','9007','902','90l','93330','93400','950','96','96924','9hp','9jx20','9pl','a2dp','a3','a4','a5','a7','aa','aac','aae','aak','aal','aan']"
   ]
  },
  {
   "cell_type": "raw",
   "metadata": {},
   "source": [
    "x = pd.DataFrame(df_copy['Options'].head())"
   ]
  },
  {
   "cell_type": "raw",
   "metadata": {},
   "source": [
    "#TOKENIZATION \n",
    "def tokenization(series):\n",
    "    #return  df.apply(word_tokenize)\n",
    "    return series.apply(lambda x : tokenizer.tokenize(x) )\n",
    "\n",
    "\n",
    "# STOPWORDS \n",
    "def remove_stop_words(series):\n",
    "    return series.apply(lambda row: [w for w in row if w not in french_stopwords])\n",
    "\n",
    "\n",
    "#STEM\n",
    "def stem(series):\n",
    "    return series.apply(lambda row :  [stemmer.stem(w)  for w in row ] )\n",
    "\n",
    "\n",
    "all_words = []\n",
    "def process(series):\n",
    "    series = series.pipe(tokenization).pipe(remove_stop_words).pipe(stem).str.join(' ')\n",
    "    \n",
    "#    for i in series:\n",
    "#        for j in i:\n",
    "#            if j not in all_words : \n",
    "#                all_words.append(j)\n",
    "#            \n",
    "    return series\n"
   ]
  },
  {
   "cell_type": "raw",
   "metadata": {},
   "source": [
    "options = process(df_copy['Options'])"
   ]
  },
  {
   "cell_type": "raw",
   "metadata": {},
   "source": [
    "# Modele\n",
    "from sklearn.feature_extraction.text import TfidfVectorizer\n",
    "\n",
    "vectorizer = TfidfVectorizer(norm = False, smooth_idf = False, stop_words=french_stopwords)\n",
    "\n"
   ]
  },
  {
   "cell_type": "raw",
   "metadata": {},
   "source": [
    "sentence_vectors = vectorizer.fit_transform(options)"
   ]
  },
  {
   "cell_type": "raw",
   "metadata": {},
   "source": [
    "options.shape"
   ]
  },
  {
   "cell_type": "raw",
   "metadata": {},
   "source": [
    "z =vectorizer.get_feature_names()"
   ]
  },
  {
   "cell_type": "raw",
   "metadata": {},
   "source": [
    "_vectors =  pd.DataFrame(sentence_vectors.toarray())"
   ]
  },
  {
   "cell_type": "raw",
   "metadata": {},
   "source": [
    "df_copy =df_copy.join(_vectors)"
   ]
  },
  {
   "cell_type": "raw",
   "metadata": {},
   "source": [
    "df_copy = df_copy.dropna()"
   ]
  },
  {
   "cell_type": "markdown",
   "metadata": {},
   "source": [
    "____\n",
    "# New_price : Fuzzy Matching"
   ]
  },
  {
   "cell_type": "markdown",
   "metadata": {},
   "source": [
    "- Afin de pouvoir compléter nos données, j'ai dû scrappé dans un notebook parallèle le site http://autoplus.fr pour récupérer le prix des véhicules neufs.\n",
    "- Les données récupérées sont enregistrées dans le CSV `prix-voiture.csv`\n",
    "- Nous allons maintenant devoir faire un matching entre ces nouvelles données et notre dataset principal.\n",
    "- Pour cela je vais utiliser la librairie `FUZZYWUZZY`, plus principalement la méthode `token_set_ratio` régler le problème"
   ]
  },
  {
   "cell_type": "code",
   "execution_count": 115,
   "metadata": {},
   "outputs": [],
   "source": [
    "# NOUVELLES\n",
    "df_copy['New_price'] = 0\n",
    "df_copy['Score'] = 0"
   ]
  },
  {
   "cell_type": "code",
   "execution_count": 116,
   "metadata": {},
   "outputs": [],
   "source": [
    "df_copy['Car_matched'] = ''"
   ]
  },
  {
   "cell_type": "code",
   "execution_count": 117,
   "metadata": {},
   "outputs": [
    {
     "data": {
      "text/plain": [
       "0             PEUGEOT 308\n",
       "1                  BMW X6\n",
       "2                AUDI RS6\n",
       "3                 FORD KA\n",
       "4               FIAT TIPO\n",
       "               ...       \n",
       "166690            AUDI A4\n",
       "166691    VOLKSWAGEN GOLF\n",
       "166692        FORD FIESTA\n",
       "166693      SKODA OCTAVIA\n",
       "166694     RENAULT KOLEOS\n",
       "Length: 162738, dtype: object"
      ]
     },
     "execution_count": 117,
     "metadata": {},
     "output_type": "execute_result"
    }
   ],
   "source": [
    "to_match"
   ]
  },
  {
   "cell_type": "code",
   "execution_count": 153,
   "metadata": {},
   "outputs": [],
   "source": [
    "df_copy[\"To_match\"] =to_match+ ' ' +  df_copy[\"Versions\"]  +  ' ('  + df_copy['Doors'].astype(str) +  'P.) '   +   df_copy[\"Gearbox\"]"
   ]
  },
  {
   "cell_type": "code",
   "execution_count": 119,
   "metadata": {},
   "outputs": [],
   "source": [
    "df_copy[\"_Make\"] = to_match.map(lambda x : x.split()[0].strip() )\n",
    "df_copy[\"_Model\"] = to_match.map(lambda x : x.split()[1].strip() )"
   ]
  },
  {
   "cell_type": "code",
   "execution_count": 120,
   "metadata": {},
   "outputs": [],
   "source": [
    "# DONNEE SCRAPÉE\n",
    "df2 =  pd.read_csv('prix-voiture.csv')\n",
    "\n",
    "#MAKE MODEL\n",
    "df2['Marque_Modele'] = df2['Marque_Modele'].str.upper()\n",
    "\n",
    "#VERSION\n",
    "df2['VERSION'] = df2['VERSION'].str.upper()\n",
    "\n",
    "#GEARBOX\n",
    "df2['Boite_de_vitesse'][ df2['Boite_de_vitesse']=='Manuelle']= 'mécanique'\n",
    "df2['Boite_de_vitesse'] = df2['Boite_de_vitesse'].str.upper()\n",
    "\n",
    "#VARIABLE A MATCHER AVEC DF_COPY\n",
    "df2[\"To_match\"] = df2[\"Marque_Modele\"] + ' ' +  df2[\"VERSION\"] + ' ' +   df2[\"Boite_de_vitesse\"]"
   ]
  },
  {
   "cell_type": "raw",
   "metadata": {},
   "source": [
    "df2['Make']=df2['Make'].replace(to_replace =\"-\",value =\" \")\n",
    "df2['Model']=df2['Model'].replace(to_replace =\"-\",value =\" \")"
   ]
  },
  {
   "cell_type": "code",
   "execution_count": 121,
   "metadata": {},
   "outputs": [],
   "source": [
    "df2['Make']= df2['Marque_Modele'].map(lambda x : x.split()[0].strip() )\n",
    "df2['Model']= df2['Marque_Modele'].map(lambda x : x.split()[1].strip() )"
   ]
  },
  {
   "cell_type": "code",
   "execution_count": 122,
   "metadata": {},
   "outputs": [],
   "source": [
    "df2['Make'] = df2['Make'].str.strip()"
   ]
  },
  {
   "cell_type": "code",
   "execution_count": 155,
   "metadata": {},
   "outputs": [],
   "source": [
    "df3 = pd.read_csv('df_copy4.csv')\n",
    "df_copy = df3"
   ]
  },
  {
   "cell_type": "code",
   "execution_count": 171,
   "metadata": {},
   "outputs": [
    {
     "data": {
      "text/html": [
       "<div>\n",
       "<style scoped>\n",
       "    .dataframe tbody tr th:only-of-type {\n",
       "        vertical-align: middle;\n",
       "    }\n",
       "\n",
       "    .dataframe tbody tr th {\n",
       "        vertical-align: top;\n",
       "    }\n",
       "\n",
       "    .dataframe thead th {\n",
       "        text-align: right;\n",
       "    }\n",
       "</style>\n",
       "<table border=\"1\" class=\"dataframe\">\n",
       "  <thead>\n",
       "    <tr style=\"text-align: right;\">\n",
       "      <th></th>\n",
       "      <th>Unnamed: 0</th>\n",
       "      <th>Price</th>\n",
       "      <th>Make</th>\n",
       "      <th>Model</th>\n",
       "      <th>Model_year</th>\n",
       "      <th>Mileage</th>\n",
       "      <th>Fuel</th>\n",
       "      <th>Gearbox</th>\n",
       "      <th>Online</th>\n",
       "      <th>Description</th>\n",
       "      <th>...</th>\n",
       "      <th>Horses</th>\n",
       "      <th>Version</th>\n",
       "      <th>To_match</th>\n",
       "      <th>New_price</th>\n",
       "      <th>Score</th>\n",
       "      <th>Make_model</th>\n",
       "      <th>_Make</th>\n",
       "      <th>_Model</th>\n",
       "      <th>car_matched</th>\n",
       "      <th>Car_matched</th>\n",
       "    </tr>\n",
       "  </thead>\n",
       "  <tbody>\n",
       "    <tr>\n",
       "      <th>53794</th>\n",
       "      <td>70341</td>\n",
       "      <td>8006</td>\n",
       "      <td>48</td>\n",
       "      <td>387</td>\n",
       "      <td>2007</td>\n",
       "      <td>0.410318</td>\n",
       "      <td>0</td>\n",
       "      <td>AUTOMATIQUE</td>\n",
       "      <td>13/04/2018 à 19h42</td>\n",
       "      <td>modele: 9-3 (2E GENERATION), version: II 1.9 T...</td>\n",
       "      <td>...</td>\n",
       "      <td>150.000000</td>\n",
       "      <td>II 1.9 TID 150 LINEAR SPORT BVA</td>\n",
       "      <td>SAAB 9-3 II 1.9 TID 150 LINEAR SPORT BVA (4P.)...</td>\n",
       "      <td>0</td>\n",
       "      <td>-1</td>\n",
       "      <td>SAAB 9-3</td>\n",
       "      <td>SAAB</td>\n",
       "      <td>9-3</td>\n",
       "      <td>nan</td>\n",
       "      <td>nan</td>\n",
       "    </tr>\n",
       "    <tr>\n",
       "      <th>53867</th>\n",
       "      <td>70447</td>\n",
       "      <td>19152</td>\n",
       "      <td>24</td>\n",
       "      <td>399</td>\n",
       "      <td>2013</td>\n",
       "      <td>0.341386</td>\n",
       "      <td>0</td>\n",
       "      <td>AUTOMATIQUE</td>\n",
       "      <td>27/02/2018 à 16h10</td>\n",
       "      <td>modele: THEMA 2, version: II 3.0 MULTIJET II 2...</td>\n",
       "      <td>...</td>\n",
       "      <td>239.000000</td>\n",
       "      <td>II 3.0 MULTIJET II 239 EXECUTIVE</td>\n",
       "      <td>LANCIA THEMA II 3.0 MULTIJET II 239 EXECUTIVE ...</td>\n",
       "      <td>0</td>\n",
       "      <td>-1</td>\n",
       "      <td>LANCIA THEMA</td>\n",
       "      <td>LANCIA</td>\n",
       "      <td>THEMA</td>\n",
       "      <td>nan</td>\n",
       "      <td>nan</td>\n",
       "    </tr>\n",
       "    <tr>\n",
       "      <th>54316</th>\n",
       "      <td>71043</td>\n",
       "      <td>6643</td>\n",
       "      <td>24</td>\n",
       "      <td>114</td>\n",
       "      <td>2013</td>\n",
       "      <td>0.342446</td>\n",
       "      <td>1</td>\n",
       "      <td>MÉCANIQUE</td>\n",
       "      <td>03/03/2018 à 7h40</td>\n",
       "      <td>modele: YPSILON 3, version: III 1.2 8V 69 STOP...</td>\n",
       "      <td>...</td>\n",
       "      <td>69.000000</td>\n",
       "      <td>III 1.2 8V 69 STOP&amp;START PLATINUM</td>\n",
       "      <td>LANCIA YPSILON III 1.2 8V 69 STOP&amp;START PLATIN...</td>\n",
       "      <td>0</td>\n",
       "      <td>-1</td>\n",
       "      <td>LANCIA YPSILON</td>\n",
       "      <td>LANCIA</td>\n",
       "      <td>YPSILON</td>\n",
       "      <td>nan</td>\n",
       "      <td>nan</td>\n",
       "    </tr>\n",
       "    <tr>\n",
       "      <th>54394</th>\n",
       "      <td>71141</td>\n",
       "      <td>8882</td>\n",
       "      <td>34</td>\n",
       "      <td>282</td>\n",
       "      <td>2011</td>\n",
       "      <td>0.704134</td>\n",
       "      <td>0</td>\n",
       "      <td>AUTOMATIQUE</td>\n",
       "      <td>20/05/2018 à 6h48</td>\n",
       "      <td>modele: ORLANDO, version: 2.0 VCDI 163 LTZ BVA...</td>\n",
       "      <td>...</td>\n",
       "      <td>163.000000</td>\n",
       "      <td>2.0 VCDI 163 LTZ BVA</td>\n",
       "      <td>CHEVROLET ORLANDO 2.0 VCDI 163 LTZ BVA (5P.) A...</td>\n",
       "      <td>0</td>\n",
       "      <td>-1</td>\n",
       "      <td>CHEVROLET ORLANDO</td>\n",
       "      <td>CHEVROLET</td>\n",
       "      <td>ORLANDO</td>\n",
       "      <td>nan</td>\n",
       "      <td>nan</td>\n",
       "    </tr>\n",
       "    <tr>\n",
       "      <th>54568</th>\n",
       "      <td>71355</td>\n",
       "      <td>9900</td>\n",
       "      <td>24</td>\n",
       "      <td>320</td>\n",
       "      <td>2013</td>\n",
       "      <td>0.262103</td>\n",
       "      <td>0</td>\n",
       "      <td>MÉCANIQUE</td>\n",
       "      <td>16/07/2018 à 6h18</td>\n",
       "      <td>modele: MUSA, version: (2) 1.3 MULTIJET 95 DPF...</td>\n",
       "      <td>...</td>\n",
       "      <td>95.000000</td>\n",
       "      <td>(2) 1.3 MULTIJET 95 DPF STOP&amp;START VIA VENETO</td>\n",
       "      <td>LANCIA MUSA (2) 1.3 MULTIJET 95 DPF STOP&amp;START...</td>\n",
       "      <td>0</td>\n",
       "      <td>-1</td>\n",
       "      <td>LANCIA MUSA</td>\n",
       "      <td>LANCIA</td>\n",
       "      <td>MUSA</td>\n",
       "      <td>nan</td>\n",
       "      <td>nan</td>\n",
       "    </tr>\n",
       "    <tr>\n",
       "      <th>...</th>\n",
       "      <td>...</td>\n",
       "      <td>...</td>\n",
       "      <td>...</td>\n",
       "      <td>...</td>\n",
       "      <td>...</td>\n",
       "      <td>...</td>\n",
       "      <td>...</td>\n",
       "      <td>...</td>\n",
       "      <td>...</td>\n",
       "      <td>...</td>\n",
       "      <td>...</td>\n",
       "      <td>...</td>\n",
       "      <td>...</td>\n",
       "      <td>...</td>\n",
       "      <td>...</td>\n",
       "      <td>...</td>\n",
       "      <td>...</td>\n",
       "      <td>...</td>\n",
       "      <td>...</td>\n",
       "      <td>...</td>\n",
       "      <td>...</td>\n",
       "    </tr>\n",
       "    <tr>\n",
       "      <th>162733</th>\n",
       "      <td>165089</td>\n",
       "      <td>5539</td>\n",
       "      <td>12</td>\n",
       "      <td>30</td>\n",
       "      <td>2010</td>\n",
       "      <td>0.497852</td>\n",
       "      <td>1</td>\n",
       "      <td>MÉCANIQUE</td>\n",
       "      <td>29/07/2018 à 3h44</td>\n",
       "      <td>modele: COLT 7, version: VII 1.3 INFORM, puiss...</td>\n",
       "      <td>...</td>\n",
       "      <td>4.322971</td>\n",
       "      <td>VII 1.3 INFORM</td>\n",
       "      <td>MITSUBISHI COLT VII 1.3 INFORM (0P.) MÉCANIQUE</td>\n",
       "      <td>0</td>\n",
       "      <td>0</td>\n",
       "      <td>MITSUBISHI COLT</td>\n",
       "      <td>MITSUBISHI</td>\n",
       "      <td>COLT</td>\n",
       "      <td>nan</td>\n",
       "      <td>nan</td>\n",
       "    </tr>\n",
       "    <tr>\n",
       "      <th>162734</th>\n",
       "      <td>165474</td>\n",
       "      <td>5823</td>\n",
       "      <td>20</td>\n",
       "      <td>37</td>\n",
       "      <td>2008</td>\n",
       "      <td>0.256642</td>\n",
       "      <td>0</td>\n",
       "      <td>MÉCANIQUE</td>\n",
       "      <td>03/04/2018 à 20h47</td>\n",
       "      <td>modele: AYGO, version: 1.4 D 5P, puissance_fis...</td>\n",
       "      <td>...</td>\n",
       "      <td>4.307992</td>\n",
       "      <td>1.4 D 5P</td>\n",
       "      <td>TOYOTA AYGO 1.4 D 5P (0P.) MÉCANIQUE</td>\n",
       "      <td>0</td>\n",
       "      <td>0</td>\n",
       "      <td>TOYOTA AYGO</td>\n",
       "      <td>TOYOTA</td>\n",
       "      <td>AYGO</td>\n",
       "      <td>nan</td>\n",
       "      <td>nan</td>\n",
       "    </tr>\n",
       "    <tr>\n",
       "      <th>162735</th>\n",
       "      <td>165539</td>\n",
       "      <td>6997</td>\n",
       "      <td>8</td>\n",
       "      <td>12</td>\n",
       "      <td>2010</td>\n",
       "      <td>0.406253</td>\n",
       "      <td>0</td>\n",
       "      <td>MÉCANIQUE</td>\n",
       "      <td>06/06/2018 à 20h18</td>\n",
       "      <td>modele: , version: 1.6 TDI 75CV FAP TREND LINE...</td>\n",
       "      <td>...</td>\n",
       "      <td>4.780718</td>\n",
       "      <td>1.6 TDI 75CV FAP TREND LINE</td>\n",
       "      <td>VOLKSWAGEN POLO 1.6 TDI 75CV FAP TREND LINE (0...</td>\n",
       "      <td>0</td>\n",
       "      <td>0</td>\n",
       "      <td>VOLKSWAGEN POLO</td>\n",
       "      <td>VOLKSWAGEN</td>\n",
       "      <td>POLO</td>\n",
       "      <td>nan</td>\n",
       "      <td>nan</td>\n",
       "    </tr>\n",
       "    <tr>\n",
       "      <th>162736</th>\n",
       "      <td>165979</td>\n",
       "      <td>50299</td>\n",
       "      <td>45</td>\n",
       "      <td>394</td>\n",
       "      <td>2008</td>\n",
       "      <td>0.075868</td>\n",
       "      <td>1</td>\n",
       "      <td>MÉCANIQUE</td>\n",
       "      <td>15/08/2018 à 19h54</td>\n",
       "      <td>modele: 2 ELEVEN, version: 1.8 255, puissance_...</td>\n",
       "      <td>...</td>\n",
       "      <td>2.415665</td>\n",
       "      <td>1.8 255</td>\n",
       "      <td>LOTUS 2 ELEVEN 1.8 255 (0P.) MÉCANIQUE</td>\n",
       "      <td>0</td>\n",
       "      <td>0</td>\n",
       "      <td>LOTUS 2 ELEVEN</td>\n",
       "      <td>LOTUS</td>\n",
       "      <td>2</td>\n",
       "      <td>nan</td>\n",
       "      <td>nan</td>\n",
       "    </tr>\n",
       "    <tr>\n",
       "      <th>162737</th>\n",
       "      <td>166172</td>\n",
       "      <td>4737</td>\n",
       "      <td>10</td>\n",
       "      <td>14</td>\n",
       "      <td>2009</td>\n",
       "      <td>0.626516</td>\n",
       "      <td>0</td>\n",
       "      <td>MÉCANIQUE</td>\n",
       "      <td>01/08/2018 à 8h56</td>\n",
       "      <td>modele: , version: 1.5 DCI 105, puissance_fisc...</td>\n",
       "      <td>...</td>\n",
       "      <td>4.791731</td>\n",
       "      <td>1.5 DCI 105</td>\n",
       "      <td>RENAULT SCENIC 1.5 DCI 105 (0P.) MÉCANIQUE</td>\n",
       "      <td>0</td>\n",
       "      <td>0</td>\n",
       "      <td>RENAULT SCENIC</td>\n",
       "      <td>RENAULT</td>\n",
       "      <td>SCENIC</td>\n",
       "      <td>nan</td>\n",
       "      <td>nan</td>\n",
       "    </tr>\n",
       "  </tbody>\n",
       "</table>\n",
       "<p>8787 rows × 39 columns</p>\n",
       "</div>"
      ],
      "text/plain": [
       "        Unnamed: 0  Price  Make  Model  Model_year  Mileage  Fuel  \\\n",
       "53794        70341   8006    48    387        2007 0.410318     0   \n",
       "53867        70447  19152    24    399        2013 0.341386     0   \n",
       "54316        71043   6643    24    114        2013 0.342446     1   \n",
       "54394        71141   8882    34    282        2011 0.704134     0   \n",
       "54568        71355   9900    24    320        2013 0.262103     0   \n",
       "...            ...    ...   ...    ...         ...      ...   ...   \n",
       "162733      165089   5539    12     30        2010 0.497852     1   \n",
       "162734      165474   5823    20     37        2008 0.256642     0   \n",
       "162735      165539   6997     8     12        2010 0.406253     0   \n",
       "162736      165979  50299    45    394        2008 0.075868     1   \n",
       "162737      166172   4737    10     14        2009 0.626516     0   \n",
       "\n",
       "            Gearbox              Online  \\\n",
       "53794   AUTOMATIQUE  13/04/2018 à 19h42   \n",
       "53867   AUTOMATIQUE  27/02/2018 à 16h10   \n",
       "54316     MÉCANIQUE   03/03/2018 à 7h40   \n",
       "54394   AUTOMATIQUE   20/05/2018 à 6h48   \n",
       "54568     MÉCANIQUE   16/07/2018 à 6h18   \n",
       "...             ...                 ...   \n",
       "162733    MÉCANIQUE   29/07/2018 à 3h44   \n",
       "162734    MÉCANIQUE  03/04/2018 à 20h47   \n",
       "162735    MÉCANIQUE  06/06/2018 à 20h18   \n",
       "162736    MÉCANIQUE  15/08/2018 à 19h54   \n",
       "162737    MÉCANIQUE   01/08/2018 à 8h56   \n",
       "\n",
       "                                              Description  ...     Horses  \\\n",
       "53794   modele: 9-3 (2E GENERATION), version: II 1.9 T...  ... 150.000000   \n",
       "53867   modele: THEMA 2, version: II 3.0 MULTIJET II 2...  ... 239.000000   \n",
       "54316   modele: YPSILON 3, version: III 1.2 8V 69 STOP...  ...  69.000000   \n",
       "54394   modele: ORLANDO, version: 2.0 VCDI 163 LTZ BVA...  ... 163.000000   \n",
       "54568   modele: MUSA, version: (2) 1.3 MULTIJET 95 DPF...  ...  95.000000   \n",
       "...                                                   ...  ...        ...   \n",
       "162733  modele: COLT 7, version: VII 1.3 INFORM, puiss...  ...   4.322971   \n",
       "162734  modele: AYGO, version: 1.4 D 5P, puissance_fis...  ...   4.307992   \n",
       "162735  modele: , version: 1.6 TDI 75CV FAP TREND LINE...  ...   4.780718   \n",
       "162736  modele: 2 ELEVEN, version: 1.8 255, puissance_...  ...   2.415665   \n",
       "162737  modele: , version: 1.5 DCI 105, puissance_fisc...  ...   4.791731   \n",
       "\n",
       "                                              Version  \\\n",
       "53794                 II 1.9 TID 150 LINEAR SPORT BVA   \n",
       "53867                II 3.0 MULTIJET II 239 EXECUTIVE   \n",
       "54316               III 1.2 8V 69 STOP&START PLATINUM   \n",
       "54394                            2.0 VCDI 163 LTZ BVA   \n",
       "54568   (2) 1.3 MULTIJET 95 DPF STOP&START VIA VENETO   \n",
       "...                                               ...   \n",
       "162733                                 VII 1.3 INFORM   \n",
       "162734                                       1.4 D 5P   \n",
       "162735                    1.6 TDI 75CV FAP TREND LINE   \n",
       "162736                                        1.8 255   \n",
       "162737                                    1.5 DCI 105   \n",
       "\n",
       "                                                 To_match  New_price  Score  \\\n",
       "53794   SAAB 9-3 II 1.9 TID 150 LINEAR SPORT BVA (4P.)...          0     -1   \n",
       "53867   LANCIA THEMA II 3.0 MULTIJET II 239 EXECUTIVE ...          0     -1   \n",
       "54316   LANCIA YPSILON III 1.2 8V 69 STOP&START PLATIN...          0     -1   \n",
       "54394   CHEVROLET ORLANDO 2.0 VCDI 163 LTZ BVA (5P.) A...          0     -1   \n",
       "54568   LANCIA MUSA (2) 1.3 MULTIJET 95 DPF STOP&START...          0     -1   \n",
       "...                                                   ...        ...    ...   \n",
       "162733     MITSUBISHI COLT VII 1.3 INFORM (0P.) MÉCANIQUE          0      0   \n",
       "162734               TOYOTA AYGO 1.4 D 5P (0P.) MÉCANIQUE          0      0   \n",
       "162735  VOLKSWAGEN POLO 1.6 TDI 75CV FAP TREND LINE (0...          0      0   \n",
       "162736             LOTUS 2 ELEVEN 1.8 255 (0P.) MÉCANIQUE          0      0   \n",
       "162737         RENAULT SCENIC 1.5 DCI 105 (0P.) MÉCANIQUE          0      0   \n",
       "\n",
       "               Make_model       _Make   _Model  car_matched  Car_matched  \n",
       "53794            SAAB 9-3        SAAB      9-3          nan          nan  \n",
       "53867        LANCIA THEMA      LANCIA    THEMA          nan          nan  \n",
       "54316      LANCIA YPSILON      LANCIA  YPSILON          nan          nan  \n",
       "54394   CHEVROLET ORLANDO   CHEVROLET  ORLANDO          nan          nan  \n",
       "54568         LANCIA MUSA      LANCIA     MUSA          nan          nan  \n",
       "...                   ...         ...      ...          ...          ...  \n",
       "162733    MITSUBISHI COLT  MITSUBISHI     COLT          nan          nan  \n",
       "162734        TOYOTA AYGO      TOYOTA     AYGO          nan          nan  \n",
       "162735    VOLKSWAGEN POLO  VOLKSWAGEN     POLO          nan          nan  \n",
       "162736     LOTUS 2 ELEVEN       LOTUS        2          nan          nan  \n",
       "162737     RENAULT SCENIC     RENAULT   SCENIC          nan          nan  \n",
       "\n",
       "[8787 rows x 39 columns]"
      ]
     },
     "execution_count": 171,
     "metadata": {},
     "output_type": "execute_result"
    }
   ],
   "source": [
    "not_matched = df_copy[ df_copy['New_price']==0 ]\n",
    "not_matched"
   ]
  },
  {
   "cell_type": "code",
   "execution_count": 168,
   "metadata": {},
   "outputs": [],
   "source": [
    "from fuzzywuzzy import fuzz"
   ]
  },
  {
   "cell_type": "code",
   "execution_count": 169,
   "metadata": {},
   "outputs": [],
   "source": [
    "# FONCTION FUZZY WUZZY MATCHING\n",
    "def matching(car, _make, _model):\n",
    "    score = -1\n",
    "    price=0\n",
    "    car_match=0\n",
    "    matched = None\n",
    "\n",
    "    for i in range(df2.shape[0]):\n",
    "        if _make == df2['Make'][i]:\n",
    "                sc = fuzz.token_set_ratio(car, df2['To_match'][i])\n",
    "                if sc > score:\n",
    "                    matched =  df2['To_match'][i]\n",
    "                    score = sc\n",
    "                    price = df2['PRIX_Neuf'][i]\n",
    "    \n",
    "    return( price, score, matched )"
   ]
  },
  {
   "cell_type": "code",
   "execution_count": 170,
   "metadata": {
    "collapsed": true,
    "jupyter": {
     "outputs_hidden": true
    }
   },
   "outputs": [
    {
     "ename": "KeyboardInterrupt",
     "evalue": "",
     "output_type": "error",
     "traceback": [
      "\u001b[0;31m---------------------------------------------------------------------------\u001b[0m",
      "\u001b[0;31mKeyboardInterrupt\u001b[0m                         Traceback (most recent call last)",
      "\u001b[0;32m<ipython-input-170-61ca2ceca6ad>\u001b[0m in \u001b[0;36m<module>\u001b[0;34m\u001b[0m\n\u001b[1;32m      6\u001b[0m     \u001b[0mmatched\u001b[0m \u001b[0;34m=\u001b[0m \u001b[0;32mNone\u001b[0m\u001b[0;34m\u001b[0m\u001b[0;34m\u001b[0m\u001b[0m\n\u001b[1;32m      7\u001b[0m \u001b[0;34m\u001b[0m\u001b[0m\n\u001b[0;32m----> 8\u001b[0;31m     \u001b[0mdf_copy\u001b[0m\u001b[0;34m[\u001b[0m\u001b[0;34m'New_price'\u001b[0m\u001b[0;34m]\u001b[0m\u001b[0;34m[\u001b[0m\u001b[0mj\u001b[0m\u001b[0;34m]\u001b[0m\u001b[0;34m,\u001b[0m \u001b[0mdf_copy\u001b[0m\u001b[0;34m[\u001b[0m\u001b[0;34m'Score'\u001b[0m\u001b[0;34m]\u001b[0m\u001b[0;34m[\u001b[0m\u001b[0mj\u001b[0m\u001b[0;34m]\u001b[0m\u001b[0;34m,\u001b[0m \u001b[0mmatched\u001b[0m \u001b[0;34m=\u001b[0m \u001b[0mmatching\u001b[0m\u001b[0;34m(\u001b[0m \u001b[0mdf_copy\u001b[0m\u001b[0;34m[\u001b[0m\u001b[0;34m'To_match'\u001b[0m\u001b[0;34m]\u001b[0m\u001b[0;34m[\u001b[0m\u001b[0mj\u001b[0m\u001b[0;34m]\u001b[0m\u001b[0;34m,\u001b[0m  \u001b[0m_make\u001b[0m\u001b[0;34m,\u001b[0m \u001b[0m_model\u001b[0m\u001b[0;34m)\u001b[0m\u001b[0;34m\u001b[0m\u001b[0;34m\u001b[0m\u001b[0m\n\u001b[0m\u001b[1;32m      9\u001b[0m \u001b[0;34m\u001b[0m\u001b[0m\n\u001b[1;32m     10\u001b[0m \u001b[0;31m#    if  matched is not None:\u001b[0m\u001b[0;34m\u001b[0m\u001b[0;34m\u001b[0m\u001b[0;34m\u001b[0m\u001b[0m\n",
      "\u001b[0;32m<ipython-input-169-0d7438f414c2>\u001b[0m in \u001b[0;36mmatching\u001b[0;34m(car, _make, _model)\u001b[0m\n\u001b[1;32m      7\u001b[0m \u001b[0;34m\u001b[0m\u001b[0m\n\u001b[1;32m      8\u001b[0m     \u001b[0;32mfor\u001b[0m \u001b[0mi\u001b[0m \u001b[0;32min\u001b[0m \u001b[0mrange\u001b[0m\u001b[0;34m(\u001b[0m\u001b[0mdf2\u001b[0m\u001b[0;34m.\u001b[0m\u001b[0mshape\u001b[0m\u001b[0;34m[\u001b[0m\u001b[0;36m0\u001b[0m\u001b[0;34m]\u001b[0m\u001b[0;34m)\u001b[0m\u001b[0;34m:\u001b[0m\u001b[0;34m\u001b[0m\u001b[0;34m\u001b[0m\u001b[0m\n\u001b[0;32m----> 9\u001b[0;31m         \u001b[0;32mif\u001b[0m \u001b[0m_make\u001b[0m \u001b[0;34m==\u001b[0m \u001b[0mdf2\u001b[0m\u001b[0;34m[\u001b[0m\u001b[0;34m'Make'\u001b[0m\u001b[0;34m]\u001b[0m\u001b[0;34m[\u001b[0m\u001b[0mi\u001b[0m\u001b[0;34m]\u001b[0m\u001b[0;34m:\u001b[0m\u001b[0;34m\u001b[0m\u001b[0;34m\u001b[0m\u001b[0m\n\u001b[0m\u001b[1;32m     10\u001b[0m                 \u001b[0msc\u001b[0m \u001b[0;34m=\u001b[0m \u001b[0mfuzz\u001b[0m\u001b[0;34m.\u001b[0m\u001b[0mtoken_set_ratio\u001b[0m\u001b[0;34m(\u001b[0m\u001b[0mcar\u001b[0m\u001b[0;34m,\u001b[0m \u001b[0mdf2\u001b[0m\u001b[0;34m[\u001b[0m\u001b[0;34m'To_match'\u001b[0m\u001b[0;34m]\u001b[0m\u001b[0;34m[\u001b[0m\u001b[0mi\u001b[0m\u001b[0;34m]\u001b[0m\u001b[0;34m)\u001b[0m\u001b[0;34m\u001b[0m\u001b[0;34m\u001b[0m\u001b[0m\n\u001b[1;32m     11\u001b[0m                 \u001b[0;32mif\u001b[0m \u001b[0msc\u001b[0m \u001b[0;34m>\u001b[0m \u001b[0mscore\u001b[0m\u001b[0;34m:\u001b[0m\u001b[0;34m\u001b[0m\u001b[0;34m\u001b[0m\u001b[0m\n",
      "\u001b[0;32m~/opt/anaconda3/lib/python3.7/site-packages/pandas/core/series.py\u001b[0m in \u001b[0;36m__getitem__\u001b[0;34m(self, key)\u001b[0m\n\u001b[1;32m    869\u001b[0m         \u001b[0mkey\u001b[0m \u001b[0;34m=\u001b[0m \u001b[0mcom\u001b[0m\u001b[0;34m.\u001b[0m\u001b[0mapply_if_callable\u001b[0m\u001b[0;34m(\u001b[0m\u001b[0mkey\u001b[0m\u001b[0;34m,\u001b[0m \u001b[0mself\u001b[0m\u001b[0;34m)\u001b[0m\u001b[0;34m\u001b[0m\u001b[0;34m\u001b[0m\u001b[0m\n\u001b[1;32m    870\u001b[0m         \u001b[0;32mtry\u001b[0m\u001b[0;34m:\u001b[0m\u001b[0;34m\u001b[0m\u001b[0;34m\u001b[0m\u001b[0m\n\u001b[0;32m--> 871\u001b[0;31m             \u001b[0mresult\u001b[0m \u001b[0;34m=\u001b[0m \u001b[0mself\u001b[0m\u001b[0;34m.\u001b[0m\u001b[0mindex\u001b[0m\u001b[0;34m.\u001b[0m\u001b[0mget_value\u001b[0m\u001b[0;34m(\u001b[0m\u001b[0mself\u001b[0m\u001b[0;34m,\u001b[0m \u001b[0mkey\u001b[0m\u001b[0;34m)\u001b[0m\u001b[0;34m\u001b[0m\u001b[0;34m\u001b[0m\u001b[0m\n\u001b[0m\u001b[1;32m    872\u001b[0m \u001b[0;34m\u001b[0m\u001b[0m\n\u001b[1;32m    873\u001b[0m             \u001b[0;32mif\u001b[0m \u001b[0;32mnot\u001b[0m \u001b[0mis_scalar\u001b[0m\u001b[0;34m(\u001b[0m\u001b[0mresult\u001b[0m\u001b[0;34m)\u001b[0m\u001b[0;34m:\u001b[0m\u001b[0;34m\u001b[0m\u001b[0;34m\u001b[0m\u001b[0m\n",
      "\u001b[0;32m~/opt/anaconda3/lib/python3.7/site-packages/pandas/core/indexes/base.py\u001b[0m in \u001b[0;36mget_value\u001b[0;34m(self, series, key)\u001b[0m\n\u001b[1;32m   4398\u001b[0m                 \u001b[0;32mraise\u001b[0m \u001b[0mInvalidIndexError\u001b[0m\u001b[0;34m(\u001b[0m\u001b[0mkey\u001b[0m\u001b[0;34m)\u001b[0m\u001b[0;34m\u001b[0m\u001b[0;34m\u001b[0m\u001b[0m\n\u001b[1;32m   4399\u001b[0m \u001b[0;34m\u001b[0m\u001b[0m\n\u001b[0;32m-> 4400\u001b[0;31m         \u001b[0ms\u001b[0m \u001b[0;34m=\u001b[0m \u001b[0mcom\u001b[0m\u001b[0;34m.\u001b[0m\u001b[0mvalues_from_object\u001b[0m\u001b[0;34m(\u001b[0m\u001b[0mseries\u001b[0m\u001b[0;34m)\u001b[0m\u001b[0;34m\u001b[0m\u001b[0;34m\u001b[0m\u001b[0m\n\u001b[0m\u001b[1;32m   4401\u001b[0m         \u001b[0mk\u001b[0m \u001b[0;34m=\u001b[0m \u001b[0mcom\u001b[0m\u001b[0;34m.\u001b[0m\u001b[0mvalues_from_object\u001b[0m\u001b[0;34m(\u001b[0m\u001b[0mkey\u001b[0m\u001b[0;34m)\u001b[0m\u001b[0;34m\u001b[0m\u001b[0;34m\u001b[0m\u001b[0m\n\u001b[1;32m   4402\u001b[0m \u001b[0;34m\u001b[0m\u001b[0m\n",
      "\u001b[0;32mpandas/_libs/lib.pyx\u001b[0m in \u001b[0;36mpandas._libs.lib.values_from_object\u001b[0;34m()\u001b[0m\n",
      "\u001b[0;32m~/opt/anaconda3/lib/python3.7/site-packages/pandas/core/series.py\u001b[0m in \u001b[0;36m_internal_get_values\u001b[0;34m(self)\u001b[0m\n\u001b[1;32m    528\u001b[0m         \"\"\"\n\u001b[1;32m    529\u001b[0m \u001b[0;34m\u001b[0m\u001b[0m\n\u001b[0;32m--> 530\u001b[0;31m         \u001b[0;32mreturn\u001b[0m \u001b[0mself\u001b[0m\u001b[0;34m.\u001b[0m\u001b[0m_data\u001b[0m\u001b[0;34m.\u001b[0m\u001b[0mget_values\u001b[0m\u001b[0;34m(\u001b[0m\u001b[0;34m)\u001b[0m\u001b[0;34m\u001b[0m\u001b[0;34m\u001b[0m\u001b[0m\n\u001b[0m\u001b[1;32m    531\u001b[0m \u001b[0;34m\u001b[0m\u001b[0m\n\u001b[1;32m    532\u001b[0m     \u001b[0;31m# ops\u001b[0m\u001b[0;34m\u001b[0m\u001b[0;34m\u001b[0m\u001b[0;34m\u001b[0m\u001b[0m\n",
      "\u001b[0;31mKeyboardInterrupt\u001b[0m: "
     ]
    }
   ],
   "source": [
    "# APPEL DE LA FONCTION POUR CHAQUE VOITURE DE DF_COPY\n",
    "for j in not_matched.index :\n",
    "    _make  = df_copy['_Make'][j]\n",
    "    _model = df_copy['_Model'][j]\n",
    "    mark_mod = df_copy['Make_model'][j]\n",
    "    matched = None\n",
    "    \n",
    "    df_copy['New_price'][j], df_copy['Score'][j], matched = matching( df_copy['To_match'][j],  _make, _model)\n",
    "    \n",
    "#    if  matched is not None:\n",
    "#        print(df_copy['To_match'][j], ' = ',  matched)"
   ]
  },
  {
   "cell_type": "raw",
   "metadata": {
    "jupyter": {
     "outputs_hidden": true
    }
   },
   "source": [
    "df_copy.to_csv('df_copy6.csv')"
   ]
  },
  {
   "cell_type": "code",
   "execution_count": 4,
   "metadata": {},
   "outputs": [],
   "source": [
    "df_predicted = pd.read_csv('df_copy6.csv')"
   ]
  },
  {
   "cell_type": "code",
   "execution_count": 5,
   "metadata": {},
   "outputs": [],
   "source": [
    "df_copy = df_predicted"
   ]
  },
  {
   "cell_type": "markdown",
   "metadata": {},
   "source": [
    "------\n",
    "## `RandomForestRegressor`"
   ]
  },
  {
   "cell_type": "markdown",
   "metadata": {},
   "source": [
    "À ce stade nos variables sont prêtes, nous pouvons commencer à travailler sur la modélisation finale.\n",
    "Pour cela, j'ai choisi le modèle `RandomForestRegressor` qui est basé sur des Arbres de décision."
   ]
  },
  {
   "cell_type": "code",
   "execution_count": 6,
   "metadata": {},
   "outputs": [],
   "source": [
    "df_copy = df_copy [df_copy['New_price']!=0]"
   ]
  },
  {
   "cell_type": "code",
   "execution_count": 7,
   "metadata": {},
   "outputs": [
    {
     "data": {
      "text/plain": [
       "Unnamed: 0                     int64\n",
       "Unnamed: 0.1                   int64\n",
       "Price                          int64\n",
       "Make                           int64\n",
       "Model                          int64\n",
       "Model_year                     int64\n",
       "Mileage                      float64\n",
       "Fuel                           int64\n",
       "Gearbox                       object\n",
       "Online                        object\n",
       "Description                   object\n",
       "gearbox_auto                   int64\n",
       "gearbox_meca                   int64\n",
       "Fuel_GNV                       int64\n",
       "Fuel_GPL                       int64\n",
       "Fuel_ethanol                   int64\n",
       "Fuel_diesel                    int64\n",
       "Fuel_elec                      int64\n",
       "Fuel_essence                   int64\n",
       "Fuel_hybrid_diesel_elect       int64\n",
       "Fuel_hybrid_essence_elect      int64\n",
       "Colors                         int64\n",
       "Versions                      object\n",
       "Power                          int64\n",
       "Doors                          int64\n",
       "Online_year                    int64\n",
       "Online_month                   int64\n",
       "Online_days                    int64\n",
       "Ages                           int64\n",
       "Cylinder                     float64\n",
       "Horses                       float64\n",
       "Version                       object\n",
       "To_match                      object\n",
       "New_price                      int64\n",
       "Score                          int64\n",
       "Make_model                    object\n",
       "_Make                         object\n",
       "_Model                        object\n",
       "car_matched                  float64\n",
       "Car_matched                  float64\n",
       "dtype: object"
      ]
     },
     "execution_count": 7,
     "metadata": {},
     "output_type": "execute_result"
    }
   ],
   "source": [
    "df_copy.dtypes"
   ]
  },
  {
   "cell_type": "code",
   "execution_count": 8,
   "metadata": {},
   "outputs": [],
   "source": [
    "to_drop = ['Description', 'Online', 'Gearbox','Fuel',  'Versions', 'Version', 'Make_model', 'Score',\"To_match\", \"_Make\", '_Model', 'Score', 'car_matched', 'Car_matched', 'Unnamed: 0', 'Unnamed: 0.1' ]"
   ]
  },
  {
   "cell_type": "code",
   "execution_count": 9,
   "metadata": {},
   "outputs": [],
   "source": [
    "df_copy = df_copy.drop(columns=to_drop)"
   ]
  },
  {
   "cell_type": "code",
   "execution_count": 10,
   "metadata": {},
   "outputs": [],
   "source": [
    "y = df_copy['Price']\n",
    "X = df_copy.drop(columns=['Price'])"
   ]
  },
  {
   "cell_type": "code",
   "execution_count": 11,
   "metadata": {},
   "outputs": [],
   "source": [
    "from sklearn.ensemble import RandomForestRegressor\n",
    "from sklearn.model_selection import train_test_split, cross_val_score"
   ]
  },
  {
   "cell_type": "code",
   "execution_count": 12,
   "metadata": {},
   "outputs": [],
   "source": [
    "X_train, X_test, y_train, y_test = train_test_split(X, y, test_size=.2, random_state=42)"
   ]
  },
  {
   "cell_type": "code",
   "execution_count": 13,
   "metadata": {},
   "outputs": [
    {
     "data": {
      "text/plain": [
       "((123160, 24), (123160,))"
      ]
     },
     "execution_count": 13,
     "metadata": {},
     "output_type": "execute_result"
    }
   ],
   "source": [
    "# TRAINING SET\n",
    "X_train.shape, y_train.shape, "
   ]
  },
  {
   "cell_type": "code",
   "execution_count": 14,
   "metadata": {},
   "outputs": [
    {
     "data": {
      "text/plain": [
       "((30791, 24), (30791,))"
      ]
     },
     "execution_count": 14,
     "metadata": {},
     "output_type": "execute_result"
    }
   ],
   "source": [
    "# TEST SET\n",
    "X_test.shape, y_test.shape"
   ]
  },
  {
   "cell_type": "code",
   "execution_count": 15,
   "metadata": {},
   "outputs": [],
   "source": [
    "rf = RandomForestRegressor(n_estimators=213, min_samples_leaf=1, min_samples_split=2, n_jobs=-1, max_depth=40)"
   ]
  },
  {
   "cell_type": "code",
   "execution_count": 16,
   "metadata": {},
   "outputs": [
    {
     "name": "stdout",
     "output_type": "stream",
     "text": [
      "Mean cross-validation score: 0.95\n"
     ]
    }
   ],
   "source": [
    "scores = cross_val_score(rf, X_train,y_train,cv=5)\n",
    "print(\"Mean cross-validation score: %.2f\" % scores.mean())"
   ]
  },
  {
   "cell_type": "raw",
   "metadata": {},
   "source": [
    "#Train \n",
    "rf.fit(X_train, y_train)"
   ]
  },
  {
   "cell_type": "code",
   "execution_count": 247,
   "metadata": {},
   "outputs": [],
   "source": [
    "y_pred = rf.predict(X_test)"
   ]
  },
  {
   "cell_type": "markdown",
   "metadata": {},
   "source": [
    "## MAPE"
   ]
  },
  {
   "cell_type": "code",
   "execution_count": 248,
   "metadata": {},
   "outputs": [
    {
     "data": {
      "text/plain": [
       "7.81391069056348"
      ]
     },
     "execution_count": 248,
     "metadata": {},
     "output_type": "execute_result"
    }
   ],
   "source": [
    "N = len(y_pred)\n",
    "mape = (1/N) * sum(abs((y_test - y_pred)/y_test)) * 100\n",
    "mape"
   ]
  },
  {
   "cell_type": "markdown",
   "metadata": {},
   "source": [
    "------"
   ]
  },
  {
   "cell_type": "markdown",
   "metadata": {},
   "source": [
    "# XGBRegressor"
   ]
  },
  {
   "cell_type": "code",
   "execution_count": 249,
   "metadata": {},
   "outputs": [],
   "source": [
    "import xgboost as xgb\n",
    "from sklearn.metrics import mean_squared_error\n",
    "import pandas as pd\n",
    "import numpy as np\n",
    "from sklearn.model_selection import cross_val_score, KFold"
   ]
  },
  {
   "cell_type": "code",
   "execution_count": 250,
   "metadata": {},
   "outputs": [],
   "source": [
    "data_dmatrix = xgb.DMatrix(data=X,label=y)"
   ]
  },
  {
   "cell_type": "code",
   "execution_count": 251,
   "metadata": {},
   "outputs": [],
   "source": [
    "X_train, X_test, y_train, y_test = train_test_split(X, y, test_size=0.2, random_state=42)"
   ]
  },
  {
   "cell_type": "code",
   "execution_count": 336,
   "metadata": {},
   "outputs": [],
   "source": [
    "xg_reg = xgb.XGBRegressor(objective ='reg:squarederror', colsample_bytree = 0.555, learning_rate = 0.044, max_depth = 45, alpha = 10, n_estimators = 140)"
   ]
  },
  {
   "cell_type": "code",
   "execution_count": 337,
   "metadata": {},
   "outputs": [
    {
     "data": {
      "text/plain": [
       "XGBRegressor(alpha=10, base_score=0.5, booster='gbtree', colsample_bylevel=1,\n",
       "             colsample_bynode=1, colsample_bytree=0.555, gamma=0,\n",
       "             importance_type='gain', learning_rate=0.044, max_delta_step=0,\n",
       "             max_depth=45, min_child_weight=1, missing=None, n_estimators=140,\n",
       "             n_jobs=1, nthread=None, objective='reg:squarederror',\n",
       "             random_state=0, reg_alpha=0, reg_lambda=1, scale_pos_weight=1,\n",
       "             seed=None, silent=None, subsample=1, verbosity=1)"
      ]
     },
     "execution_count": 337,
     "metadata": {},
     "output_type": "execute_result"
    }
   ],
   "source": [
    "xg_reg.fit(X_train,y_train)"
   ]
  },
  {
   "cell_type": "code",
   "execution_count": 338,
   "metadata": {},
   "outputs": [],
   "source": [
    "xg_preds = xg_reg.predict(X_test)"
   ]
  },
  {
   "cell_type": "markdown",
   "metadata": {},
   "source": [
    "## MAPE"
   ]
  },
  {
   "cell_type": "code",
   "execution_count": 339,
   "metadata": {},
   "outputs": [
    {
     "data": {
      "text/plain": [
       "7.0020519730078705"
      ]
     },
     "execution_count": 339,
     "metadata": {},
     "output_type": "execute_result"
    }
   ],
   "source": [
    "N = len(xg_preds)\n",
    "mape = (1/N) * sum(abs((y_test - xg_preds)/y_test)) * 100\n",
    "mape"
   ]
  },
  {
   "cell_type": "markdown",
   "metadata": {},
   "source": [
    "##  CROSS VALIDATION"
   ]
  },
  {
   "cell_type": "code",
   "execution_count": 290,
   "metadata": {},
   "outputs": [
    {
     "name": "stdout",
     "output_type": "stream",
     "text": [
      "Mean cross-validation score: 0.96\n"
     ]
    }
   ],
   "source": [
    "scores = cross_val_score(xg_reg, X_train,y_train,cv=5)\n",
    "print(\"Mean cross-validation score: %.2f\" % scores.mean())"
   ]
  },
  {
   "cell_type": "markdown",
   "metadata": {},
   "source": [
    "Comme nous pouvons le constater la perfomance la plus intéressante est réalisé par XGBoostRegressoravec 7% d'erreurs moyens et un résultat de cross validation de 96%"
   ]
  },
  {
   "cell_type": "markdown",
   "metadata": {},
   "source": [
    "-----\n",
    "# RESULTATS"
   ]
  },
  {
   "cell_type": "markdown",
   "metadata": {},
   "source": [
    "#### MODEL : RandomForestRegressor\n",
    "\n",
    "`V1 = ['Make' ,'Model', 'Model_year' , 'Mileage', 'Fuel', 'Power', 'Doors', \"Gearbox\"]`\n",
    "\n",
    "\n",
    "```\n",
    "MAPE = 10.119949686211395\n",
    "```\n",
    "\n",
    "\n",
    "____\n",
    "\n",
    "#### MODEL : RandomForestRegressor\n",
    "\n",
    "`V2  = ['Make' ,'Model', 'Model_year' , 'Mileage', 'Fuel', 'Power', 'Doors', \"gearbox_meca\" , \"gearbox_auto\"]`\n",
    "\n",
    "```\n",
    "MAPE = 10.121793211480894\n",
    "\n",
    "\n",
    "```\n",
    "\n",
    "____\n",
    "#### MODEL : RandomForestRegressor\n",
    "\n",
    "`V3 = ['Make' ,'Model', 'Model_year' , 'Mileage', \"gearbox_meca\", 'gearbox_auto', 'Power', 'Doors', \"Fuel_GNV\", \"Fuel_GPL\",\"Fuel_ethanol\",\"Fuel_diesel\",\"Fuel_elec\",\"Fuel_essence\",\"Fuel_hybrid_diesel_elect\",\"Fuel_hybrid_essence_elect\"]`\n",
    "\n",
    "```\n",
    "\n",
    "MAPE = 10.123539197944757\n",
    "```\n",
    "\n",
    "___\n",
    "\n",
    "#### MODEL : RandomForestRegressor\n",
    "\n",
    "```V4 =  ['Make' ,'Model', 'Model_year' , 'Mileage', \"gearbox_meca\", 'gearbox_auto', 'Doors', \"Fuel_GNV\",\"Fuel_GPL\",\"Fuel_ethanol\",\"Fuel_diesel\",\"Fuel_elec\",\"Fuel_essence\",\"Fuel_hybrid_diesel_elect\",\"Fuel_hybrid_essence_elect\", 'Online_year','Online_month', 'Online_days', 'Ages']```\n",
    "\n",
    "\n",
    "```\n",
    "\n",
    "MAPE = 12.564634678533833\n",
    "```\n",
    "\n",
    "\n",
    "____\n",
    "\n",
    "-  MODEL : RandomForestRegressor\n",
    "\n",
    "`V5 =   ['Make' ,'Model', 'Model_year' , 'Power', 'Mileage', \n",
    "              \"gearbox_meca\", 'gearbox_auto', 'Doors',  'Colors',\n",
    "              \"Fuel_GNV\", \"Fuel_GPL\",\"Fuel_ethanol\",\"Fuel_diesel\",\"Fuel_elec\",\"Fuel_essence\",\"Fuel_hybrid_diesel_elect\",\"Fuel_hybrid_essence_elect\", \n",
    "              'Online_year', 'Online_month', 'Online_days', 'Ages', \n",
    "              'Cylinder', 'Horses'] `\n",
    "\n",
    "```\n",
    "MAPE = 9.12\n",
    "```\n",
    "\n",
    "---------\n",
    "\n",
    "#### MODEL : RandomForestRegressor\n",
    "-  À Partir de la V6  j'ai changé les filtres de `Price`  pour les encadrer de manière suivante : 400 € à 125000 €\n",
    "\n",
    "`V6 =   ['Make' ,'Model', 'Model_year' , 'Power', 'Mileage', \n",
    "              \"gearbox_meca\", 'gearbox_auto', 'Doors',  'Colors',\n",
    "              \"Fuel_GNV\", \"Fuel_GPL\",\"Fuel_ethanol\",\"Fuel_diesel\",\"Fuel_elec\",\"Fuel_essence\",\"Fuel_hybrid_diesel_elect\",\"Fuel_hybrid_essence_elect\", \n",
    "              'Online_year', 'Online_month', 'Online_days', 'Ages', \n",
    "              'Cylinder', 'Horses'] `\n",
    "\n",
    "\n",
    "```\n",
    "MAPE = 8.96\n",
    "```\n",
    "\n",
    "-----\n",
    "#### MODEL : RandomForestRegressor\n",
    "-  Ajout du Filtrage : `Mileage` < `200000`\n",
    "\n",
    "`V6 =   ['Make' ,'Model', 'Model_year' , 'Power', 'Mileage', \n",
    "              \"gearbox_meca\", 'gearbox_auto', 'Doors',  'Colors',\n",
    "              \"Fuel_GNV\", \"Fuel_GPL\",\"Fuel_ethanol\",\"Fuel_diesel\",\"Fuel_elec\",\"Fuel_essence\",\"Fuel_hybrid_diesel_elect\",\"Fuel_hybrid_essence_elect\", \n",
    "              'Online_year', 'Online_month', 'Online_days', 'Ages', \n",
    "              'Cylinder', 'Horses'] `\n",
    "\n",
    "\n",
    "```\n",
    "MAPE = 8.76\n",
    "```\n",
    "\n",
    "-----\n",
    "#### MODEL : RandomForestRegressor\n",
    "-  Ajout du Filtrage :  `2000` < `Model year` < `2020`\n",
    "\n",
    "`V6 =   ['Make' ,'Model', 'Model_year' , 'Power', 'Mileage', \n",
    "              \"gearbox_meca\", 'gearbox_auto', 'Doors',  'Colors',\n",
    "              \"Fuel_GNV\", \"Fuel_GPL\",\"Fuel_ethanol\",\"Fuel_diesel\",\"Fuel_elec\",\"Fuel_essence\",\"Fuel_hybrid_diesel_elect\",\"Fuel_hybrid_essence_elect\", \n",
    "              'Online_year', 'Online_month', 'Online_days', 'Ages', \n",
    "              'Cylinder', 'Horses'] `\n",
    "\n",
    "\n",
    "```\n",
    "MAPE = 8.55\n",
    "```\n",
    "-----\n",
    "#### MODEL : RandomForestRegressor\n",
    "- Ajout de  `New_Price`\n",
    "\n",
    "`V7 = ['Make' ,'Model', 'Model_year' , 'Power', 'Mileage', \n",
    "              \"gearbox_meca\", 'gearbox_auto', 'Doors',  'Colors',\n",
    "              \"Fuel_GNV\", \"Fuel_GPL\",\"Fuel_ethanol\",\"Fuel_diesel\",\"Fuel_elec\",\"Fuel_essence\",\"Fuel_hybrid_diesel_elect\",\"Fuel_hybrid_essence_elect\", \n",
    "              'Online_year', 'Online_month', 'Online_days', 'Ages', \n",
    "              'Cylinder', 'Horses', 'New_Price']`\n",
    "\n",
    "```\n",
    "MAPE = 7.81\n",
    "```\n",
    "\n",
    "-----\n",
    "\n",
    "#### MODEL : XGBoostRegressor  \n",
    "\n",
    "`V8 = ['Make' ,'Model', 'Model_year' , 'Power', 'Mileage', \n",
    "              \"gearbox_meca\", 'gearbox_auto', 'Doors',  'Colors',\n",
    "              \"Fuel_GNV\", \"Fuel_GPL\",\"Fuel_ethanol\",\"Fuel_diesel\",\"Fuel_elec\",\"Fuel_essence\",\"Fuel_hybrid_diesel_elect\",\"Fuel_hybrid_essence_elect\", \n",
    "              'Online_year', 'Online_month', 'Online_days', 'Ages', \n",
    "              'Cylinder', 'Horses', 'New_Price']`\n",
    "\n",
    "```\n",
    "MAPE = 7.00\n",
    "```\n"
   ]
  },
  {
   "cell_type": "code",
   "execution_count": null,
   "metadata": {},
   "outputs": [],
   "source": []
  }
 ],
 "metadata": {
  "kernelspec": {
   "display_name": "Python 3",
   "language": "python",
   "name": "python3"
  },
  "language_info": {
   "codemirror_mode": {
    "name": "ipython",
    "version": 3
   },
   "file_extension": ".py",
   "mimetype": "text/x-python",
   "name": "python",
   "nbconvert_exporter": "python",
   "pygments_lexer": "ipython3",
   "version": "3.7.6"
  }
 },
 "nbformat": 4,
 "nbformat_minor": 4
}
